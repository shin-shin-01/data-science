{
 "cells": [
  {
   "cell_type": "markdown",
   "metadata": {},
   "source": [
    "# ロールプレイ２\n",
    "今、あなたは法人調査会社に勤めています。 現在会社ででは、企業の経営データ(従業員数、売上高...)を集めたデータを保持していますが <br>\n",
    "このデータをつかって、**企業の業績見通し、特に今後、倒産する可能性があるかないか** を予測し、データと併せて予測値を金融機関に販売するビジネスを行う事にしました。<br>\n",
    "あなたは、この予測を担当します。"
   ]
  },
  {
   "cell_type": "markdown",
   "metadata": {},
   "source": [
    "---\n",
    "企業経営状況データ(company_data.csv)\n",
    "*  会社コード\n",
    "*  倒産フラグ\n",
    "*  売上高(千円)\n",
    "*  従業員数\n",
    "*  資本金(千円)\n",
    "*  総資本(百万円)\n",
    "*  自己資本(百万円)\n",
    "*  総資本経常利益率(%)\n",
    "*  総資本企業収益率(%)\n",
    "*  総資本税引前当期利益率(%) \n",
    "*  売上高営業費用率(%)\n",
    "*  売上高売上原価率(%)\n",
    "*  売上高販売管理費率(%)\n",
    "*  売上高営業外収益率(%)\n",
    "*  売上高営業外費用率(%)\n",
    "*  売上高経常利益率(%)\n",
    "*  売上高税引前当期利益率(%) \n",
    "* 売上高当期利益率(%)\n",
    "*  売上高金融収支比率(%)\n",
    "*  売上高金利負担率(%)\n",
    "*  資本金倍率(倍)\n",
    "*  総資本回転期間(月)\n",
    "*  固定資産回転期間(月)\n",
    "*  有形固定資産回転期間(月) \n",
    "* 売掛金回転期間(月)\n",
    "*  棚卸資産回転期間(月)\n",
    "*  商品・製品回転期間(月)\n",
    "*  買入債務回転期間(月)\n",
    "*  支払手形回転期間(月)\n",
    "*  買掛金回転期間(月)\n",
    "*  現預金手持日数(日)\n",
    "\n",
    "---"
   ]
  },
  {
   "cell_type": "markdown",
   "metadata": {},
   "source": [
    "### 注意！\n",
    "分析は company_data.csv を使って実施してください。<br>\n",
    "ただし最終レポートでは accuracy_report.csv のデータを使って<br>\n",
    "実際にどのくらいの精度が出せたかも報告してください。<br>\n",
    "\n",
    "---\n",
    "※ モデルを作るときは company_data.csv をデータ分割して訓練用データ/検証用データを作るようにしてください。<br>\n",
    "間違っても company_data.csv を訓練用、accuracy_report.csv を 検証用データにしてモデルを作る...のような事はしないでください。\n",
    "\n",
    "---"
   ]
  },
  {
   "cell_type": "code",
   "execution_count": 891,
   "metadata": {},
   "outputs": [],
   "source": [
    "import warnings\n",
    "warnings.filterwarnings('ignore')\n",
    "import pandas as pd\n",
    "from IPython.display import display\n",
    "import matplotlib.pyplot as plt"
   ]
  },
  {
   "cell_type": "markdown",
   "metadata": {},
   "source": [
    "## データ読み込み"
   ]
  },
  {
   "cell_type": "code",
   "execution_count": 892,
   "metadata": {},
   "outputs": [
    {
     "data": {
      "text/html": [
       "<div>\n",
       "<style scoped>\n",
       "    .dataframe tbody tr th:only-of-type {\n",
       "        vertical-align: middle;\n",
       "    }\n",
       "\n",
       "    .dataframe tbody tr th {\n",
       "        vertical-align: top;\n",
       "    }\n",
       "\n",
       "    .dataframe thead th {\n",
       "        text-align: right;\n",
       "    }\n",
       "</style>\n",
       "<table border=\"1\" class=\"dataframe\">\n",
       "  <thead>\n",
       "    <tr style=\"text-align: right;\">\n",
       "      <th></th>\n",
       "      <th>KAISHA_CODE</th>\n",
       "      <th>TOSAN_FLG</th>\n",
       "      <th>URIAGE</th>\n",
       "      <th>JUGYOIN_SU</th>\n",
       "      <th>SHIHON_KIN</th>\n",
       "      <th>SOU_SHIHON</th>\n",
       "      <th>JIKO_SHIHON</th>\n",
       "      <th>SO_SHIHON_KEIJO_RIEKI_RITU</th>\n",
       "      <th>SO_SHIHON_KIGYO_SHUEKI_RITU</th>\n",
       "      <th>SO_SHIHON_ZEIBIKIMAE_RIEKI_RITU</th>\n",
       "      <th>...</th>\n",
       "      <th>SO_SHIHON_KAITEN_KIKAN</th>\n",
       "      <th>KOTEI_SHISAN_KAITEN_KIKAN</th>\n",
       "      <th>YUKEI_KOTEI_SHISAN_KAITEN_KIKAN</th>\n",
       "      <th>URIKAKE_KAITEN_KIKAN</th>\n",
       "      <th>TANAOROSHI_KAITEN_KIKAN</th>\n",
       "      <th>SHOHIN_KAITEN_KIKAN</th>\n",
       "      <th>KAIIRE_SAIMU_KAITEN_KIKAN</th>\n",
       "      <th>SHIHARAI_TEGATA_KAITEN_KIKAN</th>\n",
       "      <th>KAIKAKE_KAITEN_KIKAN</th>\n",
       "      <th>GEN_YOKIN_TEMOCHI_NISSU</th>\n",
       "    </tr>\n",
       "  </thead>\n",
       "  <tbody>\n",
       "    <tr>\n",
       "      <th>0</th>\n",
       "      <td>C09813</td>\n",
       "      <td>0</td>\n",
       "      <td>156113</td>\n",
       "      <td>2</td>\n",
       "      <td>10000</td>\n",
       "      <td>457</td>\n",
       "      <td>151</td>\n",
       "      <td>4.01</td>\n",
       "      <td>4.94</td>\n",
       "      <td>4.01</td>\n",
       "      <td>...</td>\n",
       "      <td>28.14</td>\n",
       "      <td>16.00</td>\n",
       "      <td>14.05</td>\n",
       "      <td>0.00</td>\n",
       "      <td>0.51</td>\n",
       "      <td>0.00</td>\n",
       "      <td>0.00</td>\n",
       "      <td>0.00</td>\n",
       "      <td>0.00</td>\n",
       "      <td>334.57</td>\n",
       "    </tr>\n",
       "    <tr>\n",
       "      <th>1</th>\n",
       "      <td>C00003</td>\n",
       "      <td>0</td>\n",
       "      <td>113483</td>\n",
       "      <td>9</td>\n",
       "      <td>10000</td>\n",
       "      <td>166</td>\n",
       "      <td>-14</td>\n",
       "      <td>37.78</td>\n",
       "      <td>39.59</td>\n",
       "      <td>38.38</td>\n",
       "      <td>...</td>\n",
       "      <td>14.06</td>\n",
       "      <td>9.45</td>\n",
       "      <td>9.08</td>\n",
       "      <td>0.56</td>\n",
       "      <td>1.18</td>\n",
       "      <td>0.06</td>\n",
       "      <td>0.40</td>\n",
       "      <td>0.00</td>\n",
       "      <td>0.40</td>\n",
       "      <td>43.36</td>\n",
       "    </tr>\n",
       "    <tr>\n",
       "      <th>2</th>\n",
       "      <td>C00006</td>\n",
       "      <td>0</td>\n",
       "      <td>25370</td>\n",
       "      <td>12</td>\n",
       "      <td>72400</td>\n",
       "      <td>375</td>\n",
       "      <td>-39</td>\n",
       "      <td>-27.38</td>\n",
       "      <td>-26.38</td>\n",
       "      <td>-27.38</td>\n",
       "      <td>...</td>\n",
       "      <td>74.75</td>\n",
       "      <td>49.02</td>\n",
       "      <td>39.42</td>\n",
       "      <td>1.64</td>\n",
       "      <td>14.84</td>\n",
       "      <td>9.70</td>\n",
       "      <td>6.37</td>\n",
       "      <td>0.00</td>\n",
       "      <td>4.83</td>\n",
       "      <td>7.24</td>\n",
       "    </tr>\n",
       "    <tr>\n",
       "      <th>3</th>\n",
       "      <td>C00011</td>\n",
       "      <td>0</td>\n",
       "      <td>7209</td>\n",
       "      <td>2</td>\n",
       "      <td>300</td>\n",
       "      <td>62</td>\n",
       "      <td>22</td>\n",
       "      <td>6.17</td>\n",
       "      <td>6.49</td>\n",
       "      <td>6.28</td>\n",
       "      <td>...</td>\n",
       "      <td>74.75</td>\n",
       "      <td>49.02</td>\n",
       "      <td>39.42</td>\n",
       "      <td>3.28</td>\n",
       "      <td>12.97</td>\n",
       "      <td>0.00</td>\n",
       "      <td>0.38</td>\n",
       "      <td>0.00</td>\n",
       "      <td>0.38</td>\n",
       "      <td>322.20</td>\n",
       "    </tr>\n",
       "    <tr>\n",
       "      <th>4</th>\n",
       "      <td>C00015</td>\n",
       "      <td>0</td>\n",
       "      <td>107643</td>\n",
       "      <td>3</td>\n",
       "      <td>30000</td>\n",
       "      <td>92</td>\n",
       "      <td>0</td>\n",
       "      <td>1.00</td>\n",
       "      <td>1.55</td>\n",
       "      <td>1.00</td>\n",
       "      <td>...</td>\n",
       "      <td>8.28</td>\n",
       "      <td>5.49</td>\n",
       "      <td>5.29</td>\n",
       "      <td>1.38</td>\n",
       "      <td>1.18</td>\n",
       "      <td>1.18</td>\n",
       "      <td>0.15</td>\n",
       "      <td>0.00</td>\n",
       "      <td>0.15</td>\n",
       "      <td>0.94</td>\n",
       "    </tr>\n",
       "    <tr>\n",
       "      <th>...</th>\n",
       "      <td>...</td>\n",
       "      <td>...</td>\n",
       "      <td>...</td>\n",
       "      <td>...</td>\n",
       "      <td>...</td>\n",
       "      <td>...</td>\n",
       "      <td>...</td>\n",
       "      <td>...</td>\n",
       "      <td>...</td>\n",
       "      <td>...</td>\n",
       "      <td>...</td>\n",
       "      <td>...</td>\n",
       "      <td>...</td>\n",
       "      <td>...</td>\n",
       "      <td>...</td>\n",
       "      <td>...</td>\n",
       "      <td>...</td>\n",
       "      <td>...</td>\n",
       "      <td>...</td>\n",
       "      <td>...</td>\n",
       "      <td>...</td>\n",
       "    </tr>\n",
       "    <tr>\n",
       "      <th>10082</th>\n",
       "      <td>C07071</td>\n",
       "      <td>0</td>\n",
       "      <td>73920</td>\n",
       "      <td>7</td>\n",
       "      <td>10000</td>\n",
       "      <td>126</td>\n",
       "      <td>1</td>\n",
       "      <td>6.47</td>\n",
       "      <td>8.17</td>\n",
       "      <td>6.47</td>\n",
       "      <td>...</td>\n",
       "      <td>16.47</td>\n",
       "      <td>7.09</td>\n",
       "      <td>7.03</td>\n",
       "      <td>1.39</td>\n",
       "      <td>1.66</td>\n",
       "      <td>0.61</td>\n",
       "      <td>0.64</td>\n",
       "      <td>0.00</td>\n",
       "      <td>0.64</td>\n",
       "      <td>62.51</td>\n",
       "    </tr>\n",
       "    <tr>\n",
       "      <th>10083</th>\n",
       "      <td>C07101</td>\n",
       "      <td>0</td>\n",
       "      <td>109326</td>\n",
       "      <td>11</td>\n",
       "      <td>10000</td>\n",
       "      <td>81</td>\n",
       "      <td>-12</td>\n",
       "      <td>3.49</td>\n",
       "      <td>4.71</td>\n",
       "      <td>4.00</td>\n",
       "      <td>...</td>\n",
       "      <td>7.20</td>\n",
       "      <td>4.78</td>\n",
       "      <td>4.59</td>\n",
       "      <td>0.58</td>\n",
       "      <td>0.43</td>\n",
       "      <td>0.43</td>\n",
       "      <td>0.80</td>\n",
       "      <td>0.32</td>\n",
       "      <td>0.48</td>\n",
       "      <td>5.51</td>\n",
       "    </tr>\n",
       "    <tr>\n",
       "      <th>10084</th>\n",
       "      <td>C07113</td>\n",
       "      <td>0</td>\n",
       "      <td>1080622</td>\n",
       "      <td>64</td>\n",
       "      <td>319455</td>\n",
       "      <td>2469</td>\n",
       "      <td>1742</td>\n",
       "      <td>1.08</td>\n",
       "      <td>1.34</td>\n",
       "      <td>1.08</td>\n",
       "      <td>...</td>\n",
       "      <td>21.94</td>\n",
       "      <td>15.37</td>\n",
       "      <td>7.87</td>\n",
       "      <td>1.24</td>\n",
       "      <td>2.17</td>\n",
       "      <td>0.42</td>\n",
       "      <td>2.30</td>\n",
       "      <td>1.83</td>\n",
       "      <td>0.48</td>\n",
       "      <td>41.77</td>\n",
       "    </tr>\n",
       "    <tr>\n",
       "      <th>10085</th>\n",
       "      <td>C07121</td>\n",
       "      <td>0</td>\n",
       "      <td>919778</td>\n",
       "      <td>59</td>\n",
       "      <td>25200</td>\n",
       "      <td>1592</td>\n",
       "      <td>1213</td>\n",
       "      <td>9.80</td>\n",
       "      <td>9.94</td>\n",
       "      <td>1.92</td>\n",
       "      <td>...</td>\n",
       "      <td>16.63</td>\n",
       "      <td>6.33</td>\n",
       "      <td>4.70</td>\n",
       "      <td>4.10</td>\n",
       "      <td>1.33</td>\n",
       "      <td>1.33</td>\n",
       "      <td>1.77</td>\n",
       "      <td>0.96</td>\n",
       "      <td>0.81</td>\n",
       "      <td>136.55</td>\n",
       "    </tr>\n",
       "    <tr>\n",
       "      <th>10086</th>\n",
       "      <td>C07125</td>\n",
       "      <td>0</td>\n",
       "      <td>1374074</td>\n",
       "      <td>110</td>\n",
       "      <td>72000</td>\n",
       "      <td>1880</td>\n",
       "      <td>964</td>\n",
       "      <td>0.11</td>\n",
       "      <td>0.59</td>\n",
       "      <td>0.10</td>\n",
       "      <td>...</td>\n",
       "      <td>13.14</td>\n",
       "      <td>5.85</td>\n",
       "      <td>4.76</td>\n",
       "      <td>2.38</td>\n",
       "      <td>1.01</td>\n",
       "      <td>0.00</td>\n",
       "      <td>2.26</td>\n",
       "      <td>1.00</td>\n",
       "      <td>1.27</td>\n",
       "      <td>99.37</td>\n",
       "    </tr>\n",
       "  </tbody>\n",
       "</table>\n",
       "<p>10087 rows × 31 columns</p>\n",
       "</div>"
      ],
      "text/plain": [
       "      KAISHA_CODE  TOSAN_FLG   URIAGE  JUGYOIN_SU  SHIHON_KIN  SOU_SHIHON  \\\n",
       "0          C09813          0   156113           2       10000         457   \n",
       "1          C00003          0   113483           9       10000         166   \n",
       "2          C00006          0    25370          12       72400         375   \n",
       "3          C00011          0     7209           2         300          62   \n",
       "4          C00015          0   107643           3       30000          92   \n",
       "...           ...        ...      ...         ...         ...         ...   \n",
       "10082      C07071          0    73920           7       10000         126   \n",
       "10083      C07101          0   109326          11       10000          81   \n",
       "10084      C07113          0  1080622          64      319455        2469   \n",
       "10085      C07121          0   919778          59       25200        1592   \n",
       "10086      C07125          0  1374074         110       72000        1880   \n",
       "\n",
       "       JIKO_SHIHON  SO_SHIHON_KEIJO_RIEKI_RITU  SO_SHIHON_KIGYO_SHUEKI_RITU  \\\n",
       "0              151                        4.01                         4.94   \n",
       "1              -14                       37.78                        39.59   \n",
       "2              -39                      -27.38                       -26.38   \n",
       "3               22                        6.17                         6.49   \n",
       "4                0                        1.00                         1.55   \n",
       "...            ...                         ...                          ...   \n",
       "10082            1                        6.47                         8.17   \n",
       "10083          -12                        3.49                         4.71   \n",
       "10084         1742                        1.08                         1.34   \n",
       "10085         1213                        9.80                         9.94   \n",
       "10086          964                        0.11                         0.59   \n",
       "\n",
       "       SO_SHIHON_ZEIBIKIMAE_RIEKI_RITU  ...  SO_SHIHON_KAITEN_KIKAN  \\\n",
       "0                                 4.01  ...                   28.14   \n",
       "1                                38.38  ...                   14.06   \n",
       "2                               -27.38  ...                   74.75   \n",
       "3                                 6.28  ...                   74.75   \n",
       "4                                 1.00  ...                    8.28   \n",
       "...                                ...  ...                     ...   \n",
       "10082                             6.47  ...                   16.47   \n",
       "10083                             4.00  ...                    7.20   \n",
       "10084                             1.08  ...                   21.94   \n",
       "10085                             1.92  ...                   16.63   \n",
       "10086                             0.10  ...                   13.14   \n",
       "\n",
       "       KOTEI_SHISAN_KAITEN_KIKAN  YUKEI_KOTEI_SHISAN_KAITEN_KIKAN  \\\n",
       "0                          16.00                            14.05   \n",
       "1                           9.45                             9.08   \n",
       "2                          49.02                            39.42   \n",
       "3                          49.02                            39.42   \n",
       "4                           5.49                             5.29   \n",
       "...                          ...                              ...   \n",
       "10082                       7.09                             7.03   \n",
       "10083                       4.78                             4.59   \n",
       "10084                      15.37                             7.87   \n",
       "10085                       6.33                             4.70   \n",
       "10086                       5.85                             4.76   \n",
       "\n",
       "       URIKAKE_KAITEN_KIKAN  TANAOROSHI_KAITEN_KIKAN  SHOHIN_KAITEN_KIKAN  \\\n",
       "0                      0.00                     0.51                 0.00   \n",
       "1                      0.56                     1.18                 0.06   \n",
       "2                      1.64                    14.84                 9.70   \n",
       "3                      3.28                    12.97                 0.00   \n",
       "4                      1.38                     1.18                 1.18   \n",
       "...                     ...                      ...                  ...   \n",
       "10082                  1.39                     1.66                 0.61   \n",
       "10083                  0.58                     0.43                 0.43   \n",
       "10084                  1.24                     2.17                 0.42   \n",
       "10085                  4.10                     1.33                 1.33   \n",
       "10086                  2.38                     1.01                 0.00   \n",
       "\n",
       "       KAIIRE_SAIMU_KAITEN_KIKAN  SHIHARAI_TEGATA_KAITEN_KIKAN  \\\n",
       "0                           0.00                          0.00   \n",
       "1                           0.40                          0.00   \n",
       "2                           6.37                          0.00   \n",
       "3                           0.38                          0.00   \n",
       "4                           0.15                          0.00   \n",
       "...                          ...                           ...   \n",
       "10082                       0.64                          0.00   \n",
       "10083                       0.80                          0.32   \n",
       "10084                       2.30                          1.83   \n",
       "10085                       1.77                          0.96   \n",
       "10086                       2.26                          1.00   \n",
       "\n",
       "       KAIKAKE_KAITEN_KIKAN  GEN_YOKIN_TEMOCHI_NISSU  \n",
       "0                      0.00                   334.57  \n",
       "1                      0.40                    43.36  \n",
       "2                      4.83                     7.24  \n",
       "3                      0.38                   322.20  \n",
       "4                      0.15                     0.94  \n",
       "...                     ...                      ...  \n",
       "10082                  0.64                    62.51  \n",
       "10083                  0.48                     5.51  \n",
       "10084                  0.48                    41.77  \n",
       "10085                  0.81                   136.55  \n",
       "10086                  1.27                    99.37  \n",
       "\n",
       "[10087 rows x 31 columns]"
      ]
     },
     "execution_count": 892,
     "metadata": {},
     "output_type": "execute_result"
    }
   ],
   "source": [
    "company = pd.read_csv(\"./data/company_data.csv\")\n",
    "company"
   ]
  },
  {
   "cell_type": "markdown",
   "metadata": {},
   "source": [
    "## データ分析"
   ]
  },
  {
   "cell_type": "code",
   "execution_count": 893,
   "metadata": {
    "scrolled": true
   },
   "outputs": [
    {
     "data": {
      "text/html": [
       "<div>\n",
       "<style scoped>\n",
       "    .dataframe tbody tr th:only-of-type {\n",
       "        vertical-align: middle;\n",
       "    }\n",
       "\n",
       "    .dataframe tbody tr th {\n",
       "        vertical-align: top;\n",
       "    }\n",
       "\n",
       "    .dataframe thead th {\n",
       "        text-align: right;\n",
       "    }\n",
       "</style>\n",
       "<table border=\"1\" class=\"dataframe\">\n",
       "  <thead>\n",
       "    <tr style=\"text-align: right;\">\n",
       "      <th></th>\n",
       "      <th>TOSAN_FLG</th>\n",
       "      <th>URIAGE</th>\n",
       "      <th>JUGYOIN_SU</th>\n",
       "      <th>SHIHON_KIN</th>\n",
       "      <th>SOU_SHIHON</th>\n",
       "      <th>JIKO_SHIHON</th>\n",
       "      <th>SO_SHIHON_KEIJO_RIEKI_RITU</th>\n",
       "      <th>SO_SHIHON_KIGYO_SHUEKI_RITU</th>\n",
       "      <th>SO_SHIHON_ZEIBIKIMAE_RIEKI_RITU</th>\n",
       "      <th>URIAGE_EIGYO_HIYO_RITU</th>\n",
       "      <th>...</th>\n",
       "      <th>SO_SHIHON_KAITEN_KIKAN</th>\n",
       "      <th>KOTEI_SHISAN_KAITEN_KIKAN</th>\n",
       "      <th>YUKEI_KOTEI_SHISAN_KAITEN_KIKAN</th>\n",
       "      <th>URIKAKE_KAITEN_KIKAN</th>\n",
       "      <th>TANAOROSHI_KAITEN_KIKAN</th>\n",
       "      <th>SHOHIN_KAITEN_KIKAN</th>\n",
       "      <th>KAIIRE_SAIMU_KAITEN_KIKAN</th>\n",
       "      <th>SHIHARAI_TEGATA_KAITEN_KIKAN</th>\n",
       "      <th>KAIKAKE_KAITEN_KIKAN</th>\n",
       "      <th>GEN_YOKIN_TEMOCHI_NISSU</th>\n",
       "    </tr>\n",
       "  </thead>\n",
       "  <tbody>\n",
       "    <tr>\n",
       "      <th>count</th>\n",
       "      <td>10087.000000</td>\n",
       "      <td>1.008700e+04</td>\n",
       "      <td>10087.000000</td>\n",
       "      <td>1.008700e+04</td>\n",
       "      <td>10087.000000</td>\n",
       "      <td>10087.000000</td>\n",
       "      <td>10087.000000</td>\n",
       "      <td>9951.000000</td>\n",
       "      <td>10087.000000</td>\n",
       "      <td>10081.000000</td>\n",
       "      <td>...</td>\n",
       "      <td>10081.000000</td>\n",
       "      <td>10081.000000</td>\n",
       "      <td>10080.000000</td>\n",
       "      <td>10081.000000</td>\n",
       "      <td>10081.000000</td>\n",
       "      <td>10080.000000</td>\n",
       "      <td>10081.000000</td>\n",
       "      <td>10081.000000</td>\n",
       "      <td>10081.000000</td>\n",
       "      <td>10081.000000</td>\n",
       "    </tr>\n",
       "    <tr>\n",
       "      <th>mean</th>\n",
       "      <td>0.026866</td>\n",
       "      <td>2.603295e+06</td>\n",
       "      <td>69.240210</td>\n",
       "      <td>2.385420e+05</td>\n",
       "      <td>2173.561614</td>\n",
       "      <td>995.768514</td>\n",
       "      <td>2.201008</td>\n",
       "      <td>3.215335</td>\n",
       "      <td>1.857469</td>\n",
       "      <td>99.213891</td>\n",
       "      <td>...</td>\n",
       "      <td>13.278228</td>\n",
       "      <td>6.169051</td>\n",
       "      <td>4.728933</td>\n",
       "      <td>1.775806</td>\n",
       "      <td>1.511681</td>\n",
       "      <td>0.655158</td>\n",
       "      <td>1.382298</td>\n",
       "      <td>0.623670</td>\n",
       "      <td>0.748314</td>\n",
       "      <td>74.289881</td>\n",
       "    </tr>\n",
       "    <tr>\n",
       "      <th>std</th>\n",
       "      <td>0.161701</td>\n",
       "      <td>3.227547e+07</td>\n",
       "      <td>416.948212</td>\n",
       "      <td>3.353636e+06</td>\n",
       "      <td>6532.250432</td>\n",
       "      <td>3704.656916</td>\n",
       "      <td>8.983209</td>\n",
       "      <td>8.864260</td>\n",
       "      <td>9.524108</td>\n",
       "      <td>9.782118</td>\n",
       "      <td>...</td>\n",
       "      <td>9.278743</td>\n",
       "      <td>6.425339</td>\n",
       "      <td>5.348956</td>\n",
       "      <td>1.146118</td>\n",
       "      <td>1.874442</td>\n",
       "      <td>1.226031</td>\n",
       "      <td>1.077590</td>\n",
       "      <td>0.814702</td>\n",
       "      <td>0.664581</td>\n",
       "      <td>87.524091</td>\n",
       "    </tr>\n",
       "    <tr>\n",
       "      <th>min</th>\n",
       "      <td>0.000000</td>\n",
       "      <td>0.000000e+00</td>\n",
       "      <td>0.000000</td>\n",
       "      <td>5.000000e+01</td>\n",
       "      <td>8.000000</td>\n",
       "      <td>-467.000000</td>\n",
       "      <td>-52.130000</td>\n",
       "      <td>-50.530000</td>\n",
       "      <td>-55.120000</td>\n",
       "      <td>76.100000</td>\n",
       "      <td>...</td>\n",
       "      <td>1.940000</td>\n",
       "      <td>0.030000</td>\n",
       "      <td>0.000000</td>\n",
       "      <td>0.000000</td>\n",
       "      <td>0.000000</td>\n",
       "      <td>0.000000</td>\n",
       "      <td>0.000000</td>\n",
       "      <td>0.000000</td>\n",
       "      <td>0.000000</td>\n",
       "      <td>0.120000</td>\n",
       "    </tr>\n",
       "    <tr>\n",
       "      <th>25%</th>\n",
       "      <td>0.000000</td>\n",
       "      <td>1.929120e+05</td>\n",
       "      <td>10.000000</td>\n",
       "      <td>1.000000e+04</td>\n",
       "      <td>210.000000</td>\n",
       "      <td>20.000000</td>\n",
       "      <td>0.130000</td>\n",
       "      <td>0.940000</td>\n",
       "      <td>0.110000</td>\n",
       "      <td>95.490000</td>\n",
       "      <td>...</td>\n",
       "      <td>7.730000</td>\n",
       "      <td>2.280000</td>\n",
       "      <td>1.430000</td>\n",
       "      <td>1.130000</td>\n",
       "      <td>0.380000</td>\n",
       "      <td>0.000000</td>\n",
       "      <td>0.560000</td>\n",
       "      <td>0.000000</td>\n",
       "      <td>0.350000</td>\n",
       "      <td>22.020000</td>\n",
       "    </tr>\n",
       "    <tr>\n",
       "      <th>50%</th>\n",
       "      <td>0.000000</td>\n",
       "      <td>4.709500e+05</td>\n",
       "      <td>25.000000</td>\n",
       "      <td>2.000000e+04</td>\n",
       "      <td>557.000000</td>\n",
       "      <td>129.000000</td>\n",
       "      <td>1.880000</td>\n",
       "      <td>2.970000</td>\n",
       "      <td>1.600000</td>\n",
       "      <td>98.300000</td>\n",
       "      <td>...</td>\n",
       "      <td>11.150000</td>\n",
       "      <td>4.510000</td>\n",
       "      <td>3.270000</td>\n",
       "      <td>1.510000</td>\n",
       "      <td>0.950000</td>\n",
       "      <td>0.190000</td>\n",
       "      <td>1.150000</td>\n",
       "      <td>0.190000</td>\n",
       "      <td>0.610000</td>\n",
       "      <td>47.870000</td>\n",
       "    </tr>\n",
       "    <tr>\n",
       "      <th>75%</th>\n",
       "      <td>0.000000</td>\n",
       "      <td>1.220843e+06</td>\n",
       "      <td>55.500000</td>\n",
       "      <td>4.890000e+04</td>\n",
       "      <td>1564.000000</td>\n",
       "      <td>537.500000</td>\n",
       "      <td>5.450000</td>\n",
       "      <td>6.260000</td>\n",
       "      <td>5.030000</td>\n",
       "      <td>100.520000</td>\n",
       "      <td>...</td>\n",
       "      <td>16.070000</td>\n",
       "      <td>7.840000</td>\n",
       "      <td>6.040000</td>\n",
       "      <td>2.100000</td>\n",
       "      <td>1.940000</td>\n",
       "      <td>0.782500</td>\n",
       "      <td>1.980000</td>\n",
       "      <td>1.110000</td>\n",
       "      <td>0.940000</td>\n",
       "      <td>93.140000</td>\n",
       "    </tr>\n",
       "    <tr>\n",
       "      <th>max</th>\n",
       "      <td>1.000000</td>\n",
       "      <td>2.166654e+09</td>\n",
       "      <td>26114.000000</td>\n",
       "      <td>1.747620e+08</td>\n",
       "      <td>66464.000000</td>\n",
       "      <td>37625.000000</td>\n",
       "      <td>37.780000</td>\n",
       "      <td>39.590000</td>\n",
       "      <td>41.960000</td>\n",
       "      <td>174.200000</td>\n",
       "      <td>...</td>\n",
       "      <td>74.750000</td>\n",
       "      <td>49.020000</td>\n",
       "      <td>39.420000</td>\n",
       "      <td>8.760000</td>\n",
       "      <td>14.840000</td>\n",
       "      <td>9.700000</td>\n",
       "      <td>6.370000</td>\n",
       "      <td>3.660000</td>\n",
       "      <td>4.830000</td>\n",
       "      <td>645.170000</td>\n",
       "    </tr>\n",
       "  </tbody>\n",
       "</table>\n",
       "<p>8 rows × 30 columns</p>\n",
       "</div>"
      ],
      "text/plain": [
       "          TOSAN_FLG        URIAGE    JUGYOIN_SU    SHIHON_KIN    SOU_SHIHON  \\\n",
       "count  10087.000000  1.008700e+04  10087.000000  1.008700e+04  10087.000000   \n",
       "mean       0.026866  2.603295e+06     69.240210  2.385420e+05   2173.561614   \n",
       "std        0.161701  3.227547e+07    416.948212  3.353636e+06   6532.250432   \n",
       "min        0.000000  0.000000e+00      0.000000  5.000000e+01      8.000000   \n",
       "25%        0.000000  1.929120e+05     10.000000  1.000000e+04    210.000000   \n",
       "50%        0.000000  4.709500e+05     25.000000  2.000000e+04    557.000000   \n",
       "75%        0.000000  1.220843e+06     55.500000  4.890000e+04   1564.000000   \n",
       "max        1.000000  2.166654e+09  26114.000000  1.747620e+08  66464.000000   \n",
       "\n",
       "        JIKO_SHIHON  SO_SHIHON_KEIJO_RIEKI_RITU  SO_SHIHON_KIGYO_SHUEKI_RITU  \\\n",
       "count  10087.000000                10087.000000                  9951.000000   \n",
       "mean     995.768514                    2.201008                     3.215335   \n",
       "std     3704.656916                    8.983209                     8.864260   \n",
       "min     -467.000000                  -52.130000                   -50.530000   \n",
       "25%       20.000000                    0.130000                     0.940000   \n",
       "50%      129.000000                    1.880000                     2.970000   \n",
       "75%      537.500000                    5.450000                     6.260000   \n",
       "max    37625.000000                   37.780000                    39.590000   \n",
       "\n",
       "       SO_SHIHON_ZEIBIKIMAE_RIEKI_RITU  URIAGE_EIGYO_HIYO_RITU  ...  \\\n",
       "count                     10087.000000            10081.000000  ...   \n",
       "mean                          1.857469               99.213891  ...   \n",
       "std                           9.524108                9.782118  ...   \n",
       "min                         -55.120000               76.100000  ...   \n",
       "25%                           0.110000               95.490000  ...   \n",
       "50%                           1.600000               98.300000  ...   \n",
       "75%                           5.030000              100.520000  ...   \n",
       "max                          41.960000              174.200000  ...   \n",
       "\n",
       "       SO_SHIHON_KAITEN_KIKAN  KOTEI_SHISAN_KAITEN_KIKAN  \\\n",
       "count            10081.000000               10081.000000   \n",
       "mean                13.278228                   6.169051   \n",
       "std                  9.278743                   6.425339   \n",
       "min                  1.940000                   0.030000   \n",
       "25%                  7.730000                   2.280000   \n",
       "50%                 11.150000                   4.510000   \n",
       "75%                 16.070000                   7.840000   \n",
       "max                 74.750000                  49.020000   \n",
       "\n",
       "       YUKEI_KOTEI_SHISAN_KAITEN_KIKAN  URIKAKE_KAITEN_KIKAN  \\\n",
       "count                     10080.000000          10081.000000   \n",
       "mean                          4.728933              1.775806   \n",
       "std                           5.348956              1.146118   \n",
       "min                           0.000000              0.000000   \n",
       "25%                           1.430000              1.130000   \n",
       "50%                           3.270000              1.510000   \n",
       "75%                           6.040000              2.100000   \n",
       "max                          39.420000              8.760000   \n",
       "\n",
       "       TANAOROSHI_KAITEN_KIKAN  SHOHIN_KAITEN_KIKAN  \\\n",
       "count             10081.000000         10080.000000   \n",
       "mean                  1.511681             0.655158   \n",
       "std                   1.874442             1.226031   \n",
       "min                   0.000000             0.000000   \n",
       "25%                   0.380000             0.000000   \n",
       "50%                   0.950000             0.190000   \n",
       "75%                   1.940000             0.782500   \n",
       "max                  14.840000             9.700000   \n",
       "\n",
       "       KAIIRE_SAIMU_KAITEN_KIKAN  SHIHARAI_TEGATA_KAITEN_KIKAN  \\\n",
       "count               10081.000000                  10081.000000   \n",
       "mean                    1.382298                      0.623670   \n",
       "std                     1.077590                      0.814702   \n",
       "min                     0.000000                      0.000000   \n",
       "25%                     0.560000                      0.000000   \n",
       "50%                     1.150000                      0.190000   \n",
       "75%                     1.980000                      1.110000   \n",
       "max                     6.370000                      3.660000   \n",
       "\n",
       "       KAIKAKE_KAITEN_KIKAN  GEN_YOKIN_TEMOCHI_NISSU  \n",
       "count          10081.000000             10081.000000  \n",
       "mean               0.748314                74.289881  \n",
       "std                0.664581                87.524091  \n",
       "min                0.000000                 0.120000  \n",
       "25%                0.350000                22.020000  \n",
       "50%                0.610000                47.870000  \n",
       "75%                0.940000                93.140000  \n",
       "max                4.830000               645.170000  \n",
       "\n",
       "[8 rows x 30 columns]"
      ]
     },
     "execution_count": 893,
     "metadata": {},
     "output_type": "execute_result"
    }
   ],
   "source": [
    "company.describe()"
   ]
  },
  {
   "cell_type": "code",
   "execution_count": 894,
   "metadata": {},
   "outputs": [
    {
     "data": {
      "text/plain": [
       "KAISHA_CODE                        10087\n",
       "TOSAN_FLG                              2\n",
       "URIAGE                             10049\n",
       "JUGYOIN_SU                           502\n",
       "SHIHON_KIN                          1079\n",
       "SOU_SHIHON                          3485\n",
       "JIKO_SHIHON                         2506\n",
       "SO_SHIHON_KEIJO_RIEKI_RITU          2876\n",
       "SO_SHIHON_KIGYO_SHUEKI_RITU         2828\n",
       "SO_SHIHON_ZEIBIKIMAE_RIEKI_RITU     2888\n",
       "URIAGE_EIGYO_HIYO_RITU              2784\n",
       "URIAGE_GENKA_RITU                   4552\n",
       "URIAGE_HANKANHI_RITU                4280\n",
       "URIAGE_EIGYO_GAI_SHUEKI_RITU        1057\n",
       "URIAGE_EIGYO_GAI_HIYO_RITU           788\n",
       "URIAGE_KEIJO_RIEKI_RITU             2792\n",
       "URIAGE_ZEIBIKIMAE_RIEKI_RITU        2787\n",
       "URIAGE_TOKI_RIEKI_RITU              2501\n",
       "URIAGE_KINYU_SHUSHI_RITU             811\n",
       "URIAGE_KINRI_FUTAN_RITU              606\n",
       "SHIHON_KIN_BAI_RITU                 4311\n",
       "SO_SHIHON_KAITEN_KIKAN              2661\n",
       "KOTEI_SHISAN_KAITEN_KIKAN           1913\n",
       "YUKEI_KOTEI_SHISAN_KAITEN_KIKAN     1647\n",
       "URIKAKE_KAITEN_KIKAN                 618\n",
       "TANAOROSHI_KAITEN_KIKAN              767\n",
       "SHOHIN_KAITEN_KIKAN                  542\n",
       "KAIIRE_SAIMU_KAITEN_KIKAN            502\n",
       "SHIHARAI_TEGATA_KAITEN_KIKAN         349\n",
       "KAIKAKE_KAITEN_KIKAN                 371\n",
       "GEN_YOKIN_TEMOCHI_NISSU             7273\n",
       "dtype: int64"
      ]
     },
     "execution_count": 894,
     "metadata": {},
     "output_type": "execute_result"
    }
   ],
   "source": [
    "company.nunique()"
   ]
  },
  {
   "cell_type": "markdown",
   "metadata": {},
   "source": [
    "#### 欠損値の確認"
   ]
  },
  {
   "cell_type": "code",
   "execution_count": 895,
   "metadata": {},
   "outputs": [
    {
     "data": {
      "text/plain": [
       "KAISHA_CODE                          0\n",
       "TOSAN_FLG                            0\n",
       "URIAGE                               0\n",
       "JUGYOIN_SU                           0\n",
       "SHIHON_KIN                           0\n",
       "SOU_SHIHON                           0\n",
       "JIKO_SHIHON                          0\n",
       "SO_SHIHON_KEIJO_RIEKI_RITU           0\n",
       "SO_SHIHON_KIGYO_SHUEKI_RITU        136\n",
       "SO_SHIHON_ZEIBIKIMAE_RIEKI_RITU      0\n",
       "URIAGE_EIGYO_HIYO_RITU               6\n",
       "URIAGE_GENKA_RITU                    6\n",
       "URIAGE_HANKANHI_RITU                 6\n",
       "URIAGE_EIGYO_GAI_SHUEKI_RITU         6\n",
       "URIAGE_EIGYO_GAI_HIYO_RITU           6\n",
       "URIAGE_KEIJO_RIEKI_RITU              6\n",
       "URIAGE_ZEIBIKIMAE_RIEKI_RITU         6\n",
       "URIAGE_TOKI_RIEKI_RITU               6\n",
       "URIAGE_KINYU_SHUSHI_RITU           157\n",
       "URIAGE_KINRI_FUTAN_RITU              6\n",
       "SHIHON_KIN_BAI_RITU                  0\n",
       "SO_SHIHON_KAITEN_KIKAN               6\n",
       "KOTEI_SHISAN_KAITEN_KIKAN            6\n",
       "YUKEI_KOTEI_SHISAN_KAITEN_KIKAN      7\n",
       "URIKAKE_KAITEN_KIKAN                 6\n",
       "TANAOROSHI_KAITEN_KIKAN              6\n",
       "SHOHIN_KAITEN_KIKAN                  7\n",
       "KAIIRE_SAIMU_KAITEN_KIKAN            6\n",
       "SHIHARAI_TEGATA_KAITEN_KIKAN         6\n",
       "KAIKAKE_KAITEN_KIKAN                 6\n",
       "GEN_YOKIN_TEMOCHI_NISSU              6\n",
       "dtype: int64"
      ]
     },
     "execution_count": 895,
     "metadata": {},
     "output_type": "execute_result"
    }
   ],
   "source": [
    "company.isna().sum()"
   ]
  },
  {
   "cell_type": "markdown",
   "metadata": {},
   "source": [
    "## データ前処理"
   ]
  },
  {
   "cell_type": "code",
   "execution_count": 896,
   "metadata": {},
   "outputs": [],
   "source": [
    "# データ分割を行う便利なモジュール train_test_split をインポート\n",
    "from sklearn.model_selection import train_test_split\n",
    "\n",
    "# データの標準化を行うためのモジュールをインポート\n",
    "from sklearn.preprocessing import StandardScaler"
   ]
  },
  {
   "cell_type": "code",
   "execution_count": 897,
   "metadata": {},
   "outputs": [
    {
     "name": "stdout",
     "output_type": "stream",
     "text": [
      "(7060, 25)\n",
      "(7060, 1)\n",
      "(3027, 25)\n",
      "(3027, 1)\n",
      "==========\n",
      "TRAIN. TOSAN_FLG = 2.72%\n",
      "TEST. TOSAN_FLG = 2.61%\n"
     ]
    }
   ],
   "source": [
    "def preprocess(df):\n",
    "    ### 一度 fillNAをしてみる\n",
    "    ### fillna してもいいのか吟味する必要はあり\n",
    "    df.fillna(0, inplace=True)\n",
    "#     df.dropna(inplace=True)\n",
    "    \n",
    "    columnList = df.columns.tolist()\n",
    "    ## 各会社固有のコードなので削除\n",
    "    columnList.remove(\"KAISHA_CODE\")\n",
    "    \n",
    "    columnList.remove(\"URIAGE\")\n",
    "    columnList.remove(\"JUGYOIN_SU\")\n",
    "    columnList.remove(\"SHIHON_KIN\")\n",
    "    columnList.remove(\"JIKO_SHIHON\")\n",
    "#     columnList.remove(\"SO_SHIHON_KEIJO_RIEKI_RITU\")\n",
    "#     columnList.remove(\"SO_SHIHON_KIGYO_SHUEKI_RITU\")\n",
    "#     columnList.remove(\"SO_SHIHON_ZEIBIKIMAE_RIEKI_RITU\")\n",
    "#     columnList.remove(\"URIAGE_EIGYO_HIYO_RITU\")\n",
    "#     columnList.remove(\"URIAGE_GENKA_RITU\")\n",
    "#     columnList.remove(\"URIAGE_HANKANHI_RITU\")\n",
    "#     columnList.remove(\"URIAGE_EIGYO_GAI_SHUEKI_RITU\")\n",
    "\n",
    "#     columnList.remove(\"SO_SHIHON_KAITEN_KIKAN\")\n",
    "#     columnList.remove(\"KOTEI_SHISAN_KAITEN_KIKAN\")\n",
    "#     columnList.remove(\"YUKEI_KOTEI_SHISAN_KAITEN_KIKAN\")\n",
    "#     columnList.remove(\"URIKAKE_KAITEN_KIKAN\")\n",
    "#     columnList.remove(\"TANAOROSHI_KAITEN_KIKAN\")\n",
    "#     columnList.remove(\"SHOHIN_KAITEN_KIKAN\")\n",
    " \n",
    "    ## 目的変数なので削除\n",
    "    columnList.remove(\"TOSAN_FLG\")\n",
    "\n",
    "    X = pd.DataFrame( df.loc[:, columnList] )\n",
    "    y = pd.DataFrame( df.loc[:, [\"TOSAN_FLG\"]] )\n",
    "    \n",
    "    return X, y\n",
    "\n",
    "\n",
    "\n",
    "\n",
    "## 使用データ決定\n",
    "X, y = preprocess(company)\n",
    "\n",
    "# データを訓練用データ・検証用データに分ける (訓練：検証　＝ 7:3)\n",
    "(X_train, X_test, y_train, y_test) = train_test_split(X, y, test_size = 0.3, random_state=1234)\n",
    "\n",
    "print(X_train.shape)\n",
    "print(y_train.shape)\n",
    "print(X_test.shape)\n",
    "print(y_test.shape)\n",
    "\n",
    "print('='*10)\n",
    "tmp = y_train.sum()/y_train.count()\n",
    "print(f'TRAIN. TOSAN_FLG = {float(tmp):.2%}')\n",
    "tmp = y_test.sum()/y_test.count()\n",
    "print(f'TEST. TOSAN_FLG = {float(tmp):.2%}')"
   ]
  },
  {
   "cell_type": "markdown",
   "metadata": {},
   "source": [
    "#### 変数の標準化  \n",
    "各変数、当該変数の平均値を引いてから、当該変数の標準偏差で割ります。（標準化）\n",
    "変数のスケールを揃えるために実行しています。"
   ]
  },
  {
   "cell_type": "code",
   "execution_count": 898,
   "metadata": {},
   "outputs": [],
   "source": [
    "# 説明変数を標準化（平均0、標準偏差1となるように変数変換）する\n",
    "# 標準偏差と正規化 http://ailaby.com/scaler/\n",
    "\n",
    "def standard(X_train, X_test):\n",
    "    sclr_X = StandardScaler()\n",
    "    sclr_X.fit(X_train)\n",
    "    X_train = sclr_X.transform(X_train)\n",
    "    X_test = sclr_X.transform(X_test)\n",
    "    \n",
    "    return X_train, X_test"
   ]
  },
  {
   "cell_type": "markdown",
   "metadata": {},
   "source": [
    "## 不均衡データ処理"
   ]
  },
  {
   "cell_type": "markdown",
   "metadata": {},
   "source": [
    "### アンダーサンプリング\n",
    "不均衡データ（0と1がアンバランス）な場合、比率を調整しておくことで、Precision や Recall が悪いモデルが構築されるのを避ける事ができます。\n",
    "\n",
    "RandomUnderSampler メソッドは 0 と 1 の比率を予め指定してから、説明変数・目的変数をセットで入力すると、0 を間引いてサンプリングする事で、指定した比率にサンプリングしたデータを返してくれます。"
   ]
  },
  {
   "cell_type": "code",
   "execution_count": 899,
   "metadata": {},
   "outputs": [],
   "source": [
    "## アンダーサンプリング用のライブラリをインポート\n",
    "from imblearn.under_sampling import RandomUnderSampler"
   ]
  },
  {
   "cell_type": "code",
   "execution_count": 900,
   "metadata": {},
   "outputs": [],
   "source": [
    "def UnderSampling(X_train, y_train):\n",
    "    print(\"\\n==== アンダーサンプリングを行う\")\n",
    "    ## 正例の数を保存\n",
    "    positive_count_train = int(y_train[\"TOSAN_FLG\"].sum())\n",
    "    ## 正例が20%になるまで負例をアンダーサンプリング\n",
    "    rus = RandomUnderSampler({0: positive_count_train*4, 1: positive_count_train}, random_state=1234)\n",
    "    print(rus)\n",
    "    \n",
    "    ## 学習用データに反映\n",
    "    X_train, y_train = rus.fit_sample(X_train, y_train)\n",
    "    \n",
    "    # サンプリング結果を表示\n",
    "    print( \"-----------------------------------------------------\" )\n",
    "    print( \"サンプリング後の説明変数の数と件数：\" + str(X_train.shape) )\n",
    "    print( \"サンプリング後の目的変数の数と件数：\" + str(y_train.shape) )\n",
    "    print( \"-----------------------------------------------------\" )\n",
    "    print( \"サンプリング後の目的変数＝ 0 の件数：\" + str(int(y_train.shape[0] - y_train.sum()) ))\n",
    "    print( \"サンプリング後の目的変数＝ 1 の件数：\" + str(int(y_train.sum()) ))\n",
    "    print( \"-----------------------------------------------------\" )\n",
    "    \n",
    "    return X_train, y_train"
   ]
  },
  {
   "cell_type": "markdown",
   "metadata": {},
   "source": [
    "### オーバーサンプリング\n",
    "不均衡データ（0と1がアンバランス）な場合、比率を調整しておくことで、Precision や Recall が悪いモデルが構築されるのを避ける事ができます。\n",
    "\n",
    "RandomOverSampler メソッドは 0 と 1 の比率を予め指定してから、説明変数・目的変数をセットで入力すると、1 を重複してサンプリングする事で、指定した比率にサンプリングしたデータを返してくれます。"
   ]
  },
  {
   "cell_type": "code",
   "execution_count": 901,
   "metadata": {},
   "outputs": [],
   "source": [
    "## オーバーサンプリング用のライブラリをインポート\n",
    "from imblearn.over_sampling import RandomOverSampler"
   ]
  },
  {
   "cell_type": "code",
   "execution_count": 902,
   "metadata": {},
   "outputs": [],
   "source": [
    "def OverSampling(X_train, y_train):\n",
    "    print(\"\\n==== オーバーサンプリングを行う\")\n",
    "    ## 負例の数を保存\n",
    "    negative_count_train = int(y_train.count() - y_train[\"TOSAN_FLG\"].sum())\n",
    "    ## 正例が20%になるまで正例をオーバーサンプリング\n",
    "    rus = RandomOverSampler({0: negative_count_train, 1: int(negative_count_train*0.2)}, random_state=1234)\n",
    "    print(rus)\n",
    "\n",
    "    ## 学習用データに反映\n",
    "    X_train, y_train = rus.fit_sample(X_train, y_train)\n",
    "    \n",
    "    # サンプリング結果を表示\n",
    "    print( \"-----------------------------------------------------\" )\n",
    "    print( \"サンプリング後の説明変数の数と件数：\" + str(X_train.shape) )\n",
    "    print( \"サンプリング後の目的変数の数と件数：\" + str(y_train.shape) )\n",
    "    print( \"-----------------------------------------------------\" )\n",
    "    print( \"サンプリング後の目的変数＝ 0 の件数：\" + str(int(y_train.shape[0] - y_train.sum()) ))\n",
    "    print( \"サンプリング後の目的変数＝ 1 の件数：\" + str(int(y_train.sum()) ))\n",
    "    print( \"-----------------------------------------------------\" )\n",
    "    \n",
    "    return X_train, y_train"
   ]
  },
  {
   "cell_type": "markdown",
   "metadata": {},
   "source": [
    "### SMOTE オーバーサンプリング\n",
    "不均衡データ（0と1がアンバランス）な場合、比率を調整しておくことで、Precision や Recall が悪いモデルが構築されるのを避ける事ができます。\n",
    "\n",
    "SMOTE メソッドは 0 と 1 の比率を予め指定してから、説明変数・目的変数をセットで入力すると、数の少ない方のサンプルをオーバーサンプリングし、 **0 と 1 の比率を 1 : 1**にしてくれます。\n",
    "\n",
    "オーバーサンプリング時に、元サンプルのうち比較的近い値をもつデータを何点かつかって（個数は k_neighbors で指定）、「何点かのデータからアルゴリズム※に従って生成した説明変数」「オーバーサンプリングする側の値を目的変数」とした新たなサンプル（元データに無いサンプル）を生成します。"
   ]
  },
  {
   "cell_type": "code",
   "execution_count": 903,
   "metadata": {},
   "outputs": [],
   "source": [
    "# SMOTE用のライブラリをインポート\n",
    "from imblearn.over_sampling import SMOTE"
   ]
  },
  {
   "cell_type": "code",
   "execution_count": 904,
   "metadata": {},
   "outputs": [],
   "source": [
    "def SMOTESampling(X_train, y_train):\n",
    "    print(\"\\n==== (SMOTE) オーバーサンプリングを行う\")\n",
    "    ## サンプル生成に使用するサンプル数 k_neighbors\n",
    "    smote_s = SMOTE( k_neighbors=3, random_state=1234)\n",
    "    print(smote_s)\n",
    "    \n",
    "    ## 学習用データに反映\n",
    "    X_train, y_train = smote_s.fit_sample(X_train, y_train)\n",
    "    \n",
    "    # サンプリング結果を表示\n",
    "    print( \"-----------------------------------------------------\" )\n",
    "    print( \"サンプリング後の説明変数の数と件数：\" + str(X_train.shape) )\n",
    "    print( \"サンプリング後の目的変数の数と件数：\" + str(y_train.shape) )\n",
    "    print( \"-----------------------------------------------------\" )\n",
    "    print( \"サンプリング後の目的変数＝ 0 の件数：\" + str(int(y_train.shape[0] - y_train.sum()) ))\n",
    "    print( \"サンプリング後の目的変数＝ 1 の件数：\" + str(int(y_train.sum()) ))\n",
    "    print( \"-----------------------------------------------------\" )\n",
    "    \n",
    "    return X_train, y_train"
   ]
  },
  {
   "cell_type": "markdown",
   "metadata": {},
   "source": [
    "## クロスバリデーション"
   ]
  },
  {
   "cell_type": "markdown",
   "metadata": {},
   "source": [
    "**データ**\n",
    "\n",
    "* 学習データ:テストデータ = 7:3\n",
    "* <s>学習データ(学習):学習データ(テスト) = 8:2 (cv=5)</s>\n",
    "\n",
    "正例が 3% しかないため 【 オーバーサンプリング / アンダーサンプリング 】を行う\n",
    "データがかなり少ないため「クロスバリデーション」で数を減らしてしまうと影響が大きくなる。ので一度導入しないで実装を行う"
   ]
  },
  {
   "cell_type": "markdown",
   "metadata": {},
   "source": [
    "## 精度検証"
   ]
  },
  {
   "cell_type": "code",
   "execution_count": 905,
   "metadata": {},
   "outputs": [],
   "source": [
    "# 正解率を作成するためのモジュールをインポート\n",
    "from sklearn.metrics import accuracy_score\n",
    "\n",
    "# 混合行列を作成するためのモジュールをインポート\n",
    "from sklearn.metrics import confusion_matrix\n",
    "\n",
    "# ROCを作成する\n",
    "from sklearn.metrics import roc_curve\n",
    "from sklearn.metrics import auc"
   ]
  },
  {
   "cell_type": "markdown",
   "metadata": {},
   "source": [
    "---\n",
    "\n",
    "#### ROC曲線\n",
    "ROC (Receiver Operating Characteristic) curve\n",
    "\n",
    "検査や診断薬の性能を2次元のグラフに表したもの。当該検査で異常と正常を区別するカットオフポイントごとに真陽性率（=TPF）と偽陽性率（=FPF）を計算し、縦軸にTPF、横軸にFPFをとった平面にプロットして線で結んで表す。\n",
    "\n",
    "ROC曲線を作成した時に、グラフの下の部分の面積をAUC（Area Under the Curve）とよぶ。AUCは0から1までの値をとり、値が1に近いほど判別能が高いことを示す。"
   ]
  },
  {
   "cell_type": "markdown",
   "metadata": {},
   "source": [
    "---\n",
    "#### predict(X)\n",
    "* [データ数]行 × [次元数]列の特徴量行列 X を引数にして、データ数分の予測ラベルを返す\n",
    "\n",
    "#### predict_proba(X)\n",
    "* [データ数]行 × [次元数]列の特徴量行列 X を引数にして、各データがそれぞれのクラスに所属する確率を返す。「列はクラス名でソートされていて、そのクラス名は classes_で見れる」\n",
    "\n",
    "---"
   ]
  },
  {
   "cell_type": "markdown",
   "metadata": {},
   "source": [
    "#### ROC曲線を算出・プロット: roc_curve()\n",
    "\n",
    "ROC曲線の算出にはsklearn.metricsモジュールのroc_curve()関数を使う。\n",
    "\n",
    "sklearn.metrics.roc_curve — scikit-learn 0.20.3 documentation\n",
    "第一引数に正解クラス、第二引数に予測スコアのリストや配列をそれぞれ指定する。\n",
    "\n",
    "予測スコアは機械学習のモデルなどによって予測された確率で、例えば1.0だと100%の確率で1だと予測、0.8だと80%の確率で1だと予測しているという意味合いの値。\n",
    "\n",
    "roc_curve()は3つの要素を持つタプルを返す。\n",
    "* 3つの要素は順番にfpr, tpr, thresholdsで、それぞれFPR（偽陽性率）、TPR（真陽性率）、閾値\n",
    "* 閾値：クラス０or１を分けるときの基準値 [配列]\n",
    "\n",
    "---"
   ]
  },
  {
   "cell_type": "code",
   "execution_count": 906,
   "metadata": {},
   "outputs": [
    {
     "data": {
      "text/html": [
       "<div>\n",
       "<style scoped>\n",
       "    .dataframe tbody tr th:only-of-type {\n",
       "        vertical-align: middle;\n",
       "    }\n",
       "\n",
       "    .dataframe tbody tr th {\n",
       "        vertical-align: top;\n",
       "    }\n",
       "\n",
       "    .dataframe thead th {\n",
       "        text-align: right;\n",
       "    }\n",
       "</style>\n",
       "<table border=\"1\" class=\"dataframe\">\n",
       "  <thead>\n",
       "    <tr style=\"text-align: right;\">\n",
       "      <th></th>\n",
       "      <th>訓練精度%</th>\n",
       "      <th>検証精度%</th>\n",
       "      <th>AUC(訓練)</th>\n",
       "      <th>AUC(検証)</th>\n",
       "      <th>AUC rate</th>\n",
       "      <th>訓練(TN 0-&gt;0)%</th>\n",
       "      <th>訓練(FP 0-&gt;1)%</th>\n",
       "      <th>訓練(FN 1-&gt;0)%</th>\n",
       "      <th>訓練(TP 1-&gt;1)%</th>\n",
       "      <th>検証(TN 0-&gt;0)%</th>\n",
       "      <th>検証(FP 0-&gt;1)%</th>\n",
       "      <th>検証(FN 1-&gt;0)%</th>\n",
       "      <th>検証(TP 1-&gt;1)%</th>\n",
       "    </tr>\n",
       "  </thead>\n",
       "  <tbody>\n",
       "  </tbody>\n",
       "</table>\n",
       "</div>"
      ],
      "text/plain": [
       "Empty DataFrame\n",
       "Columns: [訓練精度%, 検証精度%, AUC(訓練), AUC(検証), AUC rate, 訓練(TN 0->0)%, 訓練(FP 0->1)%, 訓練(FN 1->0)%, 訓練(TP 1->1)%, 検証(TN 0->0)%, 検証(FP 0->1)%, 検証(FN 1->0)%, 検証(TP 1->1)%]\n",
       "Index: []"
      ]
     },
     "execution_count": 906,
     "metadata": {},
     "output_type": "execute_result"
    }
   ],
   "source": [
    "result = pd.DataFrame(columns=[\"訓練精度%\", \"検証精度%\", \"AUC(訓練)\", \"AUC(検証)\", \"AUC rate\", \"訓練(TN 0->0)%\", \"訓練(FP 0->1)%\", \"訓練(FN 1->0)%\", \"訓練(TP 1->1)%\", \"検証(TN 0->0)%\", \"検証(FP 0->1)%\", \"検証(FN 1->0)%\", \"検証(TP 1->1)%\" ])\n",
    "\n",
    "# idx = result[\"タイトル\"].values.tolist().index(\"a\")\n",
    "# result.drop(index=idx, inplace=True)\n",
    "result"
   ]
  },
  {
   "cell_type": "code",
   "execution_count": 907,
   "metadata": {},
   "outputs": [],
   "source": [
    "result = result\n",
    "\n",
    "def accuracy(title, clf, X_train, y_train, X_test, y_test):\n",
    "    if title in result.index.tolist():\n",
    "        result.drop(index=title, inplace=True)\n",
    "        \n",
    "    appendlst = [0]*13\n",
    "    \n",
    "    print(\"\\n===  精度検証（訓練用データを確認）\")\n",
    "    print(accuracy_score(y_train, clf.predict(X_train)))\n",
    "    conf_mtrx_df = pd.DataFrame(confusion_matrix(y_train, clf.predict(X_train).reshape(-1, 1)))\n",
    "    conf_mtrx_df.rename(columns={0: 'predict(0)', 1: 'predict(1)'}, index={0: 'target(0)', 1: 'target(1)'}, inplace=True)\n",
    "    display(conf_mtrx_df)\n",
    "    \n",
    "    appendlst[0] = accuracy_score(y_train, clf.predict(X_train))*100\n",
    "    appendlst[5:7] = (conf_mtrx_df.loc['target(0)', :]*100/sum(conf_mtrx_df.loc['target(0)', :])).tolist()\n",
    "    appendlst[7:9] = (conf_mtrx_df.loc['target(1)', :]*100/sum(conf_mtrx_df.loc['target(1)', :])).tolist()\n",
    "    \n",
    "    print(\"\\n===  精度検証（検証用データを確認）\")\n",
    "    print(accuracy_score(y_test, clf.predict(X_test)))\n",
    "    conf_mtrx_df = pd.DataFrame(confusion_matrix(y_test, clf.predict(X_test).reshape(-1, 1)))\n",
    "    conf_mtrx_df.rename(columns={0: 'predict(0)', 1: 'predict(1)'}, index={0: 'target(0)', 1: 'target(1)'}, inplace=True)\n",
    "    display(conf_mtrx_df)\n",
    "    \n",
    "    appendlst[1] = accuracy_score(y_test, clf.predict(X_test))*100\n",
    "    appendlst[9:11] = (conf_mtrx_df.loc['target(0)', :]*100/sum(conf_mtrx_df.loc['target(0)', :])).tolist()\n",
    "    appendlst[11:13] = (conf_mtrx_df.loc['target(1)', :]*100/sum(conf_mtrx_df.loc['target(1)', :])).tolist()\n",
    "    \n",
    "    print(\"\\n ==== ROC \")\n",
    "    # 訓練用データ\n",
    "    # FPR TPR (閾値) AUC を算出\n",
    "    y_train_predict = clf.predict_proba(X_train)[:, 1]\n",
    "    fpr_train, tpr_train, thresholds_train = roc_curve(y_train, y_train_predict)\n",
    "    auc_value_train = auc(fpr_train, tpr_train)\n",
    "    ## ROC をプロット\n",
    "    plt.plot(fpr_train, tpr_train, label='ROC curve (area = %.2f)'%auc_value_train )\n",
    "    plt.legend()\n",
    "    plt.title('ROC curve')\n",
    "    plt.xlabel('False Positive Rate')\n",
    "    plt.ylabel('True Positive Rate')\n",
    "    plt.grid(True)\n",
    "    print('AUC(train): '+str(auc_value_train))\n",
    "    \n",
    "    \n",
    "    # 検証用データ\n",
    "    # FPR、TPR、（閾値）、AUCを算出\n",
    "    y_test_predict = clf.predict_proba(X_test)[:, 1]\n",
    "    fpr_test, tpr_test, thresholds_test = roc_curve(y_test, y_test_predict)\n",
    "    auc_value_test = auc(fpr_test, tpr_test)\n",
    "    ## ROC曲線をプロット\n",
    "    plt.plot(fpr_test, tpr_test, label='ROC curve (area = %.2f)'%auc_value_test)\n",
    "    plt.legend()\n",
    "    plt.title('ROC curve')\n",
    "    plt.xlabel('False Positive Rate')\n",
    "    plt.ylabel('True Positive Rate')\n",
    "    plt.grid(True)\n",
    "    print(\"AUC(test): \"+str(auc_value_test))\n",
    "    print(\"AUC ratio(train/test): \"+str(auc_value_train/auc_value_test))\n",
    "    \n",
    "    appendlst[2:5] = [auc_value_train, auc_value_test, (auc_value_train/auc_value_test)]\n",
    "    \n",
    "    \n",
    "    result.loc[title] = appendlst"
   ]
  },
  {
   "cell_type": "markdown",
   "metadata": {},
   "source": [
    "# 実際のデータでの精度結果 ( accuracy_report )\n"
   ]
  },
  {
   "cell_type": "code",
   "execution_count": 908,
   "metadata": {},
   "outputs": [
    {
     "data": {
      "text/html": [
       "<div>\n",
       "<style scoped>\n",
       "    .dataframe tbody tr th:only-of-type {\n",
       "        vertical-align: middle;\n",
       "    }\n",
       "\n",
       "    .dataframe tbody tr th {\n",
       "        vertical-align: top;\n",
       "    }\n",
       "\n",
       "    .dataframe thead th {\n",
       "        text-align: right;\n",
       "    }\n",
       "</style>\n",
       "<table border=\"1\" class=\"dataframe\">\n",
       "  <thead>\n",
       "    <tr style=\"text-align: right;\">\n",
       "      <th></th>\n",
       "      <th>KAISHA_CODE</th>\n",
       "      <th>TOSAN_FLG</th>\n",
       "      <th>URIAGE</th>\n",
       "      <th>JUGYOIN_SU</th>\n",
       "      <th>SHIHON_KIN</th>\n",
       "      <th>SOU_SHIHON</th>\n",
       "      <th>JIKO_SHIHON</th>\n",
       "      <th>SO_SHIHON_KEIJO_RIEKI_RITU</th>\n",
       "      <th>SO_SHIHON_KIGYO_SHUEKI_RITU</th>\n",
       "      <th>SO_SHIHON_ZEIBIKIMAE_RIEKI_RITU</th>\n",
       "      <th>...</th>\n",
       "      <th>SO_SHIHON_KAITEN_KIKAN</th>\n",
       "      <th>KOTEI_SHISAN_KAITEN_KIKAN</th>\n",
       "      <th>YUKEI_KOTEI_SHISAN_KAITEN_KIKAN</th>\n",
       "      <th>URIKAKE_KAITEN_KIKAN</th>\n",
       "      <th>TANAOROSHI_KAITEN_KIKAN</th>\n",
       "      <th>SHOHIN_KAITEN_KIKAN</th>\n",
       "      <th>KAIIRE_SAIMU_KAITEN_KIKAN</th>\n",
       "      <th>SHIHARAI_TEGATA_KAITEN_KIKAN</th>\n",
       "      <th>KAIKAKE_KAITEN_KIKAN</th>\n",
       "      <th>GEN_YOKIN_TEMOCHI_NISSU</th>\n",
       "    </tr>\n",
       "  </thead>\n",
       "  <tbody>\n",
       "    <tr>\n",
       "      <th>0</th>\n",
       "      <td>C07138</td>\n",
       "      <td>0</td>\n",
       "      <td>142375</td>\n",
       "      <td>11</td>\n",
       "      <td>10000</td>\n",
       "      <td>148</td>\n",
       "      <td>24</td>\n",
       "      <td>-4.40</td>\n",
       "      <td>-3.59</td>\n",
       "      <td>1.99</td>\n",
       "      <td>...</td>\n",
       "      <td>10.04</td>\n",
       "      <td>4.79</td>\n",
       "      <td>4.29</td>\n",
       "      <td>1.07</td>\n",
       "      <td>2.05</td>\n",
       "      <td>2.05</td>\n",
       "      <td>1.34</td>\n",
       "      <td>0.00</td>\n",
       "      <td>1.34</td>\n",
       "      <td>65.43</td>\n",
       "    </tr>\n",
       "    <tr>\n",
       "      <th>1</th>\n",
       "      <td>C07167</td>\n",
       "      <td>0</td>\n",
       "      <td>772682</td>\n",
       "      <td>91</td>\n",
       "      <td>15500</td>\n",
       "      <td>517</td>\n",
       "      <td>-155</td>\n",
       "      <td>9.98</td>\n",
       "      <td>13.61</td>\n",
       "      <td>10.14</td>\n",
       "      <td>...</td>\n",
       "      <td>6.43</td>\n",
       "      <td>2.70</td>\n",
       "      <td>1.73</td>\n",
       "      <td>1.02</td>\n",
       "      <td>1.54</td>\n",
       "      <td>0.46</td>\n",
       "      <td>0.77</td>\n",
       "      <td>0.00</td>\n",
       "      <td>0.77</td>\n",
       "      <td>16.98</td>\n",
       "    </tr>\n",
       "    <tr>\n",
       "      <th>2</th>\n",
       "      <td>C07181</td>\n",
       "      <td>0</td>\n",
       "      <td>255005</td>\n",
       "      <td>23</td>\n",
       "      <td>76550</td>\n",
       "      <td>255</td>\n",
       "      <td>135</td>\n",
       "      <td>5.16</td>\n",
       "      <td>5.81</td>\n",
       "      <td>2.68</td>\n",
       "      <td>...</td>\n",
       "      <td>9.61</td>\n",
       "      <td>3.75</td>\n",
       "      <td>3.04</td>\n",
       "      <td>0.92</td>\n",
       "      <td>0.55</td>\n",
       "      <td>0.00</td>\n",
       "      <td>0.51</td>\n",
       "      <td>0.00</td>\n",
       "      <td>0.51</td>\n",
       "      <td>83.12</td>\n",
       "    </tr>\n",
       "    <tr>\n",
       "      <th>3</th>\n",
       "      <td>C07184</td>\n",
       "      <td>1</td>\n",
       "      <td>48838</td>\n",
       "      <td>10</td>\n",
       "      <td>250000</td>\n",
       "      <td>550</td>\n",
       "      <td>160</td>\n",
       "      <td>0.34</td>\n",
       "      <td>0.40</td>\n",
       "      <td>0.27</td>\n",
       "      <td>...</td>\n",
       "      <td>74.75</td>\n",
       "      <td>13.63</td>\n",
       "      <td>0.40</td>\n",
       "      <td>0.27</td>\n",
       "      <td>14.84</td>\n",
       "      <td>9.70</td>\n",
       "      <td>2.59</td>\n",
       "      <td>0.00</td>\n",
       "      <td>2.59</td>\n",
       "      <td>1.45</td>\n",
       "    </tr>\n",
       "    <tr>\n",
       "      <th>4</th>\n",
       "      <td>C07191</td>\n",
       "      <td>0</td>\n",
       "      <td>461824</td>\n",
       "      <td>16</td>\n",
       "      <td>33000</td>\n",
       "      <td>554</td>\n",
       "      <td>48</td>\n",
       "      <td>7.61</td>\n",
       "      <td>10.54</td>\n",
       "      <td>5.59</td>\n",
       "      <td>...</td>\n",
       "      <td>11.52</td>\n",
       "      <td>4.99</td>\n",
       "      <td>3.75</td>\n",
       "      <td>2.70</td>\n",
       "      <td>1.77</td>\n",
       "      <td>0.86</td>\n",
       "      <td>1.35</td>\n",
       "      <td>0.00</td>\n",
       "      <td>1.35</td>\n",
       "      <td>43.97</td>\n",
       "    </tr>\n",
       "    <tr>\n",
       "      <th>...</th>\n",
       "      <td>...</td>\n",
       "      <td>...</td>\n",
       "      <td>...</td>\n",
       "      <td>...</td>\n",
       "      <td>...</td>\n",
       "      <td>...</td>\n",
       "      <td>...</td>\n",
       "      <td>...</td>\n",
       "      <td>...</td>\n",
       "      <td>...</td>\n",
       "      <td>...</td>\n",
       "      <td>...</td>\n",
       "      <td>...</td>\n",
       "      <td>...</td>\n",
       "      <td>...</td>\n",
       "      <td>...</td>\n",
       "      <td>...</td>\n",
       "      <td>...</td>\n",
       "      <td>...</td>\n",
       "      <td>...</td>\n",
       "      <td>...</td>\n",
       "    </tr>\n",
       "    <tr>\n",
       "      <th>2461</th>\n",
       "      <td>C12495</td>\n",
       "      <td>0</td>\n",
       "      <td>12808</td>\n",
       "      <td>3</td>\n",
       "      <td>3000</td>\n",
       "      <td>13</td>\n",
       "      <td>10</td>\n",
       "      <td>-2.75</td>\n",
       "      <td>-2.75</td>\n",
       "      <td>-2.75</td>\n",
       "      <td>...</td>\n",
       "      <td>9.77</td>\n",
       "      <td>3.48</td>\n",
       "      <td>1.03</td>\n",
       "      <td>1.34</td>\n",
       "      <td>0.47</td>\n",
       "      <td>0.00</td>\n",
       "      <td>1.20</td>\n",
       "      <td>0.91</td>\n",
       "      <td>0.30</td>\n",
       "      <td>136.60</td>\n",
       "    </tr>\n",
       "    <tr>\n",
       "      <th>2462</th>\n",
       "      <td>C12497</td>\n",
       "      <td>0</td>\n",
       "      <td>35814</td>\n",
       "      <td>2</td>\n",
       "      <td>5000</td>\n",
       "      <td>21</td>\n",
       "      <td>5</td>\n",
       "      <td>2.71</td>\n",
       "      <td>4.46</td>\n",
       "      <td>3.13</td>\n",
       "      <td>...</td>\n",
       "      <td>5.72</td>\n",
       "      <td>2.43</td>\n",
       "      <td>0.61</td>\n",
       "      <td>1.84</td>\n",
       "      <td>0.03</td>\n",
       "      <td>0.03</td>\n",
       "      <td>1.49</td>\n",
       "      <td>0.00</td>\n",
       "      <td>1.49</td>\n",
       "      <td>16.17</td>\n",
       "    </tr>\n",
       "    <tr>\n",
       "      <th>2463</th>\n",
       "      <td>C12510</td>\n",
       "      <td>0</td>\n",
       "      <td>153795</td>\n",
       "      <td>8</td>\n",
       "      <td>3000</td>\n",
       "      <td>89</td>\n",
       "      <td>-18</td>\n",
       "      <td>6.11</td>\n",
       "      <td>11.62</td>\n",
       "      <td>6.11</td>\n",
       "      <td>...</td>\n",
       "      <td>5.56</td>\n",
       "      <td>0.86</td>\n",
       "      <td>0.71</td>\n",
       "      <td>2.15</td>\n",
       "      <td>0.19</td>\n",
       "      <td>0.19</td>\n",
       "      <td>0.64</td>\n",
       "      <td>0.00</td>\n",
       "      <td>0.64</td>\n",
       "      <td>0.81</td>\n",
       "    </tr>\n",
       "    <tr>\n",
       "      <th>2464</th>\n",
       "      <td>C12512</td>\n",
       "      <td>0</td>\n",
       "      <td>186137</td>\n",
       "      <td>5</td>\n",
       "      <td>5000</td>\n",
       "      <td>78</td>\n",
       "      <td>-17</td>\n",
       "      <td>2.22</td>\n",
       "      <td>4.05</td>\n",
       "      <td>2.25</td>\n",
       "      <td>...</td>\n",
       "      <td>4.06</td>\n",
       "      <td>1.42</td>\n",
       "      <td>1.38</td>\n",
       "      <td>0.56</td>\n",
       "      <td>0.73</td>\n",
       "      <td>0.65</td>\n",
       "      <td>0.20</td>\n",
       "      <td>0.00</td>\n",
       "      <td>0.20</td>\n",
       "      <td>11.38</td>\n",
       "    </tr>\n",
       "    <tr>\n",
       "      <th>2465</th>\n",
       "      <td>C12534</td>\n",
       "      <td>0</td>\n",
       "      <td>516584</td>\n",
       "      <td>5</td>\n",
       "      <td>10000</td>\n",
       "      <td>326</td>\n",
       "      <td>102</td>\n",
       "      <td>8.19</td>\n",
       "      <td>8.64</td>\n",
       "      <td>8.03</td>\n",
       "      <td>...</td>\n",
       "      <td>6.07</td>\n",
       "      <td>1.47</td>\n",
       "      <td>1.44</td>\n",
       "      <td>1.78</td>\n",
       "      <td>0.00</td>\n",
       "      <td>0.00</td>\n",
       "      <td>0.73</td>\n",
       "      <td>0.00</td>\n",
       "      <td>0.73</td>\n",
       "      <td>56.23</td>\n",
       "    </tr>\n",
       "  </tbody>\n",
       "</table>\n",
       "<p>2466 rows × 31 columns</p>\n",
       "</div>"
      ],
      "text/plain": [
       "     KAISHA_CODE  TOSAN_FLG  URIAGE  JUGYOIN_SU  SHIHON_KIN  SOU_SHIHON  \\\n",
       "0         C07138          0  142375          11       10000         148   \n",
       "1         C07167          0  772682          91       15500         517   \n",
       "2         C07181          0  255005          23       76550         255   \n",
       "3         C07184          1   48838          10      250000         550   \n",
       "4         C07191          0  461824          16       33000         554   \n",
       "...          ...        ...     ...         ...         ...         ...   \n",
       "2461      C12495          0   12808           3        3000          13   \n",
       "2462      C12497          0   35814           2        5000          21   \n",
       "2463      C12510          0  153795           8        3000          89   \n",
       "2464      C12512          0  186137           5        5000          78   \n",
       "2465      C12534          0  516584           5       10000         326   \n",
       "\n",
       "      JIKO_SHIHON  SO_SHIHON_KEIJO_RIEKI_RITU  SO_SHIHON_KIGYO_SHUEKI_RITU  \\\n",
       "0              24                       -4.40                        -3.59   \n",
       "1            -155                        9.98                        13.61   \n",
       "2             135                        5.16                         5.81   \n",
       "3             160                        0.34                         0.40   \n",
       "4              48                        7.61                        10.54   \n",
       "...           ...                         ...                          ...   \n",
       "2461           10                       -2.75                        -2.75   \n",
       "2462            5                        2.71                         4.46   \n",
       "2463          -18                        6.11                        11.62   \n",
       "2464          -17                        2.22                         4.05   \n",
       "2465          102                        8.19                         8.64   \n",
       "\n",
       "      SO_SHIHON_ZEIBIKIMAE_RIEKI_RITU  ...  SO_SHIHON_KAITEN_KIKAN  \\\n",
       "0                                1.99  ...                   10.04   \n",
       "1                               10.14  ...                    6.43   \n",
       "2                                2.68  ...                    9.61   \n",
       "3                                0.27  ...                   74.75   \n",
       "4                                5.59  ...                   11.52   \n",
       "...                               ...  ...                     ...   \n",
       "2461                            -2.75  ...                    9.77   \n",
       "2462                             3.13  ...                    5.72   \n",
       "2463                             6.11  ...                    5.56   \n",
       "2464                             2.25  ...                    4.06   \n",
       "2465                             8.03  ...                    6.07   \n",
       "\n",
       "      KOTEI_SHISAN_KAITEN_KIKAN  YUKEI_KOTEI_SHISAN_KAITEN_KIKAN  \\\n",
       "0                          4.79                             4.29   \n",
       "1                          2.70                             1.73   \n",
       "2                          3.75                             3.04   \n",
       "3                         13.63                             0.40   \n",
       "4                          4.99                             3.75   \n",
       "...                         ...                              ...   \n",
       "2461                       3.48                             1.03   \n",
       "2462                       2.43                             0.61   \n",
       "2463                       0.86                             0.71   \n",
       "2464                       1.42                             1.38   \n",
       "2465                       1.47                             1.44   \n",
       "\n",
       "      URIKAKE_KAITEN_KIKAN  TANAOROSHI_KAITEN_KIKAN  SHOHIN_KAITEN_KIKAN  \\\n",
       "0                     1.07                     2.05                 2.05   \n",
       "1                     1.02                     1.54                 0.46   \n",
       "2                     0.92                     0.55                 0.00   \n",
       "3                     0.27                    14.84                 9.70   \n",
       "4                     2.70                     1.77                 0.86   \n",
       "...                    ...                      ...                  ...   \n",
       "2461                  1.34                     0.47                 0.00   \n",
       "2462                  1.84                     0.03                 0.03   \n",
       "2463                  2.15                     0.19                 0.19   \n",
       "2464                  0.56                     0.73                 0.65   \n",
       "2465                  1.78                     0.00                 0.00   \n",
       "\n",
       "      KAIIRE_SAIMU_KAITEN_KIKAN  SHIHARAI_TEGATA_KAITEN_KIKAN  \\\n",
       "0                          1.34                          0.00   \n",
       "1                          0.77                          0.00   \n",
       "2                          0.51                          0.00   \n",
       "3                          2.59                          0.00   \n",
       "4                          1.35                          0.00   \n",
       "...                         ...                           ...   \n",
       "2461                       1.20                          0.91   \n",
       "2462                       1.49                          0.00   \n",
       "2463                       0.64                          0.00   \n",
       "2464                       0.20                          0.00   \n",
       "2465                       0.73                          0.00   \n",
       "\n",
       "      KAIKAKE_KAITEN_KIKAN  GEN_YOKIN_TEMOCHI_NISSU  \n",
       "0                     1.34                    65.43  \n",
       "1                     0.77                    16.98  \n",
       "2                     0.51                    83.12  \n",
       "3                     2.59                     1.45  \n",
       "4                     1.35                    43.97  \n",
       "...                    ...                      ...  \n",
       "2461                  0.30                   136.60  \n",
       "2462                  1.49                    16.17  \n",
       "2463                  0.64                     0.81  \n",
       "2464                  0.20                    11.38  \n",
       "2465                  0.73                    56.23  \n",
       "\n",
       "[2466 rows x 31 columns]"
      ]
     },
     "execution_count": 908,
     "metadata": {},
     "output_type": "execute_result"
    }
   ],
   "source": [
    "accuracy_report = pd.read_csv('./data/accuracy_report.csv')\n",
    "accuracy_report"
   ]
  },
  {
   "cell_type": "code",
   "execution_count": 909,
   "metadata": {},
   "outputs": [
    {
     "data": {
      "text/plain": [
       "51"
      ]
     },
     "execution_count": 909,
     "metadata": {},
     "output_type": "execute_result"
    }
   ],
   "source": [
    "accuracy_report[\"TOSAN_FLG\"].sum()"
   ]
  },
  {
   "cell_type": "code",
   "execution_count": 910,
   "metadata": {},
   "outputs": [
    {
     "data": {
      "text/html": [
       "<div>\n",
       "<style scoped>\n",
       "    .dataframe tbody tr th:only-of-type {\n",
       "        vertical-align: middle;\n",
       "    }\n",
       "\n",
       "    .dataframe tbody tr th {\n",
       "        vertical-align: top;\n",
       "    }\n",
       "\n",
       "    .dataframe thead th {\n",
       "        text-align: right;\n",
       "    }\n",
       "</style>\n",
       "<table border=\"1\" class=\"dataframe\">\n",
       "  <thead>\n",
       "    <tr style=\"text-align: right;\">\n",
       "      <th></th>\n",
       "      <th>accuracy(%)</th>\n",
       "      <th>AUC</th>\n",
       "      <th>(TN 0-&gt;0)%</th>\n",
       "      <th>(FP 0-&gt;1)%</th>\n",
       "      <th>(FN 1-&gt;0)%</th>\n",
       "      <th>(TP 1-&gt;1)%</th>\n",
       "    </tr>\n",
       "  </thead>\n",
       "  <tbody>\n",
       "  </tbody>\n",
       "</table>\n",
       "</div>"
      ],
      "text/plain": [
       "Empty DataFrame\n",
       "Columns: [accuracy(%), AUC, (TN 0->0)%, (FP 0->1)%, (FN 1->0)%, (TP 1->1)%]\n",
       "Index: []"
      ]
     },
     "execution_count": 910,
     "metadata": {},
     "output_type": "execute_result"
    }
   ],
   "source": [
    "result_report = pd.DataFrame(columns=[\"accuracy(%)\",\"AUC\", \"(TN 0->0)%\", \"(FP 0->1)%\", \"(FN 1->0)%\", \"(TP 1->1)%\"])\n",
    "\n",
    "result_report"
   ]
  },
  {
   "cell_type": "code",
   "execution_count": 911,
   "metadata": {},
   "outputs": [],
   "source": [
    "result_report = result_report\n",
    "\n",
    "def report_ACC(title, clf, reportX, reporty):\n",
    "    if title in result_report.index.tolist():\n",
    "        result_report.drop(index=title, inplace=True)\n",
    "        \n",
    "    appendlst = [0]*6\n",
    "    \n",
    "    print('-'*30)\n",
    "    print(\"\\n===  精度検証（レポート用データを確認）\")\n",
    "    print(accuracy_score(reporty, clf.predict(reportX)))\n",
    "    conf_mtrx_df = pd.DataFrame(confusion_matrix(reporty, clf.predict(reportX).reshape(-1, 1)))\n",
    "    conf_mtrx_df.rename(columns={0: 'predict(0)', 1: 'predict(1)'}, index={0: 'target(0)', 1: 'target(1)'}, inplace=True)\n",
    "    display(conf_mtrx_df)\n",
    "    \n",
    "    appendlst[0] = accuracy_score(reporty, clf.predict(reportX))*100\n",
    "    appendlst[2:4] = (conf_mtrx_df.loc['target(0)', :]*100/sum(conf_mtrx_df.loc['target(0)', :])).tolist()\n",
    "    appendlst[4:6] = (conf_mtrx_df.loc['target(1)', :]*100/sum(conf_mtrx_df.loc['target(1)', :])).tolist()\n",
    "    \n",
    "    print(\"\\n==== ROC \")\n",
    "    # 訓練用データ\n",
    "    # FPR TPR (閾値) AUC を算出\n",
    "    y_predict = clf.predict_proba(reportX)[:, 1]\n",
    "    fpr, tpr, thresholds = roc_curve(reporty, y_predict)\n",
    "    auc_value = auc(fpr, tpr)\n",
    "    ## ROC をプロット\n",
    "    plt.plot(fpr, tpr, label='ROC curve (area = %.2f)'%auc_value )\n",
    "    plt.legend()\n",
    "    plt.title('ROC curve')\n",
    "    plt.xlabel('False Positive Rate')\n",
    "    plt.ylabel('True Positive Rate')\n",
    "    plt.grid(True)\n",
    "    print('AUC: '+str(auc_value))\n",
    "    \n",
    "    appendlst[1] = auc_value\n",
    "    \n",
    "    \n",
    "    result_report.loc[title] = appendlst"
   ]
  },
  {
   "cell_type": "markdown",
   "metadata": {},
   "source": [
    "# ロジスティック回帰\n",
    "ロジスティック回帰モデルをつくります。\n",
    "ロジスティック回帰モデルを作成するときは、以下のパラメータを（一部でいいので）設定する必要があります。\n",
    "*   fit_intercept：切片を入れるか？\n",
    "*   penalty：正則化の方法を指定するパラメータ l1 か l2 を指定。（Lassoを実施する際はL1正則化項を入れたいのでl1を指定する）\n",
    "*   solver：Lasso回帰を実施する際は 'liblinear' を指定する必要がある。（計算をする際に「ソルバー」という機能が必要なのですが、デフォルトのソルバーはL2用なので変更してあげる必要があります。）\n",
    "*   C：正則化の強さを指定するパラメータ。正の値を指定する（デフォルト値は1.0）。Cの値が小さいほど、強く正則化する。"
   ]
  },
  {
   "cell_type": "code",
   "execution_count": 912,
   "metadata": {},
   "outputs": [],
   "source": [
    "# ロジスティック回帰を行うためのモジュールをインポート\n",
    "from sklearn.linear_model import LogisticRegression"
   ]
  },
  {
   "cell_type": "code",
   "execution_count": 913,
   "metadata": {},
   "outputs": [
    {
     "name": "stdout",
     "output_type": "stream",
     "text": [
      "\n",
      "==== アンダーサンプリングを行う\n",
      "RandomUnderSampler(random_state=1234, sampling_strategy={0: 768, 1: 192})\n",
      "-----------------------------------------------------\n",
      "サンプリング後の説明変数の数と件数：(960, 25)\n",
      "サンプリング後の目的変数の数と件数：(960, 1)\n",
      "-----------------------------------------------------\n",
      "サンプリング後の目的変数＝ 0 の件数：768\n",
      "サンプリング後の目的変数＝ 1 の件数：192\n",
      "-----------------------------------------------------\n",
      "\n",
      "===  精度検証（訓練用データを確認）\n",
      "0.8625\n"
     ]
    },
    {
     "data": {
      "text/html": [
       "<div>\n",
       "<style scoped>\n",
       "    .dataframe tbody tr th:only-of-type {\n",
       "        vertical-align: middle;\n",
       "    }\n",
       "\n",
       "    .dataframe tbody tr th {\n",
       "        vertical-align: top;\n",
       "    }\n",
       "\n",
       "    .dataframe thead th {\n",
       "        text-align: right;\n",
       "    }\n",
       "</style>\n",
       "<table border=\"1\" class=\"dataframe\">\n",
       "  <thead>\n",
       "    <tr style=\"text-align: right;\">\n",
       "      <th></th>\n",
       "      <th>predict(0)</th>\n",
       "      <th>predict(1)</th>\n",
       "    </tr>\n",
       "  </thead>\n",
       "  <tbody>\n",
       "    <tr>\n",
       "      <th>target(0)</th>\n",
       "      <td>733</td>\n",
       "      <td>35</td>\n",
       "    </tr>\n",
       "    <tr>\n",
       "      <th>target(1)</th>\n",
       "      <td>97</td>\n",
       "      <td>95</td>\n",
       "    </tr>\n",
       "  </tbody>\n",
       "</table>\n",
       "</div>"
      ],
      "text/plain": [
       "           predict(0)  predict(1)\n",
       "target(0)         733          35\n",
       "target(1)          97          95"
      ]
     },
     "metadata": {},
     "output_type": "display_data"
    },
    {
     "name": "stdout",
     "output_type": "stream",
     "text": [
      "\n",
      "===  精度検証（検証用データを確認）\n",
      "0.9236868186323092\n"
     ]
    },
    {
     "data": {
      "text/html": [
       "<div>\n",
       "<style scoped>\n",
       "    .dataframe tbody tr th:only-of-type {\n",
       "        vertical-align: middle;\n",
       "    }\n",
       "\n",
       "    .dataframe tbody tr th {\n",
       "        vertical-align: top;\n",
       "    }\n",
       "\n",
       "    .dataframe thead th {\n",
       "        text-align: right;\n",
       "    }\n",
       "</style>\n",
       "<table border=\"1\" class=\"dataframe\">\n",
       "  <thead>\n",
       "    <tr style=\"text-align: right;\">\n",
       "      <th></th>\n",
       "      <th>predict(0)</th>\n",
       "      <th>predict(1)</th>\n",
       "    </tr>\n",
       "  </thead>\n",
       "  <tbody>\n",
       "    <tr>\n",
       "      <th>target(0)</th>\n",
       "      <td>2767</td>\n",
       "      <td>181</td>\n",
       "    </tr>\n",
       "    <tr>\n",
       "      <th>target(1)</th>\n",
       "      <td>50</td>\n",
       "      <td>29</td>\n",
       "    </tr>\n",
       "  </tbody>\n",
       "</table>\n",
       "</div>"
      ],
      "text/plain": [
       "           predict(0)  predict(1)\n",
       "target(0)        2767         181\n",
       "target(1)          50          29"
      ]
     },
     "metadata": {},
     "output_type": "display_data"
    },
    {
     "name": "stdout",
     "output_type": "stream",
     "text": [
      "\n",
      " ==== ROC \n",
      "AUC(train): 0.9032185872395833\n",
      "AUC(test): 0.8712665097985332\n",
      "AUC ratio(train/test): 1.0366731385651888\n"
     ]
    },
    {
     "data": {
      "image/png": "[encoded data removed]",
      "text/plain": [
       "<Figure size 432x288 with 1 Axes>"
      ]
     },
     "metadata": {
      "needs_background": "light"
     },
     "output_type": "display_data"
    }
   ],
   "source": [
    "## アンダーサンプリング\n",
    "X_train_smp, y_train_smp = UnderSampling(X_train, y_train)\n",
    "## 標準化\n",
    "X_train_smp_std, X_test_smp_std = standard(X_train_smp, X_test)\n",
    "## 学習\n",
    "clf = LogisticRegression(C=1000)\n",
    "clf.fit(X_train_smp_std, y_train_smp)\n",
    "## 精度を表示\n",
    "accuracy(\"Logistic_Under\", clf, X_train_smp_std, y_train_smp, X_test_smp_std, y_test)"
   ]
  },
  {
   "cell_type": "code",
   "execution_count": 914,
   "metadata": {},
   "outputs": [
    {
     "name": "stdout",
     "output_type": "stream",
     "text": [
      "------------------------------\n",
      "\n",
      "===  精度検証（レポート用データを確認）\n",
      "0.9399837793998378\n"
     ]
    },
    {
     "data": {
      "text/html": [
       "<div>\n",
       "<style scoped>\n",
       "    .dataframe tbody tr th:only-of-type {\n",
       "        vertical-align: middle;\n",
       "    }\n",
       "\n",
       "    .dataframe tbody tr th {\n",
       "        vertical-align: top;\n",
       "    }\n",
       "\n",
       "    .dataframe thead th {\n",
       "        text-align: right;\n",
       "    }\n",
       "</style>\n",
       "<table border=\"1\" class=\"dataframe\">\n",
       "  <thead>\n",
       "    <tr style=\"text-align: right;\">\n",
       "      <th></th>\n",
       "      <th>predict(0)</th>\n",
       "      <th>predict(1)</th>\n",
       "    </tr>\n",
       "  </thead>\n",
       "  <tbody>\n",
       "    <tr>\n",
       "      <th>target(0)</th>\n",
       "      <td>2293</td>\n",
       "      <td>122</td>\n",
       "    </tr>\n",
       "    <tr>\n",
       "      <th>target(1)</th>\n",
       "      <td>26</td>\n",
       "      <td>25</td>\n",
       "    </tr>\n",
       "  </tbody>\n",
       "</table>\n",
       "</div>"
      ],
      "text/plain": [
       "           predict(0)  predict(1)\n",
       "target(0)        2293         122\n",
       "target(1)          26          25"
      ]
     },
     "metadata": {},
     "output_type": "display_data"
    },
    {
     "name": "stdout",
     "output_type": "stream",
     "text": [
      "\n",
      "==== ROC \n",
      "AUC: 0.8768887265050948\n"
     ]
    },
    {
     "data": {
      "image/png": "[encoded data removed]",
      "text/plain": [
       "<Figure size 432x288 with 1 Axes>"
      ]
     },
     "metadata": {
      "needs_background": "light"
     },
     "output_type": "display_data"
    }
   ],
   "source": [
    "## データ前処理\n",
    "reportX, reporty = preprocess(accuracy_report)\n",
    "## 標準化\n",
    "X_train_smp_std, reportX_std = standard(X_train_smp, reportX)\n",
    "## レポート用の精度\n",
    "report_ACC(\"Logistic_Under\", clf, reportX_std, reporty)"
   ]
  },
  {
   "cell_type": "code",
   "execution_count": 915,
   "metadata": {},
   "outputs": [
    {
     "name": "stdout",
     "output_type": "stream",
     "text": [
      "\n",
      "==== オーバーサンプリングを行う\n",
      "RandomOverSampler(random_state=1234, sampling_strategy={0: 6868, 1: 1373})\n",
      "-----------------------------------------------------\n",
      "サンプリング後の説明変数の数と件数：(8241, 25)\n",
      "サンプリング後の目的変数の数と件数：(8241, 1)\n",
      "-----------------------------------------------------\n",
      "サンプリング後の目的変数＝ 0 の件数：6868\n",
      "サンプリング後の目的変数＝ 1 の件数：1373\n",
      "-----------------------------------------------------\n",
      "\n",
      "===  精度検証（訓練用データを確認）\n",
      "0.8705254216721272\n"
     ]
    },
    {
     "data": {
      "text/html": [
       "<div>\n",
       "<style scoped>\n",
       "    .dataframe tbody tr th:only-of-type {\n",
       "        vertical-align: middle;\n",
       "    }\n",
       "\n",
       "    .dataframe tbody tr th {\n",
       "        vertical-align: top;\n",
       "    }\n",
       "\n",
       "    .dataframe thead th {\n",
       "        text-align: right;\n",
       "    }\n",
       "</style>\n",
       "<table border=\"1\" class=\"dataframe\">\n",
       "  <thead>\n",
       "    <tr style=\"text-align: right;\">\n",
       "      <th></th>\n",
       "      <th>predict(0)</th>\n",
       "      <th>predict(1)</th>\n",
       "    </tr>\n",
       "  </thead>\n",
       "  <tbody>\n",
       "    <tr>\n",
       "      <th>target(0)</th>\n",
       "      <td>6620</td>\n",
       "      <td>248</td>\n",
       "    </tr>\n",
       "    <tr>\n",
       "      <th>target(1)</th>\n",
       "      <td>819</td>\n",
       "      <td>554</td>\n",
       "    </tr>\n",
       "  </tbody>\n",
       "</table>\n",
       "</div>"
      ],
      "text/plain": [
       "           predict(0)  predict(1)\n",
       "target(0)        6620         248\n",
       "target(1)         819         554"
      ]
     },
     "metadata": {},
     "output_type": "display_data"
    },
    {
     "name": "stdout",
     "output_type": "stream",
     "text": [
      "\n",
      "===  精度検証（検証用データを確認）\n",
      "0.9408655434423522\n"
     ]
    },
    {
     "data": {
      "text/html": [
       "<div>\n",
       "<style scoped>\n",
       "    .dataframe tbody tr th:only-of-type {\n",
       "        vertical-align: middle;\n",
       "    }\n",
       "\n",
       "    .dataframe tbody tr th {\n",
       "        vertical-align: top;\n",
       "    }\n",
       "\n",
       "    .dataframe thead th {\n",
       "        text-align: right;\n",
       "    }\n",
       "</style>\n",
       "<table border=\"1\" class=\"dataframe\">\n",
       "  <thead>\n",
       "    <tr style=\"text-align: right;\">\n",
       "      <th></th>\n",
       "      <th>predict(0)</th>\n",
       "      <th>predict(1)</th>\n",
       "    </tr>\n",
       "  </thead>\n",
       "  <tbody>\n",
       "    <tr>\n",
       "      <th>target(0)</th>\n",
       "      <td>2826</td>\n",
       "      <td>122</td>\n",
       "    </tr>\n",
       "    <tr>\n",
       "      <th>target(1)</th>\n",
       "      <td>57</td>\n",
       "      <td>22</td>\n",
       "    </tr>\n",
       "  </tbody>\n",
       "</table>\n",
       "</div>"
      ],
      "text/plain": [
       "           predict(0)  predict(1)\n",
       "target(0)        2826         122\n",
       "target(1)          57          22"
      ]
     },
     "metadata": {},
     "output_type": "display_data"
    },
    {
     "name": "stdout",
     "output_type": "stream",
     "text": [
      "\n",
      " ==== ROC \n",
      "AUC(train): 0.8927519288923879\n",
      "AUC(test): 0.8709358844442918\n",
      "AUC ratio(train/test): 1.0250489672520682\n"
     ]
    },
    {
     "data": {
      "image/png": "[encoded data removed]",
      "text/plain": [
       "<Figure size 432x288 with 1 Axes>"
      ]
     },
     "metadata": {
      "needs_background": "light"
     },
     "output_type": "display_data"
    }
   ],
   "source": [
    "## オーバーサンプリング\n",
    "X_train_smp, y_train_smp = OverSampling(X_train, y_train)\n",
    "## 標準化\n",
    "X_train_smp_std, X_test_smp_std = standard(X_train_smp, X_test)\n",
    "## 学習\n",
    "clf = LogisticRegression(C=1000)\n",
    "clf.fit(X_train_smp_std, y_train_smp)\n",
    "## 精度を表示\n",
    "accuracy(\"Logistic_Over\", clf, X_train_smp_std, y_train_smp, X_test_smp_std, y_test)"
   ]
  },
  {
   "cell_type": "code",
   "execution_count": 916,
   "metadata": {},
   "outputs": [
    {
     "name": "stdout",
     "output_type": "stream",
     "text": [
      "------------------------------\n",
      "\n",
      "===  精度検証（レポート用データを確認）\n",
      "0.9509326845093269\n"
     ]
    },
    {
     "data": {
      "text/html": [
       "<div>\n",
       "<style scoped>\n",
       "    .dataframe tbody tr th:only-of-type {\n",
       "        vertical-align: middle;\n",
       "    }\n",
       "\n",
       "    .dataframe tbody tr th {\n",
       "        vertical-align: top;\n",
       "    }\n",
       "\n",
       "    .dataframe thead th {\n",
       "        text-align: right;\n",
       "    }\n",
       "</style>\n",
       "<table border=\"1\" class=\"dataframe\">\n",
       "  <thead>\n",
       "    <tr style=\"text-align: right;\">\n",
       "      <th></th>\n",
       "      <th>predict(0)</th>\n",
       "      <th>predict(1)</th>\n",
       "    </tr>\n",
       "  </thead>\n",
       "  <tbody>\n",
       "    <tr>\n",
       "      <th>target(0)</th>\n",
       "      <td>2324</td>\n",
       "      <td>91</td>\n",
       "    </tr>\n",
       "    <tr>\n",
       "      <th>target(1)</th>\n",
       "      <td>30</td>\n",
       "      <td>21</td>\n",
       "    </tr>\n",
       "  </tbody>\n",
       "</table>\n",
       "</div>"
      ],
      "text/plain": [
       "           predict(0)  predict(1)\n",
       "target(0)        2324          91\n",
       "target(1)          30          21"
      ]
     },
     "metadata": {},
     "output_type": "display_data"
    },
    {
     "name": "stdout",
     "output_type": "stream",
     "text": [
      "\n",
      "==== ROC \n",
      "AUC: 0.8664880444931596\n"
     ]
    },
    {
     "data": {
      "image/png": "[encoded data removed]",
      "text/plain": [
       "<Figure size 432x288 with 1 Axes>"
      ]
     },
     "metadata": {
      "needs_background": "light"
     },
     "output_type": "display_data"
    }
   ],
   "source": [
    "## データ前処理\n",
    "reportX, reporty = preprocess(accuracy_report)\n",
    "## 標準化\n",
    "X_train_smp_std, reportX_std = standard(X_train_smp, reportX)\n",
    "## レポート用の精度\n",
    "report_ACC(\"Logistic_Over\", clf, reportX_std, reporty)"
   ]
  },
  {
   "cell_type": "code",
   "execution_count": 917,
   "metadata": {},
   "outputs": [
    {
     "name": "stdout",
     "output_type": "stream",
     "text": [
      "\n",
      "==== (SMOTE) オーバーサンプリングを行う\n",
      "SMOTE(k_neighbors=3, random_state=1234)\n",
      "-----------------------------------------------------\n",
      "サンプリング後の説明変数の数と件数：(13736, 25)\n",
      "サンプリング後の目的変数の数と件数：(13736, 1)\n",
      "-----------------------------------------------------\n",
      "サンプリング後の目的変数＝ 0 の件数：6868\n",
      "サンプリング後の目的変数＝ 1 の件数：6868\n",
      "-----------------------------------------------------\n",
      "\n",
      "===  精度検証（訓練用データを確認）\n",
      "0.8555620267909144\n"
     ]
    },
    {
     "data": {
      "text/html": [
       "<div>\n",
       "<style scoped>\n",
       "    .dataframe tbody tr th:only-of-type {\n",
       "        vertical-align: middle;\n",
       "    }\n",
       "\n",
       "    .dataframe tbody tr th {\n",
       "        vertical-align: top;\n",
       "    }\n",
       "\n",
       "    .dataframe thead th {\n",
       "        text-align: right;\n",
       "    }\n",
       "</style>\n",
       "<table border=\"1\" class=\"dataframe\">\n",
       "  <thead>\n",
       "    <tr style=\"text-align: right;\">\n",
       "      <th></th>\n",
       "      <th>predict(0)</th>\n",
       "      <th>predict(1)</th>\n",
       "    </tr>\n",
       "  </thead>\n",
       "  <tbody>\n",
       "    <tr>\n",
       "      <th>target(0)</th>\n",
       "      <td>5767</td>\n",
       "      <td>1101</td>\n",
       "    </tr>\n",
       "    <tr>\n",
       "      <th>target(1)</th>\n",
       "      <td>883</td>\n",
       "      <td>5985</td>\n",
       "    </tr>\n",
       "  </tbody>\n",
       "</table>\n",
       "</div>"
      ],
      "text/plain": [
       "           predict(0)  predict(1)\n",
       "target(0)        5767        1101\n",
       "target(1)         883        5985"
      ]
     },
     "metadata": {},
     "output_type": "display_data"
    },
    {
     "name": "stdout",
     "output_type": "stream",
     "text": [
      "\n",
      "===  精度検証（検証用データを確認）\n",
      "0.8414271555996036\n"
     ]
    },
    {
     "data": {
      "text/html": [
       "<div>\n",
       "<style scoped>\n",
       "    .dataframe tbody tr th:only-of-type {\n",
       "        vertical-align: middle;\n",
       "    }\n",
       "\n",
       "    .dataframe tbody tr th {\n",
       "        vertical-align: top;\n",
       "    }\n",
       "\n",
       "    .dataframe thead th {\n",
       "        text-align: right;\n",
       "    }\n",
       "</style>\n",
       "<table border=\"1\" class=\"dataframe\">\n",
       "  <thead>\n",
       "    <tr style=\"text-align: right;\">\n",
       "      <th></th>\n",
       "      <th>predict(0)</th>\n",
       "      <th>predict(1)</th>\n",
       "    </tr>\n",
       "  </thead>\n",
       "  <tbody>\n",
       "    <tr>\n",
       "      <th>target(0)</th>\n",
       "      <td>2485</td>\n",
       "      <td>463</td>\n",
       "    </tr>\n",
       "    <tr>\n",
       "      <th>target(1)</th>\n",
       "      <td>17</td>\n",
       "      <td>62</td>\n",
       "    </tr>\n",
       "  </tbody>\n",
       "</table>\n",
       "</div>"
      ],
      "text/plain": [
       "           predict(0)  predict(1)\n",
       "target(0)        2485         463\n",
       "target(1)          17          62"
      ]
     },
     "metadata": {},
     "output_type": "display_data"
    },
    {
     "name": "stdout",
     "output_type": "stream",
     "text": [
      "\n",
      " ==== ROC \n",
      "AUC(train): 0.9163859834285872\n",
      "AUC(test): 0.8709702351304468\n",
      "AUC ratio(train/test): 1.0521438580404971\n"
     ]
    },
    {
     "data": {
      "image/png": "[encoded data removed]",
      "text/plain": [
       "<Figure size 432x288 with 1 Axes>"
      ]
     },
     "metadata": {
      "needs_background": "light"
     },
     "output_type": "display_data"
    }
   ],
   "source": [
    "## (SMOTE) オーバーサンプリング\n",
    "X_train_smp, y_train_smp = SMOTESampling(X_train, y_train)\n",
    "## 標準化\n",
    "X_train_smp_std, X_test_smp_std = standard(X_train_smp, X_test)\n",
    "## 学習\n",
    "clf = LogisticRegression(C=1000)\n",
    "clf.fit(X_train_smp_std, y_train_smp)\n",
    "## 精度を表示\n",
    "accuracy(\"Logistic_SMOTE\", clf, X_train_smp_std, y_train_smp, X_test_smp_std, y_test)"
   ]
  },
  {
   "cell_type": "code",
   "execution_count": 918,
   "metadata": {},
   "outputs": [
    {
     "name": "stdout",
     "output_type": "stream",
     "text": [
      "------------------------------\n",
      "\n",
      "===  精度検証（レポート用データを確認）\n",
      "0.8475263584752636\n"
     ]
    },
    {
     "data": {
      "text/html": [
       "<div>\n",
       "<style scoped>\n",
       "    .dataframe tbody tr th:only-of-type {\n",
       "        vertical-align: middle;\n",
       "    }\n",
       "\n",
       "    .dataframe tbody tr th {\n",
       "        vertical-align: top;\n",
       "    }\n",
       "\n",
       "    .dataframe thead th {\n",
       "        text-align: right;\n",
       "    }\n",
       "</style>\n",
       "<table border=\"1\" class=\"dataframe\">\n",
       "  <thead>\n",
       "    <tr style=\"text-align: right;\">\n",
       "      <th></th>\n",
       "      <th>predict(0)</th>\n",
       "      <th>predict(1)</th>\n",
       "    </tr>\n",
       "  </thead>\n",
       "  <tbody>\n",
       "    <tr>\n",
       "      <th>target(0)</th>\n",
       "      <td>2052</td>\n",
       "      <td>363</td>\n",
       "    </tr>\n",
       "    <tr>\n",
       "      <th>target(1)</th>\n",
       "      <td>13</td>\n",
       "      <td>38</td>\n",
       "    </tr>\n",
       "  </tbody>\n",
       "</table>\n",
       "</div>"
      ],
      "text/plain": [
       "           predict(0)  predict(1)\n",
       "target(0)        2052         363\n",
       "target(1)          13          38"
      ]
     },
     "metadata": {},
     "output_type": "display_data"
    },
    {
     "name": "stdout",
     "output_type": "stream",
     "text": [
      "\n",
      "==== ROC \n",
      "AUC: 0.8694190719766168\n"
     ]
    },
    {
     "data": {
      "image/png": "[encoded data removed]",
      "text/plain": [
       "<Figure size 432x288 with 1 Axes>"
      ]
     },
     "metadata": {
      "needs_background": "light"
     },
     "output_type": "display_data"
    }
   ],
   "source": [
    "## データ前処理\n",
    "reportX, reporty = preprocess(accuracy_report)\n",
    "## 標準化\n",
    "X_train_smp_std, reportX_std = standard(X_train_smp, reportX)\n",
    "## レポート用の精度\n",
    "report_ACC(\"Logistic_SMOTE\", clf, reportX_std, reporty)"
   ]
  },
  {
   "cell_type": "markdown",
   "metadata": {},
   "source": [
    "## Decision Tree Classifier\n",
    "\n",
    "決定木モデルをつくります。\n",
    "決定木モデルを作成するときは、以下のパラメータを（一部でいいので）設定する必要があります。\n",
    "*   class_weight：予測するクラスに対して重要度の重みを付ける場合に使う引数ですが、原則 None（重みは平等）で結構です。\n",
    "*   criterion：分割を決定するのに用いる不純度を決めます。'gini'ならばジニ係数、'entropy'ならばエントロピーを不純度として用います。\n",
    "*   max_depth：木の最大深さを決めます。Noneの場合は全ての葉が純粋（単独クラス）になるまで木が成長します。（他のパラメータによって停止される可能性はある）\n",
    "*   max_features：使用する変数の数の上限を決めます。\n",
    "*   max_leaf_nodes：最大の葉の数をきめます。ここで指定した葉の数以内で、もっともcriterionが低くなるように木が成長します。\n",
    "*   min_impurity_decrease：ここで設定した値以上のcriterionの減少を引き起こす場合のみ、ノードは分割されるようになります。（criterionの減少に効果的ではない分割が発生しないようになります。）\n",
    "*   min_impurity_split：使われなくなった引数です。原則、設定しません。（Scikit-learn 0.19以降）\n",
    "*   min_samples_leaf：１つの葉に必要なサンプルの最小数。ここで指定するよりも小さなサンプル数になってしまう葉は生成させません。\n",
    "*   min_samples_split：ノードを分割するために必要なサンプルの最小数。ここで指定するよりも小さなサンプル数のノードは分割されません。\n",
    "*   min_weight_fraction_leaf：葉に必要な（すべての入力サンプルの）重みの合計の最小加重部分。原則、設定不要です。\n",
    "*   presort：分割の閾値の発見を早めるためにデータを事前にソートしておくかを決めますが、大きいデータだとソートに時間がかかるため、かえって速度が遅くなる可能性もあります。原則、設定不要です。\n",
    "*   random_state：分割の閾値を決めるときに乱数をしようする場合があり、その際のシードの値を入力します。（値を定めておくと処理の再現性が得られます）\n",
    "*   splitter：分割の閾値を決める場合に使うアルゴリズムを選択します。原則、設定不要です。"
   ]
  },
  {
   "cell_type": "code",
   "execution_count": 919,
   "metadata": {},
   "outputs": [],
   "source": [
    "# 決定木構築用クラスをインポート\n",
    "from sklearn.tree import DecisionTreeClassifier\n",
    "\n",
    "# 決定木可視化用モジュール群をインポート\n",
    "from sklearn.tree import export_graphviz"
   ]
  },
  {
   "cell_type": "code",
   "execution_count": 920,
   "metadata": {},
   "outputs": [
    {
     "name": "stdout",
     "output_type": "stream",
     "text": [
      "\n",
      "==== アンダーサンプリングを行う\n",
      "RandomUnderSampler(random_state=1234, sampling_strategy={0: 768, 1: 192})\n",
      "-----------------------------------------------------\n",
      "サンプリング後の説明変数の数と件数：(960, 25)\n",
      "サンプリング後の目的変数の数と件数：(960, 1)\n",
      "-----------------------------------------------------\n",
      "サンプリング後の目的変数＝ 0 の件数：768\n",
      "サンプリング後の目的変数＝ 1 の件数：192\n",
      "-----------------------------------------------------\n",
      "\n",
      "===  精度検証（訓練用データを確認）\n",
      "0.8729166666666667\n"
     ]
    },
    {
     "data": {
      "text/html": [
       "<div>\n",
       "<style scoped>\n",
       "    .dataframe tbody tr th:only-of-type {\n",
       "        vertical-align: middle;\n",
       "    }\n",
       "\n",
       "    .dataframe tbody tr th {\n",
       "        vertical-align: top;\n",
       "    }\n",
       "\n",
       "    .dataframe thead th {\n",
       "        text-align: right;\n",
       "    }\n",
       "</style>\n",
       "<table border=\"1\" class=\"dataframe\">\n",
       "  <thead>\n",
       "    <tr style=\"text-align: right;\">\n",
       "      <th></th>\n",
       "      <th>predict(0)</th>\n",
       "      <th>predict(1)</th>\n",
       "    </tr>\n",
       "  </thead>\n",
       "  <tbody>\n",
       "    <tr>\n",
       "      <th>target(0)</th>\n",
       "      <td>723</td>\n",
       "      <td>45</td>\n",
       "    </tr>\n",
       "    <tr>\n",
       "      <th>target(1)</th>\n",
       "      <td>77</td>\n",
       "      <td>115</td>\n",
       "    </tr>\n",
       "  </tbody>\n",
       "</table>\n",
       "</div>"
      ],
      "text/plain": [
       "           predict(0)  predict(1)\n",
       "target(0)         723          45\n",
       "target(1)          77         115"
      ]
     },
     "metadata": {},
     "output_type": "display_data"
    },
    {
     "name": "stdout",
     "output_type": "stream",
     "text": [
      "\n",
      "===  精度検証（検証用データを確認）\n",
      "0.8982490915097456\n"
     ]
    },
    {
     "data": {
      "text/html": [
       "<div>\n",
       "<style scoped>\n",
       "    .dataframe tbody tr th:only-of-type {\n",
       "        vertical-align: middle;\n",
       "    }\n",
       "\n",
       "    .dataframe tbody tr th {\n",
       "        vertical-align: top;\n",
       "    }\n",
       "\n",
       "    .dataframe thead th {\n",
       "        text-align: right;\n",
       "    }\n",
       "</style>\n",
       "<table border=\"1\" class=\"dataframe\">\n",
       "  <thead>\n",
       "    <tr style=\"text-align: right;\">\n",
       "      <th></th>\n",
       "      <th>predict(0)</th>\n",
       "      <th>predict(1)</th>\n",
       "    </tr>\n",
       "  </thead>\n",
       "  <tbody>\n",
       "    <tr>\n",
       "      <th>target(0)</th>\n",
       "      <td>2677</td>\n",
       "      <td>271</td>\n",
       "    </tr>\n",
       "    <tr>\n",
       "      <th>target(1)</th>\n",
       "      <td>37</td>\n",
       "      <td>42</td>\n",
       "    </tr>\n",
       "  </tbody>\n",
       "</table>\n",
       "</div>"
      ],
      "text/plain": [
       "           predict(0)  predict(1)\n",
       "target(0)        2677         271\n",
       "target(1)          37          42"
      ]
     },
     "metadata": {},
     "output_type": "display_data"
    },
    {
     "name": "stdout",
     "output_type": "stream",
     "text": [
      "\n",
      " ==== ROC \n",
      "AUC(train): 0.872775607638889\n",
      "AUC(test): 0.7876977311371794\n",
      "AUC ratio(train/test): 1.1080082792404198\n"
     ]
    },
    {
     "data": {
      "image/png": "[encoded data removed]",
      "text/plain": [
       "<Figure size 432x288 with 1 Axes>"
      ]
     },
     "metadata": {
      "needs_background": "light"
     },
     "output_type": "display_data"
    }
   ],
   "source": [
    "## アンダーサンプリング\n",
    "X_train_smp, y_train_smp = UnderSampling(X_train, y_train)\n",
    "## 標準化\n",
    "X_train_smp_std, X_test_smp_std = standard(X_train_smp, X_test)\n",
    "## 学習\n",
    "clf = DecisionTreeClassifier(criterion='gini', max_leaf_nodes=10, random_state=1234)\n",
    "clf.fit(X_train_smp_std, y_train_smp)\n",
    "## 精度を表示\n",
    "accuracy(\"Tree_Under\", clf, X_train_smp_std, y_train_smp, X_test_smp_std, y_test)"
   ]
  },
  {
   "cell_type": "code",
   "execution_count": 921,
   "metadata": {},
   "outputs": [
    {
     "name": "stdout",
     "output_type": "stream",
     "text": [
      "------------------------------\n",
      "\n",
      "===  精度検証（レポート用データを確認）\n",
      "0.9193025141930251\n"
     ]
    },
    {
     "data": {
      "text/html": [
       "<div>\n",
       "<style scoped>\n",
       "    .dataframe tbody tr th:only-of-type {\n",
       "        vertical-align: middle;\n",
       "    }\n",
       "\n",
       "    .dataframe tbody tr th {\n",
       "        vertical-align: top;\n",
       "    }\n",
       "\n",
       "    .dataframe thead th {\n",
       "        text-align: right;\n",
       "    }\n",
       "</style>\n",
       "<table border=\"1\" class=\"dataframe\">\n",
       "  <thead>\n",
       "    <tr style=\"text-align: right;\">\n",
       "      <th></th>\n",
       "      <th>predict(0)</th>\n",
       "      <th>predict(1)</th>\n",
       "    </tr>\n",
       "  </thead>\n",
       "  <tbody>\n",
       "    <tr>\n",
       "      <th>target(0)</th>\n",
       "      <td>2245</td>\n",
       "      <td>170</td>\n",
       "    </tr>\n",
       "    <tr>\n",
       "      <th>target(1)</th>\n",
       "      <td>29</td>\n",
       "      <td>22</td>\n",
       "    </tr>\n",
       "  </tbody>\n",
       "</table>\n",
       "</div>"
      ],
      "text/plain": [
       "           predict(0)  predict(1)\n",
       "target(0)        2245         170\n",
       "target(1)          29          22"
      ]
     },
     "metadata": {},
     "output_type": "display_data"
    },
    {
     "name": "stdout",
     "output_type": "stream",
     "text": [
      "\n",
      "==== ROC \n",
      "AUC: 0.7353550115698454\n"
     ]
    },
    {
     "data": {
      "image/png": "[encoded data removed]",
      "text/plain": [
       "<Figure size 432x288 with 1 Axes>"
      ]
     },
     "metadata": {
      "needs_background": "light"
     },
     "output_type": "display_data"
    }
   ],
   "source": [
    "## データ前処理\n",
    "reportX, reporty = preprocess(accuracy_report)\n",
    "## 標準化\n",
    "X_train_smp_std, reportX_std = standard(X_train_smp, reportX)\n",
    "## レポート用の精度\n",
    "report_ACC(\"Tree_Under\", clf, reportX_std, reporty)"
   ]
  },
  {
   "cell_type": "code",
   "execution_count": 922,
   "metadata": {},
   "outputs": [
    {
     "name": "stdout",
     "output_type": "stream",
     "text": [
      "\n",
      "==== オーバーサンプリングを行う\n",
      "RandomOverSampler(random_state=1234, sampling_strategy={0: 6868, 1: 1373})\n",
      "-----------------------------------------------------\n",
      "サンプリング後の説明変数の数と件数：(8241, 25)\n",
      "サンプリング後の目的変数の数と件数：(8241, 1)\n",
      "-----------------------------------------------------\n",
      "サンプリング後の目的変数＝ 0 の件数：6868\n",
      "サンプリング後の目的変数＝ 1 の件数：1373\n",
      "-----------------------------------------------------\n",
      "\n",
      "===  精度検証（訓練用データを確認）\n",
      "0.8836306273510496\n"
     ]
    },
    {
     "data": {
      "text/html": [
       "<div>\n",
       "<style scoped>\n",
       "    .dataframe tbody tr th:only-of-type {\n",
       "        vertical-align: middle;\n",
       "    }\n",
       "\n",
       "    .dataframe tbody tr th {\n",
       "        vertical-align: top;\n",
       "    }\n",
       "\n",
       "    .dataframe thead th {\n",
       "        text-align: right;\n",
       "    }\n",
       "</style>\n",
       "<table border=\"1\" class=\"dataframe\">\n",
       "  <thead>\n",
       "    <tr style=\"text-align: right;\">\n",
       "      <th></th>\n",
       "      <th>predict(0)</th>\n",
       "      <th>predict(1)</th>\n",
       "    </tr>\n",
       "  </thead>\n",
       "  <tbody>\n",
       "    <tr>\n",
       "      <th>target(0)</th>\n",
       "      <td>6473</td>\n",
       "      <td>395</td>\n",
       "    </tr>\n",
       "    <tr>\n",
       "      <th>target(1)</th>\n",
       "      <td>564</td>\n",
       "      <td>809</td>\n",
       "    </tr>\n",
       "  </tbody>\n",
       "</table>\n",
       "</div>"
      ],
      "text/plain": [
       "           predict(0)  predict(1)\n",
       "target(0)        6473         395\n",
       "target(1)         564         809"
      ]
     },
     "metadata": {},
     "output_type": "display_data"
    },
    {
     "name": "stdout",
     "output_type": "stream",
     "text": [
      "\n",
      "===  精度検証（検証用データを確認）\n",
      "0.9273207796498183\n"
     ]
    },
    {
     "data": {
      "text/html": [
       "<div>\n",
       "<style scoped>\n",
       "    .dataframe tbody tr th:only-of-type {\n",
       "        vertical-align: middle;\n",
       "    }\n",
       "\n",
       "    .dataframe tbody tr th {\n",
       "        vertical-align: top;\n",
       "    }\n",
       "\n",
       "    .dataframe thead th {\n",
       "        text-align: right;\n",
       "    }\n",
       "</style>\n",
       "<table border=\"1\" class=\"dataframe\">\n",
       "  <thead>\n",
       "    <tr style=\"text-align: right;\">\n",
       "      <th></th>\n",
       "      <th>predict(0)</th>\n",
       "      <th>predict(1)</th>\n",
       "    </tr>\n",
       "  </thead>\n",
       "  <tbody>\n",
       "    <tr>\n",
       "      <th>target(0)</th>\n",
       "      <td>2771</td>\n",
       "      <td>177</td>\n",
       "    </tr>\n",
       "    <tr>\n",
       "      <th>target(1)</th>\n",
       "      <td>43</td>\n",
       "      <td>36</td>\n",
       "    </tr>\n",
       "  </tbody>\n",
       "</table>\n",
       "</div>"
      ],
      "text/plain": [
       "           predict(0)  predict(1)\n",
       "target(0)        2771         177\n",
       "target(1)          43          36"
      ]
     },
     "metadata": {},
     "output_type": "display_data"
    },
    {
     "name": "stdout",
     "output_type": "stream",
     "text": [
      "\n",
      " ==== ROC \n",
      "AUC(train): 0.8760483295234113\n",
      "AUC(test): 0.8062900400185492\n",
      "AUC ratio(train/test): 1.086517612822375\n"
     ]
    },
    {
     "data": {
      "image/png": "[encoded data removed]",
      "text/plain": [
       "<Figure size 432x288 with 1 Axes>"
      ]
     },
     "metadata": {
      "needs_background": "light"
     },
     "output_type": "display_data"
    }
   ],
   "source": [
    "## オーバーサンプリング\n",
    "X_train_smp, y_train_smp = OverSampling(X_train, y_train)\n",
    "## 標準化\n",
    "X_train_smp_std, X_test_smp_std = standard(X_train_smp, X_test)\n",
    "## 学習\n",
    "clf = DecisionTreeClassifier(criterion='gini', max_leaf_nodes=10, random_state=1234)\n",
    "clf.fit(X_train_smp_std, y_train_smp)\n",
    "## 精度を表示\n",
    "accuracy(\"Tree_Over\", clf, X_train_smp_std, y_train_smp, X_test_smp_std, y_test)"
   ]
  },
  {
   "cell_type": "code",
   "execution_count": 923,
   "metadata": {},
   "outputs": [
    {
     "name": "stdout",
     "output_type": "stream",
     "text": [
      "------------------------------\n",
      "\n",
      "===  精度検証（レポート用データを確認）\n",
      "0.929845904298459\n"
     ]
    },
    {
     "data": {
      "text/html": [
       "<div>\n",
       "<style scoped>\n",
       "    .dataframe tbody tr th:only-of-type {\n",
       "        vertical-align: middle;\n",
       "    }\n",
       "\n",
       "    .dataframe tbody tr th {\n",
       "        vertical-align: top;\n",
       "    }\n",
       "\n",
       "    .dataframe thead th {\n",
       "        text-align: right;\n",
       "    }\n",
       "</style>\n",
       "<table border=\"1\" class=\"dataframe\">\n",
       "  <thead>\n",
       "    <tr style=\"text-align: right;\">\n",
       "      <th></th>\n",
       "      <th>predict(0)</th>\n",
       "      <th>predict(1)</th>\n",
       "    </tr>\n",
       "  </thead>\n",
       "  <tbody>\n",
       "    <tr>\n",
       "      <th>target(0)</th>\n",
       "      <td>2270</td>\n",
       "      <td>145</td>\n",
       "    </tr>\n",
       "    <tr>\n",
       "      <th>target(1)</th>\n",
       "      <td>28</td>\n",
       "      <td>23</td>\n",
       "    </tr>\n",
       "  </tbody>\n",
       "</table>\n",
       "</div>"
      ],
      "text/plain": [
       "           predict(0)  predict(1)\n",
       "target(0)        2270         145\n",
       "target(1)          28          23"
      ]
     },
     "metadata": {},
     "output_type": "display_data"
    },
    {
     "name": "stdout",
     "output_type": "stream",
     "text": [
      "\n",
      "==== ROC \n",
      "AUC: 0.8345227946250965\n"
     ]
    },
    {
     "data": {
      "image/png": "[encoded data removed]",
      "text/plain": [
       "<Figure size 432x288 with 1 Axes>"
      ]
     },
     "metadata": {
      "needs_background": "light"
     },
     "output_type": "display_data"
    }
   ],
   "source": [
    "## データ前処理\n",
    "reportX, reporty = preprocess(accuracy_report)\n",
    "## 標準化\n",
    "X_train_smp_std, reportX_std = standard(X_train_smp, reportX)\n",
    "## レポート用の精度\n",
    "report_ACC(\"Tree_Over\", clf, reportX_std, reporty)"
   ]
  },
  {
   "cell_type": "code",
   "execution_count": 924,
   "metadata": {},
   "outputs": [
    {
     "name": "stdout",
     "output_type": "stream",
     "text": [
      "\n",
      "==== (SMOTE) オーバーサンプリングを行う\n",
      "SMOTE(k_neighbors=3, random_state=1234)\n",
      "-----------------------------------------------------\n",
      "サンプリング後の説明変数の数と件数：(13736, 25)\n",
      "サンプリング後の目的変数の数と件数：(13736, 1)\n",
      "-----------------------------------------------------\n",
      "サンプリング後の目的変数＝ 0 の件数：6868\n",
      "サンプリング後の目的変数＝ 1 の件数：6868\n",
      "-----------------------------------------------------\n",
      "\n",
      "===  精度検証（訓練用データを確認）\n",
      "0.856144437973209\n"
     ]
    },
    {
     "data": {
      "text/html": [
       "<div>\n",
       "<style scoped>\n",
       "    .dataframe tbody tr th:only-of-type {\n",
       "        vertical-align: middle;\n",
       "    }\n",
       "\n",
       "    .dataframe tbody tr th {\n",
       "        vertical-align: top;\n",
       "    }\n",
       "\n",
       "    .dataframe thead th {\n",
       "        text-align: right;\n",
       "    }\n",
       "</style>\n",
       "<table border=\"1\" class=\"dataframe\">\n",
       "  <thead>\n",
       "    <tr style=\"text-align: right;\">\n",
       "      <th></th>\n",
       "      <th>predict(0)</th>\n",
       "      <th>predict(1)</th>\n",
       "    </tr>\n",
       "  </thead>\n",
       "  <tbody>\n",
       "    <tr>\n",
       "      <th>target(0)</th>\n",
       "      <td>5718</td>\n",
       "      <td>1150</td>\n",
       "    </tr>\n",
       "    <tr>\n",
       "      <th>target(1)</th>\n",
       "      <td>826</td>\n",
       "      <td>6042</td>\n",
       "    </tr>\n",
       "  </tbody>\n",
       "</table>\n",
       "</div>"
      ],
      "text/plain": [
       "           predict(0)  predict(1)\n",
       "target(0)        5718        1150\n",
       "target(1)         826        6042"
      ]
     },
     "metadata": {},
     "output_type": "display_data"
    },
    {
     "name": "stdout",
     "output_type": "stream",
     "text": [
      "\n",
      "===  精度検証（検証用データを確認）\n",
      "0.8252395110670631\n"
     ]
    },
    {
     "data": {
      "text/html": [
       "<div>\n",
       "<style scoped>\n",
       "    .dataframe tbody tr th:only-of-type {\n",
       "        vertical-align: middle;\n",
       "    }\n",
       "\n",
       "    .dataframe tbody tr th {\n",
       "        vertical-align: top;\n",
       "    }\n",
       "\n",
       "    .dataframe thead th {\n",
       "        text-align: right;\n",
       "    }\n",
       "</style>\n",
       "<table border=\"1\" class=\"dataframe\">\n",
       "  <thead>\n",
       "    <tr style=\"text-align: right;\">\n",
       "      <th></th>\n",
       "      <th>predict(0)</th>\n",
       "      <th>predict(1)</th>\n",
       "    </tr>\n",
       "  </thead>\n",
       "  <tbody>\n",
       "    <tr>\n",
       "      <th>target(0)</th>\n",
       "      <td>2440</td>\n",
       "      <td>508</td>\n",
       "    </tr>\n",
       "    <tr>\n",
       "      <th>target(1)</th>\n",
       "      <td>21</td>\n",
       "      <td>58</td>\n",
       "    </tr>\n",
       "  </tbody>\n",
       "</table>\n",
       "</div>"
      ],
      "text/plain": [
       "           predict(0)  predict(1)\n",
       "target(0)        2440         508\n",
       "target(1)          21          58"
      ]
     },
     "metadata": {},
     "output_type": "display_data"
    },
    {
     "name": "stdout",
     "output_type": "stream",
     "text": [
      "\n",
      " ==== ROC \n",
      "AUC(train): 0.8938670949214897\n",
      "AUC(test): 0.8261232674372669\n",
      "AUC ratio(train/test): 1.0820020814743208\n"
     ]
    },
    {
     "data": {
      "image/png": "[encoded data removed]",
      "text/plain": [
       "<Figure size 432x288 with 1 Axes>"
      ]
     },
     "metadata": {
      "needs_background": "light"
     },
     "output_type": "display_data"
    }
   ],
   "source": [
    "## (SMOTE) オーバーサンプリング\n",
    "X_train_smp, y_train_smp = SMOTESampling(X_train, y_train)\n",
    "## 標準化\n",
    "X_train_smp_std, X_test_smp_std = standard(X_train_smp, X_test)\n",
    "## 学習\n",
    "clf = DecisionTreeClassifier(criterion='gini', max_leaf_nodes=10, random_state=1234)\n",
    "clf.fit(X_train_smp_std, y_train_smp)\n",
    "## 精度を表示\n",
    "accuracy(\"Tree_SMOTE\", clf, X_train_smp_std, y_train_smp, X_test_smp_std, y_test)"
   ]
  },
  {
   "cell_type": "code",
   "execution_count": 925,
   "metadata": {},
   "outputs": [
    {
     "data": {
      "image/png": "[encoded data removed]",
      "text/plain": [
       "<Figure size 1080x576 with 1 Axes>"
      ]
     },
     "metadata": {
      "needs_background": "light"
     },
     "output_type": "display_data"
    }
   ],
   "source": [
    "fig, ax = plt.subplots(1, 1, figsize=(15, 8))\n",
    "ax.bar(x=X_train.columns.tolist(), height=clf.feature_importances_)\n",
    "ax.set_xticklabels(X_train.columns.tolist(), rotation=90);"
   ]
  },
  {
   "cell_type": "code",
   "execution_count": 926,
   "metadata": {},
   "outputs": [
    {
     "name": "stdout",
     "output_type": "stream",
     "text": [
      "------------------------------\n",
      "\n",
      "===  精度検証（レポート用データを確認）\n",
      "0.851581508515815\n"
     ]
    },
    {
     "data": {
      "text/html": [
       "<div>\n",
       "<style scoped>\n",
       "    .dataframe tbody tr th:only-of-type {\n",
       "        vertical-align: middle;\n",
       "    }\n",
       "\n",
       "    .dataframe tbody tr th {\n",
       "        vertical-align: top;\n",
       "    }\n",
       "\n",
       "    .dataframe thead th {\n",
       "        text-align: right;\n",
       "    }\n",
       "</style>\n",
       "<table border=\"1\" class=\"dataframe\">\n",
       "  <thead>\n",
       "    <tr style=\"text-align: right;\">\n",
       "      <th></th>\n",
       "      <th>predict(0)</th>\n",
       "      <th>predict(1)</th>\n",
       "    </tr>\n",
       "  </thead>\n",
       "  <tbody>\n",
       "    <tr>\n",
       "      <th>target(0)</th>\n",
       "      <td>2059</td>\n",
       "      <td>356</td>\n",
       "    </tr>\n",
       "    <tr>\n",
       "      <th>target(1)</th>\n",
       "      <td>10</td>\n",
       "      <td>41</td>\n",
       "    </tr>\n",
       "  </tbody>\n",
       "</table>\n",
       "</div>"
      ],
      "text/plain": [
       "           predict(0)  predict(1)\n",
       "target(0)        2059         356\n",
       "target(1)          10          41"
      ]
     },
     "metadata": {},
     "output_type": "display_data"
    },
    {
     "name": "stdout",
     "output_type": "stream",
     "text": [
      "\n",
      "==== ROC \n",
      "AUC: 0.8609385783298826\n"
     ]
    },
    {
     "data": {
      "image/png": "[encoded data removed]",
      "text/plain": [
       "<Figure size 432x288 with 1 Axes>"
      ]
     },
     "metadata": {
      "needs_background": "light"
     },
     "output_type": "display_data"
    }
   ],
   "source": [
    "# データ前処理\n",
    "reportX, reporty = preprocess(accuracy_report)\n",
    "## 標準化\n",
    "X_train_smp_std, reportX_std = standard(X_train_smp, reportX)\n",
    "## レポート用の精度\n",
    "report_ACC(\"Tree_SMOTE\", clf, reportX_std, reporty)"
   ]
  },
  {
   "cell_type": "code",
   "execution_count": null,
   "metadata": {},
   "outputs": [],
   "source": []
  },
  {
   "cell_type": "markdown",
   "metadata": {},
   "source": [
    "## サポートベクターマシーン\n",
    "\n",
    "SVMで線形判別モデルをつくります。\n",
    "SVMでモデルを作成するときは、以下のパラメータを（一部でいいので）設定する必要があります。\n",
    "*   C：ソフトマージンの厳しさを表すパラメータ（デフォルト1.0、データ解析者が決めるハイパーパラメータ）\n",
    "*   kernel：カーネル関数を指定する（カーネルトリックを使わない際は linear、使う際は rbf などを指定する）\n",
    "*   gamma：カーネルトリックを使う際のパラメータ（、データ解析者が決めるハイパーパラメータ）\n",
    "*   probability：確率をアウトプットする際はTrueにする。（デフォルトFalse）"
   ]
  },
  {
   "cell_type": "code",
   "execution_count": 927,
   "metadata": {},
   "outputs": [],
   "source": [
    "# サポートベクターマシンを行うためのモジュールをインポート\n",
    "from sklearn.svm import SVC"
   ]
  },
  {
   "cell_type": "code",
   "execution_count": 928,
   "metadata": {},
   "outputs": [
    {
     "name": "stdout",
     "output_type": "stream",
     "text": [
      "\n",
      "==== アンダーサンプリングを行う\n",
      "RandomUnderSampler(random_state=1234, sampling_strategy={0: 768, 1: 192})\n",
      "-----------------------------------------------------\n",
      "サンプリング後の説明変数の数と件数：(960, 25)\n",
      "サンプリング後の目的変数の数と件数：(960, 1)\n",
      "-----------------------------------------------------\n",
      "サンプリング後の目的変数＝ 0 の件数：768\n",
      "サンプリング後の目的変数＝ 1 の件数：192\n",
      "-----------------------------------------------------\n",
      "\n",
      "===  精度検証（訓練用データを確認）\n",
      "0.8833333333333333\n"
     ]
    },
    {
     "data": {
      "text/html": [
       "<div>\n",
       "<style scoped>\n",
       "    .dataframe tbody tr th:only-of-type {\n",
       "        vertical-align: middle;\n",
       "    }\n",
       "\n",
       "    .dataframe tbody tr th {\n",
       "        vertical-align: top;\n",
       "    }\n",
       "\n",
       "    .dataframe thead th {\n",
       "        text-align: right;\n",
       "    }\n",
       "</style>\n",
       "<table border=\"1\" class=\"dataframe\">\n",
       "  <thead>\n",
       "    <tr style=\"text-align: right;\">\n",
       "      <th></th>\n",
       "      <th>predict(0)</th>\n",
       "      <th>predict(1)</th>\n",
       "    </tr>\n",
       "  </thead>\n",
       "  <tbody>\n",
       "    <tr>\n",
       "      <th>target(0)</th>\n",
       "      <td>743</td>\n",
       "      <td>25</td>\n",
       "    </tr>\n",
       "    <tr>\n",
       "      <th>target(1)</th>\n",
       "      <td>87</td>\n",
       "      <td>105</td>\n",
       "    </tr>\n",
       "  </tbody>\n",
       "</table>\n",
       "</div>"
      ],
      "text/plain": [
       "           predict(0)  predict(1)\n",
       "target(0)         743          25\n",
       "target(1)          87         105"
      ]
     },
     "metadata": {},
     "output_type": "display_data"
    },
    {
     "name": "stdout",
     "output_type": "stream",
     "text": [
      "\n",
      "===  精度検証（検証用データを確認）\n",
      "0.9233564585398084\n"
     ]
    },
    {
     "data": {
      "text/html": [
       "<div>\n",
       "<style scoped>\n",
       "    .dataframe tbody tr th:only-of-type {\n",
       "        vertical-align: middle;\n",
       "    }\n",
       "\n",
       "    .dataframe tbody tr th {\n",
       "        vertical-align: top;\n",
       "    }\n",
       "\n",
       "    .dataframe thead th {\n",
       "        text-align: right;\n",
       "    }\n",
       "</style>\n",
       "<table border=\"1\" class=\"dataframe\">\n",
       "  <thead>\n",
       "    <tr style=\"text-align: right;\">\n",
       "      <th></th>\n",
       "      <th>predict(0)</th>\n",
       "      <th>predict(1)</th>\n",
       "    </tr>\n",
       "  </thead>\n",
       "  <tbody>\n",
       "    <tr>\n",
       "      <th>target(0)</th>\n",
       "      <td>2761</td>\n",
       "      <td>187</td>\n",
       "    </tr>\n",
       "    <tr>\n",
       "      <th>target(1)</th>\n",
       "      <td>45</td>\n",
       "      <td>34</td>\n",
       "    </tr>\n",
       "  </tbody>\n",
       "</table>\n",
       "</div>"
      ],
      "text/plain": [
       "           predict(0)  predict(1)\n",
       "target(0)        2761         187\n",
       "target(1)          45          34"
      ]
     },
     "metadata": {},
     "output_type": "display_data"
    },
    {
     "name": "stdout",
     "output_type": "stream",
     "text": [
      "\n",
      " ==== ROC \n",
      "AUC(train): 0.9237297905815972\n",
      "AUC(test): 0.8902195008845302\n",
      "AUC ratio(train/test): 1.037642727062001\n"
     ]
    },
    {
     "data": {
      "image/png": "[encoded data removed]",
      "text/plain": [
       "<Figure size 432x288 with 1 Axes>"
      ]
     },
     "metadata": {
      "needs_background": "light"
     },
     "output_type": "display_data"
    }
   ],
   "source": [
    "## アンダーサンプリング\n",
    "X_train_smp, y_train_smp = UnderSampling(X_train, y_train)\n",
    "## 標準化\n",
    "X_train_smp_std, X_test_smp_std = standard(X_train_smp, X_test)\n",
    "## 学習\n",
    "clf = SVC(C=10, kernel='rbf', gamma=0.005, probability=True, random_state=5678)\n",
    "clf.fit(X_train_smp_std, y_train_smp)\n",
    "## 精度を表示\n",
    "accuracy(\"SVM_Under\", clf, X_train_smp_std, y_train_smp, X_test_smp_std, y_test)"
   ]
  },
  {
   "cell_type": "code",
   "execution_count": 929,
   "metadata": {},
   "outputs": [
    {
     "name": "stdout",
     "output_type": "stream",
     "text": [
      "------------------------------\n",
      "\n",
      "===  精度検証（レポート用データを確認）\n",
      "0.9371451743714517\n"
     ]
    },
    {
     "data": {
      "text/html": [
       "<div>\n",
       "<style scoped>\n",
       "    .dataframe tbody tr th:only-of-type {\n",
       "        vertical-align: middle;\n",
       "    }\n",
       "\n",
       "    .dataframe tbody tr th {\n",
       "        vertical-align: top;\n",
       "    }\n",
       "\n",
       "    .dataframe thead th {\n",
       "        text-align: right;\n",
       "    }\n",
       "</style>\n",
       "<table border=\"1\" class=\"dataframe\">\n",
       "  <thead>\n",
       "    <tr style=\"text-align: right;\">\n",
       "      <th></th>\n",
       "      <th>predict(0)</th>\n",
       "      <th>predict(1)</th>\n",
       "    </tr>\n",
       "  </thead>\n",
       "  <tbody>\n",
       "    <tr>\n",
       "      <th>target(0)</th>\n",
       "      <td>2292</td>\n",
       "      <td>123</td>\n",
       "    </tr>\n",
       "    <tr>\n",
       "      <th>target(1)</th>\n",
       "      <td>32</td>\n",
       "      <td>19</td>\n",
       "    </tr>\n",
       "  </tbody>\n",
       "</table>\n",
       "</div>"
      ],
      "text/plain": [
       "           predict(0)  predict(1)\n",
       "target(0)        2292         123\n",
       "target(1)          32          19"
      ]
     },
     "metadata": {},
     "output_type": "display_data"
    },
    {
     "name": "stdout",
     "output_type": "stream",
     "text": [
      "\n",
      "==== ROC \n",
      "AUC: 0.881748061543458\n"
     ]
    },
    {
     "data": {
      "image/png": "[encoded data removed]",
      "text/plain": [
       "<Figure size 432x288 with 1 Axes>"
      ]
     },
     "metadata": {
      "needs_background": "light"
     },
     "output_type": "display_data"
    }
   ],
   "source": [
    "## データ前処理\n",
    "reportX, reporty = preprocess(accuracy_report)\n",
    "## 標準化\n",
    "X_train_smp_std, reportX_std = standard(X_train_smp, reportX)\n",
    "## レポート用の精度\n",
    "report_ACC(\"SVM_Under\", clf, reportX_std, reporty)"
   ]
  },
  {
   "cell_type": "code",
   "execution_count": 930,
   "metadata": {},
   "outputs": [
    {
     "name": "stdout",
     "output_type": "stream",
     "text": [
      "\n",
      "==== オーバーサンプリングを行う\n",
      "RandomOverSampler(random_state=1234, sampling_strategy={0: 6868, 1: 1373})\n",
      "-----------------------------------------------------\n",
      "サンプリング後の説明変数の数と件数：(8241, 25)\n",
      "サンプリング後の目的変数の数と件数：(8241, 1)\n",
      "-----------------------------------------------------\n",
      "サンプリング後の目的変数＝ 0 の件数：6868\n",
      "サンプリング後の目的変数＝ 1 の件数：1373\n",
      "-----------------------------------------------------\n",
      "\n",
      "===  精度検証（訓練用データを確認）\n",
      "0.904623225336731\n"
     ]
    },
    {
     "data": {
      "text/html": [
       "<div>\n",
       "<style scoped>\n",
       "    .dataframe tbody tr th:only-of-type {\n",
       "        vertical-align: middle;\n",
       "    }\n",
       "\n",
       "    .dataframe tbody tr th {\n",
       "        vertical-align: top;\n",
       "    }\n",
       "\n",
       "    .dataframe thead th {\n",
       "        text-align: right;\n",
       "    }\n",
       "</style>\n",
       "<table border=\"1\" class=\"dataframe\">\n",
       "  <thead>\n",
       "    <tr style=\"text-align: right;\">\n",
       "      <th></th>\n",
       "      <th>predict(0)</th>\n",
       "      <th>predict(1)</th>\n",
       "    </tr>\n",
       "  </thead>\n",
       "  <tbody>\n",
       "    <tr>\n",
       "      <th>target(0)</th>\n",
       "      <td>6706</td>\n",
       "      <td>162</td>\n",
       "    </tr>\n",
       "    <tr>\n",
       "      <th>target(1)</th>\n",
       "      <td>624</td>\n",
       "      <td>749</td>\n",
       "    </tr>\n",
       "  </tbody>\n",
       "</table>\n",
       "</div>"
      ],
      "text/plain": [
       "           predict(0)  predict(1)\n",
       "target(0)        6706         162\n",
       "target(1)         624         749"
      ]
     },
     "metadata": {},
     "output_type": "display_data"
    },
    {
     "name": "stdout",
     "output_type": "stream",
     "text": [
      "\n",
      "===  精度検証（検証用データを確認）\n",
      "0.9448298645523621\n"
     ]
    },
    {
     "data": {
      "text/html": [
       "<div>\n",
       "<style scoped>\n",
       "    .dataframe tbody tr th:only-of-type {\n",
       "        vertical-align: middle;\n",
       "    }\n",
       "\n",
       "    .dataframe tbody tr th {\n",
       "        vertical-align: top;\n",
       "    }\n",
       "\n",
       "    .dataframe thead th {\n",
       "        text-align: right;\n",
       "    }\n",
       "</style>\n",
       "<table border=\"1\" class=\"dataframe\">\n",
       "  <thead>\n",
       "    <tr style=\"text-align: right;\">\n",
       "      <th></th>\n",
       "      <th>predict(0)</th>\n",
       "      <th>predict(1)</th>\n",
       "    </tr>\n",
       "  </thead>\n",
       "  <tbody>\n",
       "    <tr>\n",
       "      <th>target(0)</th>\n",
       "      <td>2835</td>\n",
       "      <td>113</td>\n",
       "    </tr>\n",
       "    <tr>\n",
       "      <th>target(1)</th>\n",
       "      <td>54</td>\n",
       "      <td>25</td>\n",
       "    </tr>\n",
       "  </tbody>\n",
       "</table>\n",
       "</div>"
      ],
      "text/plain": [
       "           predict(0)  predict(1)\n",
       "target(0)        2835         113\n",
       "target(1)          54          25"
      ]
     },
     "metadata": {},
     "output_type": "display_data"
    },
    {
     "name": "stdout",
     "output_type": "stream",
     "text": [
      "\n",
      " ==== ROC \n",
      "AUC(train): 0.9301238079765305\n",
      "AUC(test): 0.8686880614190269\n",
      "AUC ratio(train/test): 1.0707224483517668\n"
     ]
    },
    {
     "data": {
      "image/png": "[encoded data removed]",
      "text/plain": [
       "<Figure size 432x288 with 1 Axes>"
      ]
     },
     "metadata": {
      "needs_background": "light"
     },
     "output_type": "display_data"
    }
   ],
   "source": [
    "## アンダーサンプリング\n",
    "X_train_smp, y_train_smp = OverSampling(X_train, y_train)\n",
    "## 標準化\n",
    "X_train_smp_std, X_test_smp_std = standard(X_train_smp, X_test)\n",
    "## 学習\n",
    "clf = SVC(C=10, kernel='rbf', gamma=0.005, probability=True, random_state=5678)\n",
    "clf.fit(X_train_smp_std, y_train_smp)\n",
    "## 精度を表示\n",
    "accuracy(\"SVM_Over\", clf, X_train_smp_std, y_train_smp, X_test_smp_std, y_test)"
   ]
  },
  {
   "cell_type": "code",
   "execution_count": 931,
   "metadata": {},
   "outputs": [
    {
     "name": "stdout",
     "output_type": "stream",
     "text": [
      "------------------------------\n",
      "\n",
      "===  精度検証（レポート用データを確認）\n",
      "0.9537712895377128\n"
     ]
    },
    {
     "data": {
      "text/html": [
       "<div>\n",
       "<style scoped>\n",
       "    .dataframe tbody tr th:only-of-type {\n",
       "        vertical-align: middle;\n",
       "    }\n",
       "\n",
       "    .dataframe tbody tr th {\n",
       "        vertical-align: top;\n",
       "    }\n",
       "\n",
       "    .dataframe thead th {\n",
       "        text-align: right;\n",
       "    }\n",
       "</style>\n",
       "<table border=\"1\" class=\"dataframe\">\n",
       "  <thead>\n",
       "    <tr style=\"text-align: right;\">\n",
       "      <th></th>\n",
       "      <th>predict(0)</th>\n",
       "      <th>predict(1)</th>\n",
       "    </tr>\n",
       "  </thead>\n",
       "  <tbody>\n",
       "    <tr>\n",
       "      <th>target(0)</th>\n",
       "      <td>2337</td>\n",
       "      <td>78</td>\n",
       "    </tr>\n",
       "    <tr>\n",
       "      <th>target(1)</th>\n",
       "      <td>36</td>\n",
       "      <td>15</td>\n",
       "    </tr>\n",
       "  </tbody>\n",
       "</table>\n",
       "</div>"
      ],
      "text/plain": [
       "           predict(0)  predict(1)\n",
       "target(0)        2337          78\n",
       "target(1)          36          15"
      ]
     },
     "metadata": {},
     "output_type": "display_data"
    },
    {
     "name": "stdout",
     "output_type": "stream",
     "text": [
      "\n",
      "==== ROC \n",
      "AUC: 0.8175455689522185\n"
     ]
    },
    {
     "data": {
      "image/png": "[encoded data removed]",
      "text/plain": [
       "<Figure size 432x288 with 1 Axes>"
      ]
     },
     "metadata": {
      "needs_background": "light"
     },
     "output_type": "display_data"
    }
   ],
   "source": [
    "## データ前処理\n",
    "reportX, reporty = preprocess(accuracy_report)\n",
    "## 標準化\n",
    "X_train_smp_std, reportX_std = standard(X_train_smp, reportX)\n",
    "## レポート用の精度\n",
    "report_ACC(\"SVM_Over\", clf, reportX_std, reporty)"
   ]
  },
  {
   "cell_type": "code",
   "execution_count": 932,
   "metadata": {},
   "outputs": [
    {
     "name": "stdout",
     "output_type": "stream",
     "text": [
      "\n",
      "==== (SMOTE) オーバーサンプリングを行う\n",
      "SMOTE(k_neighbors=3, random_state=1234)\n",
      "-----------------------------------------------------\n",
      "サンプリング後の説明変数の数と件数：(13736, 25)\n",
      "サンプリング後の目的変数の数と件数：(13736, 1)\n",
      "-----------------------------------------------------\n",
      "サンプリング後の目的変数＝ 0 の件数：6868\n",
      "サンプリング後の目的変数＝ 1 の件数：6868\n",
      "-----------------------------------------------------\n",
      "\n",
      "===  精度検証（訓練用データを確認）\n",
      "0.89917006406523\n"
     ]
    },
    {
     "data": {
      "text/html": [
       "<div>\n",
       "<style scoped>\n",
       "    .dataframe tbody tr th:only-of-type {\n",
       "        vertical-align: middle;\n",
       "    }\n",
       "\n",
       "    .dataframe tbody tr th {\n",
       "        vertical-align: top;\n",
       "    }\n",
       "\n",
       "    .dataframe thead th {\n",
       "        text-align: right;\n",
       "    }\n",
       "</style>\n",
       "<table border=\"1\" class=\"dataframe\">\n",
       "  <thead>\n",
       "    <tr style=\"text-align: right;\">\n",
       "      <th></th>\n",
       "      <th>predict(0)</th>\n",
       "      <th>predict(1)</th>\n",
       "    </tr>\n",
       "  </thead>\n",
       "  <tbody>\n",
       "    <tr>\n",
       "      <th>target(0)</th>\n",
       "      <td>6027</td>\n",
       "      <td>841</td>\n",
       "    </tr>\n",
       "    <tr>\n",
       "      <th>target(1)</th>\n",
       "      <td>544</td>\n",
       "      <td>6324</td>\n",
       "    </tr>\n",
       "  </tbody>\n",
       "</table>\n",
       "</div>"
      ],
      "text/plain": [
       "           predict(0)  predict(1)\n",
       "target(0)        6027         841\n",
       "target(1)         544        6324"
      ]
     },
     "metadata": {},
     "output_type": "display_data"
    },
    {
     "name": "stdout",
     "output_type": "stream",
     "text": [
      "\n",
      "===  精度検証（検証用データを確認）\n",
      "0.865213082259663\n"
     ]
    },
    {
     "data": {
      "text/html": [
       "<div>\n",
       "<style scoped>\n",
       "    .dataframe tbody tr th:only-of-type {\n",
       "        vertical-align: middle;\n",
       "    }\n",
       "\n",
       "    .dataframe tbody tr th {\n",
       "        vertical-align: top;\n",
       "    }\n",
       "\n",
       "    .dataframe thead th {\n",
       "        text-align: right;\n",
       "    }\n",
       "</style>\n",
       "<table border=\"1\" class=\"dataframe\">\n",
       "  <thead>\n",
       "    <tr style=\"text-align: right;\">\n",
       "      <th></th>\n",
       "      <th>predict(0)</th>\n",
       "      <th>predict(1)</th>\n",
       "    </tr>\n",
       "  </thead>\n",
       "  <tbody>\n",
       "    <tr>\n",
       "      <th>target(0)</th>\n",
       "      <td>2569</td>\n",
       "      <td>379</td>\n",
       "    </tr>\n",
       "    <tr>\n",
       "      <th>target(1)</th>\n",
       "      <td>29</td>\n",
       "      <td>50</td>\n",
       "    </tr>\n",
       "  </tbody>\n",
       "</table>\n",
       "</div>"
      ],
      "text/plain": [
       "           predict(0)  predict(1)\n",
       "target(0)        2569         379\n",
       "target(1)          29          50"
      ]
     },
     "metadata": {},
     "output_type": "display_data"
    },
    {
     "name": "stdout",
     "output_type": "stream",
     "text": [
      "\n",
      " ==== ROC \n",
      "AUC(train): 0.9547899503712404\n",
      "AUC(test): 0.8395479449702007\n",
      "AUC ratio(train/test): 1.1372667351417673\n"
     ]
    },
    {
     "data": {
      "image/png": "[encoded data removed]",
      "text/plain": [
       "<Figure size 432x288 with 1 Axes>"
      ]
     },
     "metadata": {
      "needs_background": "light"
     },
     "output_type": "display_data"
    }
   ],
   "source": [
    "## アンダーサンプリング\n",
    "X_train_smp, y_train_smp = SMOTESampling(X_train, y_train)\n",
    "## 標準化\n",
    "X_train_smp_std, X_test_smp_std = standard(X_train_smp, X_test)\n",
    "## 学習\n",
    "clf = SVC(C=10, kernel='rbf', gamma=0.005, probability=True, random_state=5678)\n",
    "clf.fit(X_train_smp_std, y_train_smp)\n",
    "## 精度を表示\n",
    "accuracy(\"SVM_SMOTE\", clf, X_train_smp_std, y_train_smp, X_test_smp_std, y_test)"
   ]
  },
  {
   "cell_type": "code",
   "execution_count": 933,
   "metadata": {},
   "outputs": [
    {
     "name": "stdout",
     "output_type": "stream",
     "text": [
      "------------------------------\n",
      "\n",
      "===  精度検証（レポート用データを確認）\n",
      "0.8722627737226277\n"
     ]
    },
    {
     "data": {
      "text/html": [
       "<div>\n",
       "<style scoped>\n",
       "    .dataframe tbody tr th:only-of-type {\n",
       "        vertical-align: middle;\n",
       "    }\n",
       "\n",
       "    .dataframe tbody tr th {\n",
       "        vertical-align: top;\n",
       "    }\n",
       "\n",
       "    .dataframe thead th {\n",
       "        text-align: right;\n",
       "    }\n",
       "</style>\n",
       "<table border=\"1\" class=\"dataframe\">\n",
       "  <thead>\n",
       "    <tr style=\"text-align: right;\">\n",
       "      <th></th>\n",
       "      <th>predict(0)</th>\n",
       "      <th>predict(1)</th>\n",
       "    </tr>\n",
       "  </thead>\n",
       "  <tbody>\n",
       "    <tr>\n",
       "      <th>target(0)</th>\n",
       "      <td>2124</td>\n",
       "      <td>291</td>\n",
       "    </tr>\n",
       "    <tr>\n",
       "      <th>target(1)</th>\n",
       "      <td>24</td>\n",
       "      <td>27</td>\n",
       "    </tr>\n",
       "  </tbody>\n",
       "</table>\n",
       "</div>"
      ],
      "text/plain": [
       "           predict(0)  predict(1)\n",
       "target(0)        2124         291\n",
       "target(1)          24          27"
      ]
     },
     "metadata": {},
     "output_type": "display_data"
    },
    {
     "name": "stdout",
     "output_type": "stream",
     "text": [
      "\n",
      "==== ROC \n",
      "AUC: 0.8096943125076118\n"
     ]
    },
    {
     "data": {
      "image/png": "[encoded data removed]",
      "text/plain": [
       "<Figure size 432x288 with 1 Axes>"
      ]
     },
     "metadata": {
      "needs_background": "light"
     },
     "output_type": "display_data"
    }
   ],
   "source": [
    "## データ前処理\n",
    "reportX, reporty = preprocess(accuracy_report)\n",
    "## 標準化\n",
    "X_train_smp_std, reportX_std = standard(X_train_smp, reportX)\n",
    "## レポート用の精度\n",
    "report_ACC(\"SVM_SMOTE\", clf, reportX_std, reporty)"
   ]
  },
  {
   "cell_type": "markdown",
   "metadata": {},
   "source": [
    "# ランダムフォレスト\n",
    "*   criterion：分割を決定するのに用いる不純度を決めます。'gini'ならばジニ係数、'entropy'ならばエントロピーを不純度として用います。\n",
    "*   max_leaf_nodes：最大の葉の数をきめます。ここで指定した葉の数以内で、もっともcriterionが低くなるように木が成長します。\n",
    "*   n_estimators：弱学習器の数を指定します。\n",
    "*   random_state：分割の閾値を決めるときに乱数をしようする場合があり、その際のシードの値を入力します。（値を定めておくと処理の再現性が得られます）"
   ]
  },
  {
   "cell_type": "code",
   "execution_count": 934,
   "metadata": {},
   "outputs": [],
   "source": [
    "# ランダムフォレスト用ライブラリをインポート\n",
    "from sklearn.ensemble import RandomForestClassifier\n",
    "clf = RandomForestClassifier(max_leaf_nodes=4, criterion='gini', n_estimators=100, random_state=1234)"
   ]
  },
  {
   "cell_type": "code",
   "execution_count": 935,
   "metadata": {},
   "outputs": [
    {
     "name": "stdout",
     "output_type": "stream",
     "text": [
      "\n",
      "==== アンダーサンプリングを行う\n",
      "RandomUnderSampler(random_state=1234, sampling_strategy={0: 768, 1: 192})\n",
      "-----------------------------------------------------\n",
      "サンプリング後の説明変数の数と件数：(960, 25)\n",
      "サンプリング後の目的変数の数と件数：(960, 1)\n",
      "-----------------------------------------------------\n",
      "サンプリング後の目的変数＝ 0 の件数：768\n",
      "サンプリング後の目的変数＝ 1 の件数：192\n",
      "-----------------------------------------------------\n",
      "\n",
      "===  精度検証（訓練用データを確認）\n",
      "0.85\n"
     ]
    },
    {
     "data": {
      "text/html": [
       "<div>\n",
       "<style scoped>\n",
       "    .dataframe tbody tr th:only-of-type {\n",
       "        vertical-align: middle;\n",
       "    }\n",
       "\n",
       "    .dataframe tbody tr th {\n",
       "        vertical-align: top;\n",
       "    }\n",
       "\n",
       "    .dataframe thead th {\n",
       "        text-align: right;\n",
       "    }\n",
       "</style>\n",
       "<table border=\"1\" class=\"dataframe\">\n",
       "  <thead>\n",
       "    <tr style=\"text-align: right;\">\n",
       "      <th></th>\n",
       "      <th>predict(0)</th>\n",
       "      <th>predict(1)</th>\n",
       "    </tr>\n",
       "  </thead>\n",
       "  <tbody>\n",
       "    <tr>\n",
       "      <th>target(0)</th>\n",
       "      <td>751</td>\n",
       "      <td>17</td>\n",
       "    </tr>\n",
       "    <tr>\n",
       "      <th>target(1)</th>\n",
       "      <td>127</td>\n",
       "      <td>65</td>\n",
       "    </tr>\n",
       "  </tbody>\n",
       "</table>\n",
       "</div>"
      ],
      "text/plain": [
       "           predict(0)  predict(1)\n",
       "target(0)         751          17\n",
       "target(1)         127          65"
      ]
     },
     "metadata": {},
     "output_type": "display_data"
    },
    {
     "name": "stdout",
     "output_type": "stream",
     "text": [
      "\n",
      "===  精度検証（検証用データを確認）\n",
      "0.9454905847373637\n"
     ]
    },
    {
     "data": {
      "text/html": [
       "<div>\n",
       "<style scoped>\n",
       "    .dataframe tbody tr th:only-of-type {\n",
       "        vertical-align: middle;\n",
       "    }\n",
       "\n",
       "    .dataframe tbody tr th {\n",
       "        vertical-align: top;\n",
       "    }\n",
       "\n",
       "    .dataframe thead th {\n",
       "        text-align: right;\n",
       "    }\n",
       "</style>\n",
       "<table border=\"1\" class=\"dataframe\">\n",
       "  <thead>\n",
       "    <tr style=\"text-align: right;\">\n",
       "      <th></th>\n",
       "      <th>predict(0)</th>\n",
       "      <th>predict(1)</th>\n",
       "    </tr>\n",
       "  </thead>\n",
       "  <tbody>\n",
       "    <tr>\n",
       "      <th>target(0)</th>\n",
       "      <td>2833</td>\n",
       "      <td>115</td>\n",
       "    </tr>\n",
       "    <tr>\n",
       "      <th>target(1)</th>\n",
       "      <td>50</td>\n",
       "      <td>29</td>\n",
       "    </tr>\n",
       "  </tbody>\n",
       "</table>\n",
       "</div>"
      ],
      "text/plain": [
       "           predict(0)  predict(1)\n",
       "target(0)        2833         115\n",
       "target(1)          50          29"
      ]
     },
     "metadata": {},
     "output_type": "display_data"
    },
    {
     "name": "stdout",
     "output_type": "stream",
     "text": [
      "\n",
      " ==== ROC \n",
      "AUC(train): 0.9053582085503472\n",
      "AUC(test): 0.8791800491214813\n",
      "AUC ratio(train/test): 1.0297756522739845\n"
     ]
    },
    {
     "data": {
      "image/png": "[encoded data removed]",
      "text/plain": [
       "<Figure size 432x288 with 1 Axes>"
      ]
     },
     "metadata": {
      "needs_background": "light"
     },
     "output_type": "display_data"
    }
   ],
   "source": [
    "## アンダーサンプリング\n",
    "X_train_smp, y_train_smp = UnderSampling(X_train, y_train)\n",
    "## 標準化\n",
    "X_train_smp_std, X_test_smp_std = standard(X_train_smp, X_test)\n",
    "## 学習\n",
    "clf.fit(X_train_smp_std, y_train_smp)\n",
    "## 精度を表示\n",
    "accuracy(\"RandomForest_Under\", clf, X_train_smp_std, y_train_smp, X_test_smp_std, y_test)"
   ]
  },
  {
   "cell_type": "code",
   "execution_count": 936,
   "metadata": {},
   "outputs": [
    {
     "name": "stdout",
     "output_type": "stream",
     "text": [
      "------------------------------\n",
      "\n",
      "===  精度検証（レポート用データを確認）\n",
      "0.9533657745336578\n"
     ]
    },
    {
     "data": {
      "text/html": [
       "<div>\n",
       "<style scoped>\n",
       "    .dataframe tbody tr th:only-of-type {\n",
       "        vertical-align: middle;\n",
       "    }\n",
       "\n",
       "    .dataframe tbody tr th {\n",
       "        vertical-align: top;\n",
       "    }\n",
       "\n",
       "    .dataframe thead th {\n",
       "        text-align: right;\n",
       "    }\n",
       "</style>\n",
       "<table border=\"1\" class=\"dataframe\">\n",
       "  <thead>\n",
       "    <tr style=\"text-align: right;\">\n",
       "      <th></th>\n",
       "      <th>predict(0)</th>\n",
       "      <th>predict(1)</th>\n",
       "    </tr>\n",
       "  </thead>\n",
       "  <tbody>\n",
       "    <tr>\n",
       "      <th>target(0)</th>\n",
       "      <td>2337</td>\n",
       "      <td>78</td>\n",
       "    </tr>\n",
       "    <tr>\n",
       "      <th>target(1)</th>\n",
       "      <td>37</td>\n",
       "      <td>14</td>\n",
       "    </tr>\n",
       "  </tbody>\n",
       "</table>\n",
       "</div>"
      ],
      "text/plain": [
       "           predict(0)  predict(1)\n",
       "target(0)        2337          78\n",
       "target(1)          37          14"
      ]
     },
     "metadata": {},
     "output_type": "display_data"
    },
    {
     "name": "stdout",
     "output_type": "stream",
     "text": [
      "\n",
      "==== ROC \n",
      "AUC: 0.8873421832501116\n"
     ]
    },
    {
     "data": {
      "image/png": "[encoded data removed]",
      "text/plain": [
       "<Figure size 432x288 with 1 Axes>"
      ]
     },
     "metadata": {
      "needs_background": "light"
     },
     "output_type": "display_data"
    }
   ],
   "source": [
    "## データ前処理\n",
    "reportX, reporty = preprocess(accuracy_report)\n",
    "## 標準化\n",
    "X_train_smp_std, reportX_std = standard(X_train_smp, reportX)\n",
    "## レポート用の精度\n",
    "report_ACC(\"RandomForest_Under\", clf, reportX_std, reporty)"
   ]
  },
  {
   "cell_type": "code",
   "execution_count": 937,
   "metadata": {},
   "outputs": [
    {
     "name": "stdout",
     "output_type": "stream",
     "text": [
      "\n",
      "==== オーバーサンプリングを行う\n",
      "RandomOverSampler(random_state=1234, sampling_strategy={0: 6868, 1: 1373})\n",
      "-----------------------------------------------------\n",
      "サンプリング後の説明変数の数と件数：(8241, 25)\n",
      "サンプリング後の目的変数の数と件数：(8241, 1)\n",
      "-----------------------------------------------------\n",
      "サンプリング後の目的変数＝ 0 の件数：6868\n",
      "サンプリング後の目的変数＝ 1 の件数：1373\n",
      "-----------------------------------------------------\n",
      "\n",
      "===  精度検証（訓練用データを確認）\n",
      "0.8531731585972576\n"
     ]
    },
    {
     "data": {
      "text/html": [
       "<div>\n",
       "<style scoped>\n",
       "    .dataframe tbody tr th:only-of-type {\n",
       "        vertical-align: middle;\n",
       "    }\n",
       "\n",
       "    .dataframe tbody tr th {\n",
       "        vertical-align: top;\n",
       "    }\n",
       "\n",
       "    .dataframe thead th {\n",
       "        text-align: right;\n",
       "    }\n",
       "</style>\n",
       "<table border=\"1\" class=\"dataframe\">\n",
       "  <thead>\n",
       "    <tr style=\"text-align: right;\">\n",
       "      <th></th>\n",
       "      <th>predict(0)</th>\n",
       "      <th>predict(1)</th>\n",
       "    </tr>\n",
       "  </thead>\n",
       "  <tbody>\n",
       "    <tr>\n",
       "      <th>target(0)</th>\n",
       "      <td>6808</td>\n",
       "      <td>60</td>\n",
       "    </tr>\n",
       "    <tr>\n",
       "      <th>target(1)</th>\n",
       "      <td>1150</td>\n",
       "      <td>223</td>\n",
       "    </tr>\n",
       "  </tbody>\n",
       "</table>\n",
       "</div>"
      ],
      "text/plain": [
       "           predict(0)  predict(1)\n",
       "target(0)        6808          60\n",
       "target(1)        1150         223"
      ]
     },
     "metadata": {},
     "output_type": "display_data"
    },
    {
     "name": "stdout",
     "output_type": "stream",
     "text": [
      "\n",
      "===  精度検証（検証用データを確認）\n",
      "0.96399074991741\n"
     ]
    },
    {
     "data": {
      "text/html": [
       "<div>\n",
       "<style scoped>\n",
       "    .dataframe tbody tr th:only-of-type {\n",
       "        vertical-align: middle;\n",
       "    }\n",
       "\n",
       "    .dataframe tbody tr th {\n",
       "        vertical-align: top;\n",
       "    }\n",
       "\n",
       "    .dataframe thead th {\n",
       "        text-align: right;\n",
       "    }\n",
       "</style>\n",
       "<table border=\"1\" class=\"dataframe\">\n",
       "  <thead>\n",
       "    <tr style=\"text-align: right;\">\n",
       "      <th></th>\n",
       "      <th>predict(0)</th>\n",
       "      <th>predict(1)</th>\n",
       "    </tr>\n",
       "  </thead>\n",
       "  <tbody>\n",
       "    <tr>\n",
       "      <th>target(0)</th>\n",
       "      <td>2904</td>\n",
       "      <td>44</td>\n",
       "    </tr>\n",
       "    <tr>\n",
       "      <th>target(1)</th>\n",
       "      <td>65</td>\n",
       "      <td>14</td>\n",
       "    </tr>\n",
       "  </tbody>\n",
       "</table>\n",
       "</div>"
      ],
      "text/plain": [
       "           predict(0)  predict(1)\n",
       "target(0)        2904          44\n",
       "target(1)          65          14"
      ]
     },
     "metadata": {},
     "output_type": "display_data"
    },
    {
     "name": "stdout",
     "output_type": "stream",
     "text": [
      "\n",
      " ==== ROC \n",
      "AUC(train): 0.8955097921856792\n",
      "AUC(test): 0.8711076378750666\n",
      "AUC ratio(train/test): 1.0280127888330055\n"
     ]
    },
    {
     "data": {
      "image/png": "[encoded data removed]",
      "text/plain": [
       "<Figure size 432x288 with 1 Axes>"
      ]
     },
     "metadata": {
      "needs_background": "light"
     },
     "output_type": "display_data"
    }
   ],
   "source": [
    "## オーバーサンプリング\n",
    "X_train_smp, y_train_smp = OverSampling(X_train, y_train)\n",
    "## 標準化\n",
    "X_train_smp_std, X_test_smp_std = standard(X_train_smp, X_test)\n",
    "## 学習\n",
    "clf.fit(X_train_smp_std, y_train_smp)\n",
    "## 精度を表示\n",
    "accuracy(\"RandomForest_Over\", clf, X_train_smp_std, y_train_smp, X_test_smp_std, y_test)"
   ]
  },
  {
   "cell_type": "code",
   "execution_count": 938,
   "metadata": {},
   "outputs": [
    {
     "name": "stdout",
     "output_type": "stream",
     "text": [
      "------------------------------\n",
      "\n",
      "===  精度検証（レポート用データを確認）\n",
      "0.9708029197080292\n"
     ]
    },
    {
     "data": {
      "text/html": [
       "<div>\n",
       "<style scoped>\n",
       "    .dataframe tbody tr th:only-of-type {\n",
       "        vertical-align: middle;\n",
       "    }\n",
       "\n",
       "    .dataframe tbody tr th {\n",
       "        vertical-align: top;\n",
       "    }\n",
       "\n",
       "    .dataframe thead th {\n",
       "        text-align: right;\n",
       "    }\n",
       "</style>\n",
       "<table border=\"1\" class=\"dataframe\">\n",
       "  <thead>\n",
       "    <tr style=\"text-align: right;\">\n",
       "      <th></th>\n",
       "      <th>predict(0)</th>\n",
       "      <th>predict(1)</th>\n",
       "    </tr>\n",
       "  </thead>\n",
       "  <tbody>\n",
       "    <tr>\n",
       "      <th>target(0)</th>\n",
       "      <td>2390</td>\n",
       "      <td>25</td>\n",
       "    </tr>\n",
       "    <tr>\n",
       "      <th>target(1)</th>\n",
       "      <td>47</td>\n",
       "      <td>4</td>\n",
       "    </tr>\n",
       "  </tbody>\n",
       "</table>\n",
       "</div>"
      ],
      "text/plain": [
       "           predict(0)  predict(1)\n",
       "target(0)        2390          25\n",
       "target(1)          47           4"
      ]
     },
     "metadata": {},
     "output_type": "display_data"
    },
    {
     "name": "stdout",
     "output_type": "stream",
     "text": [
      "\n",
      "==== ROC \n",
      "AUC: 0.8861243047943815\n"
     ]
    },
    {
     "data": {
      "image/png": "[encoded data removed]",
      "text/plain": [
       "<Figure size 432x288 with 1 Axes>"
      ]
     },
     "metadata": {
      "needs_background": "light"
     },
     "output_type": "display_data"
    }
   ],
   "source": [
    "## データ前処理\n",
    "reportX, reporty = preprocess(accuracy_report)\n",
    "## 標準化\n",
    "X_train_smp_std, reportX_std = standard(X_train_smp, reportX)\n",
    "## レポート用の精度\n",
    "report_ACC(\"RandomForest_Over\", clf, reportX_std, reporty)"
   ]
  },
  {
   "cell_type": "code",
   "execution_count": 939,
   "metadata": {},
   "outputs": [
    {
     "name": "stdout",
     "output_type": "stream",
     "text": [
      "\n",
      "==== (SMOTE) オーバーサンプリングを行う\n",
      "SMOTE(k_neighbors=3, random_state=1234)\n",
      "-----------------------------------------------------\n",
      "サンプリング後の説明変数の数と件数：(13736, 25)\n",
      "サンプリング後の目的変数の数と件数：(13736, 1)\n",
      "-----------------------------------------------------\n",
      "サンプリング後の目的変数＝ 0 の件数：6868\n",
      "サンプリング後の目的変数＝ 1 の件数：6868\n",
      "-----------------------------------------------------\n",
      "\n",
      "===  精度検証（訓練用データを確認）\n",
      "0.828407105416424\n"
     ]
    },
    {
     "data": {
      "text/html": [
       "<div>\n",
       "<style scoped>\n",
       "    .dataframe tbody tr th:only-of-type {\n",
       "        vertical-align: middle;\n",
       "    }\n",
       "\n",
       "    .dataframe tbody tr th {\n",
       "        vertical-align: top;\n",
       "    }\n",
       "\n",
       "    .dataframe thead th {\n",
       "        text-align: right;\n",
       "    }\n",
       "</style>\n",
       "<table border=\"1\" class=\"dataframe\">\n",
       "  <thead>\n",
       "    <tr style=\"text-align: right;\">\n",
       "      <th></th>\n",
       "      <th>predict(0)</th>\n",
       "      <th>predict(1)</th>\n",
       "    </tr>\n",
       "  </thead>\n",
       "  <tbody>\n",
       "    <tr>\n",
       "      <th>target(0)</th>\n",
       "      <td>5610</td>\n",
       "      <td>1258</td>\n",
       "    </tr>\n",
       "    <tr>\n",
       "      <th>target(1)</th>\n",
       "      <td>1099</td>\n",
       "      <td>5769</td>\n",
       "    </tr>\n",
       "  </tbody>\n",
       "</table>\n",
       "</div>"
      ],
      "text/plain": [
       "           predict(0)  predict(1)\n",
       "target(0)        5610        1258\n",
       "target(1)        1099        5769"
      ]
     },
     "metadata": {},
     "output_type": "display_data"
    },
    {
     "name": "stdout",
     "output_type": "stream",
     "text": [
      "\n",
      "===  精度検証（検証用データを確認）\n",
      "0.8031053848695078\n"
     ]
    },
    {
     "data": {
      "text/html": [
       "<div>\n",
       "<style scoped>\n",
       "    .dataframe tbody tr th:only-of-type {\n",
       "        vertical-align: middle;\n",
       "    }\n",
       "\n",
       "    .dataframe tbody tr th {\n",
       "        vertical-align: top;\n",
       "    }\n",
       "\n",
       "    .dataframe thead th {\n",
       "        text-align: right;\n",
       "    }\n",
       "</style>\n",
       "<table border=\"1\" class=\"dataframe\">\n",
       "  <thead>\n",
       "    <tr style=\"text-align: right;\">\n",
       "      <th></th>\n",
       "      <th>predict(0)</th>\n",
       "      <th>predict(1)</th>\n",
       "    </tr>\n",
       "  </thead>\n",
       "  <tbody>\n",
       "    <tr>\n",
       "      <th>target(0)</th>\n",
       "      <td>2374</td>\n",
       "      <td>574</td>\n",
       "    </tr>\n",
       "    <tr>\n",
       "      <th>target(1)</th>\n",
       "      <td>22</td>\n",
       "      <td>57</td>\n",
       "    </tr>\n",
       "  </tbody>\n",
       "</table>\n",
       "</div>"
      ],
      "text/plain": [
       "           predict(0)  predict(1)\n",
       "target(0)        2374         574\n",
       "target(1)          22          57"
      ]
     },
     "metadata": {},
     "output_type": "display_data"
    },
    {
     "name": "stdout",
     "output_type": "stream",
     "text": [
      "\n",
      " ==== ROC \n",
      "AUC(train): 0.9113051603089322\n",
      "AUC(test): 0.8509867234598012\n",
      "AUC ratio(train/test): 1.0708805850741105\n"
     ]
    },
    {
     "data": {
      "image/png": "[encoded data removed]",
      "text/plain": [
       "<Figure size 432x288 with 1 Axes>"
      ]
     },
     "metadata": {
      "needs_background": "light"
     },
     "output_type": "display_data"
    }
   ],
   "source": [
    "## SMOTE サンプリング\n",
    "X_train_smp, y_train_smp = SMOTESampling(X_train, y_train)\n",
    "## 標準化\n",
    "X_train_smp_std, X_test_smp_std = standard(X_train_smp, X_test)\n",
    "## 学習\n",
    "clf.fit(X_train_smp_std, y_train_smp)\n",
    "## 精度を表示\n",
    "accuracy(\"RandomForest_SMOTE\", clf, X_train_smp_std, y_train_smp, X_test_smp_std, y_test)"
   ]
  },
  {
   "cell_type": "code",
   "execution_count": 940,
   "metadata": {},
   "outputs": [
    {
     "name": "stdout",
     "output_type": "stream",
     "text": [
      "------------------------------\n",
      "\n",
      "===  精度検証（レポート用データを確認）\n",
      "0.8369829683698297\n"
     ]
    },
    {
     "data": {
      "text/html": [
       "<div>\n",
       "<style scoped>\n",
       "    .dataframe tbody tr th:only-of-type {\n",
       "        vertical-align: middle;\n",
       "    }\n",
       "\n",
       "    .dataframe tbody tr th {\n",
       "        vertical-align: top;\n",
       "    }\n",
       "\n",
       "    .dataframe thead th {\n",
       "        text-align: right;\n",
       "    }\n",
       "</style>\n",
       "<table border=\"1\" class=\"dataframe\">\n",
       "  <thead>\n",
       "    <tr style=\"text-align: right;\">\n",
       "      <th></th>\n",
       "      <th>predict(0)</th>\n",
       "      <th>predict(1)</th>\n",
       "    </tr>\n",
       "  </thead>\n",
       "  <tbody>\n",
       "    <tr>\n",
       "      <th>target(0)</th>\n",
       "      <td>2029</td>\n",
       "      <td>386</td>\n",
       "    </tr>\n",
       "    <tr>\n",
       "      <th>target(1)</th>\n",
       "      <td>16</td>\n",
       "      <td>35</td>\n",
       "    </tr>\n",
       "  </tbody>\n",
       "</table>\n",
       "</div>"
      ],
      "text/plain": [
       "           predict(0)  predict(1)\n",
       "target(0)        2029         386\n",
       "target(1)          16          35"
      ]
     },
     "metadata": {},
     "output_type": "display_data"
    },
    {
     "name": "stdout",
     "output_type": "stream",
     "text": [
      "\n",
      "==== ROC \n",
      "AUC: 0.8615678155320099\n"
     ]
    },
    {
     "data": {
      "image/png": "[encoded data removed]",
      "text/plain": [
       "<Figure size 432x288 with 1 Axes>"
      ]
     },
     "metadata": {
      "needs_background": "light"
     },
     "output_type": "display_data"
    }
   ],
   "source": [
    "## データ前処理\n",
    "reportX, reporty = preprocess(accuracy_report)\n",
    "## 標準化\n",
    "X_train_smp_std, reportX_std = standard(X_train_smp, reportX)\n",
    "## レポート用の精度\n",
    "report_ACC(\"RandomForest_SMOTE\", clf, reportX_std, reporty)"
   ]
  },
  {
   "cell_type": "markdown",
   "metadata": {},
   "source": [
    "# LightGBM\n",
    "*   num_leaves：決定木の葉の数を指定します。ここで指定した葉の数以内で木が成長します。\n",
    "*   max_depth：最大の枝の深さをきめます。ここで指定した枝の深さ以内で木が成長します。\n",
    "*   min_child_samples：１つの葉を構成するための最低サンプル数をきめます。ここで指定したサンプル数を下回る葉は作成されません。\n",
    "*   n_estimators：弱学習器の数を指定します。\n",
    "*   random_state：分割の閾値を決めるときに乱数をしようする場合があり、その際のシードの値を入力します。（値を定めておくと処理の再現性が得られます）"
   ]
  },
  {
   "cell_type": "code",
   "execution_count": 941,
   "metadata": {},
   "outputs": [],
   "source": [
    "# LightGBM用ライブラリをインポート\n",
    "from lightgbm import LGBMClassifier\n",
    "clf = LGBMClassifier(num_leaves=4, max_depth=3, min_child_samples=10, n_estimators=100, andom_state=1234)"
   ]
  },
  {
   "cell_type": "code",
   "execution_count": 942,
   "metadata": {},
   "outputs": [
    {
     "name": "stdout",
     "output_type": "stream",
     "text": [
      "\n",
      "==== アンダーサンプリングを行う\n",
      "RandomUnderSampler(random_state=1234, sampling_strategy={0: 768, 1: 192})\n",
      "-----------------------------------------------------\n",
      "サンプリング後の説明変数の数と件数：(960, 25)\n",
      "サンプリング後の目的変数の数と件数：(960, 1)\n",
      "-----------------------------------------------------\n",
      "サンプリング後の目的変数＝ 0 の件数：768\n",
      "サンプリング後の目的変数＝ 1 の件数：192\n",
      "-----------------------------------------------------\n",
      "\n",
      "===  精度検証（訓練用データを確認）\n",
      "0.934375\n"
     ]
    },
    {
     "data": {
      "text/html": [
       "<div>\n",
       "<style scoped>\n",
       "    .dataframe tbody tr th:only-of-type {\n",
       "        vertical-align: middle;\n",
       "    }\n",
       "\n",
       "    .dataframe tbody tr th {\n",
       "        vertical-align: top;\n",
       "    }\n",
       "\n",
       "    .dataframe thead th {\n",
       "        text-align: right;\n",
       "    }\n",
       "</style>\n",
       "<table border=\"1\" class=\"dataframe\">\n",
       "  <thead>\n",
       "    <tr style=\"text-align: right;\">\n",
       "      <th></th>\n",
       "      <th>predict(0)</th>\n",
       "      <th>predict(1)</th>\n",
       "    </tr>\n",
       "  </thead>\n",
       "  <tbody>\n",
       "    <tr>\n",
       "      <th>target(0)</th>\n",
       "      <td>749</td>\n",
       "      <td>19</td>\n",
       "    </tr>\n",
       "    <tr>\n",
       "      <th>target(1)</th>\n",
       "      <td>44</td>\n",
       "      <td>148</td>\n",
       "    </tr>\n",
       "  </tbody>\n",
       "</table>\n",
       "</div>"
      ],
      "text/plain": [
       "           predict(0)  predict(1)\n",
       "target(0)         749          19\n",
       "target(1)          44         148"
      ]
     },
     "metadata": {},
     "output_type": "display_data"
    },
    {
     "name": "stdout",
     "output_type": "stream",
     "text": [
      "\n",
      "===  精度検証（検証用データを確認）\n",
      "0.9160885365047903\n"
     ]
    },
    {
     "data": {
      "text/html": [
       "<div>\n",
       "<style scoped>\n",
       "    .dataframe tbody tr th:only-of-type {\n",
       "        vertical-align: middle;\n",
       "    }\n",
       "\n",
       "    .dataframe tbody tr th {\n",
       "        vertical-align: top;\n",
       "    }\n",
       "\n",
       "    .dataframe thead th {\n",
       "        text-align: right;\n",
       "    }\n",
       "</style>\n",
       "<table border=\"1\" class=\"dataframe\">\n",
       "  <thead>\n",
       "    <tr style=\"text-align: right;\">\n",
       "      <th></th>\n",
       "      <th>predict(0)</th>\n",
       "      <th>predict(1)</th>\n",
       "    </tr>\n",
       "  </thead>\n",
       "  <tbody>\n",
       "    <tr>\n",
       "      <th>target(0)</th>\n",
       "      <td>2730</td>\n",
       "      <td>218</td>\n",
       "    </tr>\n",
       "    <tr>\n",
       "      <th>target(1)</th>\n",
       "      <td>36</td>\n",
       "      <td>43</td>\n",
       "    </tr>\n",
       "  </tbody>\n",
       "</table>\n",
       "</div>"
      ],
      "text/plain": [
       "           predict(0)  predict(1)\n",
       "target(0)        2730         218\n",
       "target(1)          36          43"
      ]
     },
     "metadata": {},
     "output_type": "display_data"
    },
    {
     "name": "stdout",
     "output_type": "stream",
     "text": [
      "\n",
      " ==== ROC \n",
      "AUC(train): 0.9812486436631944\n",
      "AUC(test): 0.8921989591742094\n",
      "AUC ratio(train/test): 1.099809222565566\n"
     ]
    },
    {
     "data": {
      "image/png": "[encoded data removed]",
      "text/plain": [
       "<Figure size 432x288 with 1 Axes>"
      ]
     },
     "metadata": {
      "needs_background": "light"
     },
     "output_type": "display_data"
    }
   ],
   "source": [
    "## アンダーサンプリング\n",
    "X_train_smp, y_train_smp = UnderSampling(X_train, y_train)\n",
    "## 標準化\n",
    "X_train_smp_std, X_test_smp_std = standard(X_train_smp, X_test)\n",
    "## 学習\n",
    "clf.fit(X_train_smp_std, y_train_smp)\n",
    "## 精度を表示\n",
    "accuracy(\"LGBM_Under\", clf, X_train_smp_std, y_train_smp, X_test_smp_std, y_test)"
   ]
  },
  {
   "cell_type": "code",
   "execution_count": 943,
   "metadata": {},
   "outputs": [
    {
     "name": "stdout",
     "output_type": "stream",
     "text": [
      "------------------------------\n",
      "\n",
      "===  精度検証（レポート用データを確認）\n",
      "0.9237631792376317\n"
     ]
    },
    {
     "data": {
      "text/html": [
       "<div>\n",
       "<style scoped>\n",
       "    .dataframe tbody tr th:only-of-type {\n",
       "        vertical-align: middle;\n",
       "    }\n",
       "\n",
       "    .dataframe tbody tr th {\n",
       "        vertical-align: top;\n",
       "    }\n",
       "\n",
       "    .dataframe thead th {\n",
       "        text-align: right;\n",
       "    }\n",
       "</style>\n",
       "<table border=\"1\" class=\"dataframe\">\n",
       "  <thead>\n",
       "    <tr style=\"text-align: right;\">\n",
       "      <th></th>\n",
       "      <th>predict(0)</th>\n",
       "      <th>predict(1)</th>\n",
       "    </tr>\n",
       "  </thead>\n",
       "  <tbody>\n",
       "    <tr>\n",
       "      <th>target(0)</th>\n",
       "      <td>2251</td>\n",
       "      <td>164</td>\n",
       "    </tr>\n",
       "    <tr>\n",
       "      <th>target(1)</th>\n",
       "      <td>24</td>\n",
       "      <td>27</td>\n",
       "    </tr>\n",
       "  </tbody>\n",
       "</table>\n",
       "</div>"
      ],
      "text/plain": [
       "           predict(0)  predict(1)\n",
       "target(0)        2251         164\n",
       "target(1)          24          27"
      ]
     },
     "metadata": {},
     "output_type": "display_data"
    },
    {
     "name": "stdout",
     "output_type": "stream",
     "text": [
      "\n",
      "==== ROC \n",
      "AUC: 0.8848455324158649\n"
     ]
    },
    {
     "data": {
      "image/png": "[encoded data removed]",
      "text/plain": [
       "<Figure size 432x288 with 1 Axes>"
      ]
     },
     "metadata": {
      "needs_background": "light"
     },
     "output_type": "display_data"
    }
   ],
   "source": [
    "## データ前処理\n",
    "reportX, reporty = preprocess(accuracy_report)\n",
    "## 標準化\n",
    "X_train_smp_std, reportX_std = standard(X_train_smp, reportX)\n",
    "## レポート用の精度\n",
    "report_ACC(\"LGBM_Under\", clf, reportX_std, reporty)"
   ]
  },
  {
   "cell_type": "code",
   "execution_count": 944,
   "metadata": {},
   "outputs": [
    {
     "name": "stdout",
     "output_type": "stream",
     "text": [
      "\n",
      "==== オーバーサンプリングを行う\n",
      "RandomOverSampler(random_state=1234, sampling_strategy={0: 6868, 1: 1373})\n",
      "-----------------------------------------------------\n",
      "サンプリング後の説明変数の数と件数：(8241, 25)\n",
      "サンプリング後の目的変数の数と件数：(8241, 1)\n",
      "-----------------------------------------------------\n",
      "サンプリング後の目的変数＝ 0 の件数：6868\n",
      "サンプリング後の目的変数＝ 1 の件数：1373\n",
      "-----------------------------------------------------\n",
      "\n",
      "===  精度検証（訓練用データを確認）\n",
      "0.9223395219026818\n"
     ]
    },
    {
     "data": {
      "text/html": [
       "<div>\n",
       "<style scoped>\n",
       "    .dataframe tbody tr th:only-of-type {\n",
       "        vertical-align: middle;\n",
       "    }\n",
       "\n",
       "    .dataframe tbody tr th {\n",
       "        vertical-align: top;\n",
       "    }\n",
       "\n",
       "    .dataframe thead th {\n",
       "        text-align: right;\n",
       "    }\n",
       "</style>\n",
       "<table border=\"1\" class=\"dataframe\">\n",
       "  <thead>\n",
       "    <tr style=\"text-align: right;\">\n",
       "      <th></th>\n",
       "      <th>predict(0)</th>\n",
       "      <th>predict(1)</th>\n",
       "    </tr>\n",
       "  </thead>\n",
       "  <tbody>\n",
       "    <tr>\n",
       "      <th>target(0)</th>\n",
       "      <td>6665</td>\n",
       "      <td>203</td>\n",
       "    </tr>\n",
       "    <tr>\n",
       "      <th>target(1)</th>\n",
       "      <td>437</td>\n",
       "      <td>936</td>\n",
       "    </tr>\n",
       "  </tbody>\n",
       "</table>\n",
       "</div>"
      ],
      "text/plain": [
       "           predict(0)  predict(1)\n",
       "target(0)        6665         203\n",
       "target(1)         437         936"
      ]
     },
     "metadata": {},
     "output_type": "display_data"
    },
    {
     "name": "stdout",
     "output_type": "stream",
     "text": [
      "\n",
      "===  精度検証（検証用データを確認）\n",
      "0.9511067063098778\n"
     ]
    },
    {
     "data": {
      "text/html": [
       "<div>\n",
       "<style scoped>\n",
       "    .dataframe tbody tr th:only-of-type {\n",
       "        vertical-align: middle;\n",
       "    }\n",
       "\n",
       "    .dataframe tbody tr th {\n",
       "        vertical-align: top;\n",
       "    }\n",
       "\n",
       "    .dataframe thead th {\n",
       "        text-align: right;\n",
       "    }\n",
       "</style>\n",
       "<table border=\"1\" class=\"dataframe\">\n",
       "  <thead>\n",
       "    <tr style=\"text-align: right;\">\n",
       "      <th></th>\n",
       "      <th>predict(0)</th>\n",
       "      <th>predict(1)</th>\n",
       "    </tr>\n",
       "  </thead>\n",
       "  <tbody>\n",
       "    <tr>\n",
       "      <th>target(0)</th>\n",
       "      <td>2842</td>\n",
       "      <td>106</td>\n",
       "    </tr>\n",
       "    <tr>\n",
       "      <th>target(1)</th>\n",
       "      <td>42</td>\n",
       "      <td>37</td>\n",
       "    </tr>\n",
       "  </tbody>\n",
       "</table>\n",
       "</div>"
      ],
      "text/plain": [
       "           predict(0)  predict(1)\n",
       "target(0)        2842         106\n",
       "target(1)          42          37"
      ]
     },
     "metadata": {},
     "output_type": "display_data"
    },
    {
     "name": "stdout",
     "output_type": "stream",
     "text": [
      "\n",
      " ==== ROC \n",
      "AUC(train): 0.9703827158346701\n",
      "AUC(test): 0.889654861480858\n",
      "AUC ratio(train/test): 1.090740643196664\n"
     ]
    },
    {
     "data": {
      "image/png": "[encoded data removed]",
      "text/plain": [
       "<Figure size 432x288 with 1 Axes>"
      ]
     },
     "metadata": {
      "needs_background": "light"
     },
     "output_type": "display_data"
    }
   ],
   "source": [
    "## オーバーサンプリング\n",
    "X_train_smp, y_train_smp = OverSampling(X_train, y_train)\n",
    "## 標準化\n",
    "X_train_smp_std, X_test_smp_std = standard(X_train_smp, X_test)\n",
    "## 学習\n",
    "clf.fit(X_train_smp_std, y_train_smp)\n",
    "## 精度を表示\n",
    "accuracy(\"LGBM_Over\", clf, X_train_smp_std, y_train_smp, X_test_smp_std, y_test)"
   ]
  },
  {
   "cell_type": "code",
   "execution_count": 945,
   "metadata": {},
   "outputs": [
    {
     "name": "stdout",
     "output_type": "stream",
     "text": [
      "------------------------------\n",
      "\n",
      "===  精度検証（レポート用データを確認）\n",
      "0.9513381995133819\n"
     ]
    },
    {
     "data": {
      "text/html": [
       "<div>\n",
       "<style scoped>\n",
       "    .dataframe tbody tr th:only-of-type {\n",
       "        vertical-align: middle;\n",
       "    }\n",
       "\n",
       "    .dataframe tbody tr th {\n",
       "        vertical-align: top;\n",
       "    }\n",
       "\n",
       "    .dataframe thead th {\n",
       "        text-align: right;\n",
       "    }\n",
       "</style>\n",
       "<table border=\"1\" class=\"dataframe\">\n",
       "  <thead>\n",
       "    <tr style=\"text-align: right;\">\n",
       "      <th></th>\n",
       "      <th>predict(0)</th>\n",
       "      <th>predict(1)</th>\n",
       "    </tr>\n",
       "  </thead>\n",
       "  <tbody>\n",
       "    <tr>\n",
       "      <th>target(0)</th>\n",
       "      <td>2328</td>\n",
       "      <td>87</td>\n",
       "    </tr>\n",
       "    <tr>\n",
       "      <th>target(1)</th>\n",
       "      <td>33</td>\n",
       "      <td>18</td>\n",
       "    </tr>\n",
       "  </tbody>\n",
       "</table>\n",
       "</div>"
      ],
      "text/plain": [
       "           predict(0)  predict(1)\n",
       "target(0)        2328          87\n",
       "target(1)          33          18"
      ]
     },
     "metadata": {},
     "output_type": "display_data"
    },
    {
     "name": "stdout",
     "output_type": "stream",
     "text": [
      "\n",
      "==== ROC \n",
      "AUC: 0.882937522835221\n"
     ]
    },
    {
     "data": {
      "image/png": "[encoded data removed]",
      "text/plain": [
       "<Figure size 432x288 with 1 Axes>"
      ]
     },
     "metadata": {
      "needs_background": "light"
     },
     "output_type": "display_data"
    }
   ],
   "source": [
    "## データ前処理\n",
    "reportX, reporty = preprocess(accuracy_report)\n",
    "## 標準化\n",
    "X_train_smp_std, reportX_std = standard(X_train_smp, reportX)\n",
    "## レポート用の精度\n",
    "report_ACC(\"LGBM_Over\", clf, reportX_std, reporty)"
   ]
  },
  {
   "cell_type": "code",
   "execution_count": 946,
   "metadata": {},
   "outputs": [
    {
     "name": "stdout",
     "output_type": "stream",
     "text": [
      "\n",
      "==== (SMOTE) オーバーサンプリングを行う\n",
      "SMOTE(k_neighbors=3, random_state=1234)\n",
      "-----------------------------------------------------\n",
      "サンプリング後の説明変数の数と件数：(13736, 25)\n",
      "サンプリング後の目的変数の数と件数：(13736, 1)\n",
      "-----------------------------------------------------\n",
      "サンプリング後の目的変数＝ 0 の件数：6868\n",
      "サンプリング後の目的変数＝ 1 の件数：6868\n",
      "-----------------------------------------------------\n",
      "\n",
      "===  精度検証（訓練用データを確認）\n",
      "0.9100902737332557\n"
     ]
    },
    {
     "data": {
      "text/html": [
       "<div>\n",
       "<style scoped>\n",
       "    .dataframe tbody tr th:only-of-type {\n",
       "        vertical-align: middle;\n",
       "    }\n",
       "\n",
       "    .dataframe tbody tr th {\n",
       "        vertical-align: top;\n",
       "    }\n",
       "\n",
       "    .dataframe thead th {\n",
       "        text-align: right;\n",
       "    }\n",
       "</style>\n",
       "<table border=\"1\" class=\"dataframe\">\n",
       "  <thead>\n",
       "    <tr style=\"text-align: right;\">\n",
       "      <th></th>\n",
       "      <th>predict(0)</th>\n",
       "      <th>predict(1)</th>\n",
       "    </tr>\n",
       "  </thead>\n",
       "  <tbody>\n",
       "    <tr>\n",
       "      <th>target(0)</th>\n",
       "      <td>6033</td>\n",
       "      <td>835</td>\n",
       "    </tr>\n",
       "    <tr>\n",
       "      <th>target(1)</th>\n",
       "      <td>400</td>\n",
       "      <td>6468</td>\n",
       "    </tr>\n",
       "  </tbody>\n",
       "</table>\n",
       "</div>"
      ],
      "text/plain": [
       "           predict(0)  predict(1)\n",
       "target(0)        6033         835\n",
       "target(1)         400        6468"
      ]
     },
     "metadata": {},
     "output_type": "display_data"
    },
    {
     "name": "stdout",
     "output_type": "stream",
     "text": [
      "\n",
      "===  精度検証（検証用データを確認）\n",
      "0.8648827221671622\n"
     ]
    },
    {
     "data": {
      "text/html": [
       "<div>\n",
       "<style scoped>\n",
       "    .dataframe tbody tr th:only-of-type {\n",
       "        vertical-align: middle;\n",
       "    }\n",
       "\n",
       "    .dataframe tbody tr th {\n",
       "        vertical-align: top;\n",
       "    }\n",
       "\n",
       "    .dataframe thead th {\n",
       "        text-align: right;\n",
       "    }\n",
       "</style>\n",
       "<table border=\"1\" class=\"dataframe\">\n",
       "  <thead>\n",
       "    <tr style=\"text-align: right;\">\n",
       "      <th></th>\n",
       "      <th>predict(0)</th>\n",
       "      <th>predict(1)</th>\n",
       "    </tr>\n",
       "  </thead>\n",
       "  <tbody>\n",
       "    <tr>\n",
       "      <th>target(0)</th>\n",
       "      <td>2562</td>\n",
       "      <td>386</td>\n",
       "    </tr>\n",
       "    <tr>\n",
       "      <th>target(1)</th>\n",
       "      <td>23</td>\n",
       "      <td>56</td>\n",
       "    </tr>\n",
       "  </tbody>\n",
       "</table>\n",
       "</div>"
      ],
      "text/plain": [
       "           predict(0)  predict(1)\n",
       "target(0)        2562         386\n",
       "target(1)          23          56"
      ]
     },
     "metadata": {},
     "output_type": "display_data"
    },
    {
     "name": "stdout",
     "output_type": "stream",
     "text": [
      "\n",
      " ==== ROC \n",
      "AUC(train): 0.9661187615943753\n",
      "AUC(test): 0.8522233481613797\n",
      "AUC ratio(train/test): 1.1336450282413855\n"
     ]
    },
    {
     "data": {
      "image/png": "[encoded data removed]",
      "text/plain": [
       "<Figure size 432x288 with 1 Axes>"
      ]
     },
     "metadata": {
      "needs_background": "light"
     },
     "output_type": "display_data"
    }
   ],
   "source": [
    "## アンダーサンプリング\n",
    "X_train_smp, y_train_smp = SMOTESampling(X_train, y_train)\n",
    "## 標準化\n",
    "X_train_smp_std, X_test_smp_std = standard(X_train_smp, X_test)\n",
    "## 学習\n",
    "clf.fit(X_train_smp_std, y_train_smp)\n",
    "## 精度を表示\n",
    "accuracy(\"LGBM_SMOTE\", clf, X_train_smp_std, y_train_smp, X_test_smp_std, y_test)"
   ]
  },
  {
   "cell_type": "code",
   "execution_count": 947,
   "metadata": {},
   "outputs": [
    {
     "name": "stdout",
     "output_type": "stream",
     "text": [
      "------------------------------\n",
      "\n",
      "===  精度検証（レポート用データを確認）\n",
      "0.8787510137875101\n"
     ]
    },
    {
     "data": {
      "text/html": [
       "<div>\n",
       "<style scoped>\n",
       "    .dataframe tbody tr th:only-of-type {\n",
       "        vertical-align: middle;\n",
       "    }\n",
       "\n",
       "    .dataframe tbody tr th {\n",
       "        vertical-align: top;\n",
       "    }\n",
       "\n",
       "    .dataframe thead th {\n",
       "        text-align: right;\n",
       "    }\n",
       "</style>\n",
       "<table border=\"1\" class=\"dataframe\">\n",
       "  <thead>\n",
       "    <tr style=\"text-align: right;\">\n",
       "      <th></th>\n",
       "      <th>predict(0)</th>\n",
       "      <th>predict(1)</th>\n",
       "    </tr>\n",
       "  </thead>\n",
       "  <tbody>\n",
       "    <tr>\n",
       "      <th>target(0)</th>\n",
       "      <td>2133</td>\n",
       "      <td>282</td>\n",
       "    </tr>\n",
       "    <tr>\n",
       "      <th>target(1)</th>\n",
       "      <td>17</td>\n",
       "      <td>34</td>\n",
       "    </tr>\n",
       "  </tbody>\n",
       "</table>\n",
       "</div>"
      ],
      "text/plain": [
       "           predict(0)  predict(1)\n",
       "target(0)        2133         282\n",
       "target(1)          17          34"
      ]
     },
     "metadata": {},
     "output_type": "display_data"
    },
    {
     "name": "stdout",
     "output_type": "stream",
     "text": [
      "\n",
      "==== ROC \n",
      "AUC: 0.8644257703081233\n"
     ]
    },
    {
     "data": {
      "image/png": "[encoded data removed]",
      "text/plain": [
       "<Figure size 432x288 with 1 Axes>"
      ]
     },
     "metadata": {
      "needs_background": "light"
     },
     "output_type": "display_data"
    }
   ],
   "source": [
    "## データ前処理\n",
    "reportX, reporty = preprocess(accuracy_report)\n",
    "## 標準化\n",
    "X_train_smp_std, reportX_std = standard(X_train_smp, reportX)\n",
    "## レポート用の精度\n",
    "report_ACC(\"LGBM_SMOTE\", clf, reportX_std, reporty)"
   ]
  },
  {
   "cell_type": "code",
   "execution_count": null,
   "metadata": {},
   "outputs": [],
   "source": []
  },
  {
   "cell_type": "code",
   "execution_count": null,
   "metadata": {},
   "outputs": [],
   "source": []
  },
  {
   "cell_type": "code",
   "execution_count": null,
   "metadata": {},
   "outputs": [],
   "source": []
  },
  {
   "cell_type": "markdown",
   "metadata": {},
   "source": [
    "# 結果まとめ"
   ]
  },
  {
   "cell_type": "code",
   "execution_count": 948,
   "metadata": {},
   "outputs": [
    {
     "data": {
      "text/html": [
       "<div>\n",
       "<style scoped>\n",
       "    .dataframe tbody tr th:only-of-type {\n",
       "        vertical-align: middle;\n",
       "    }\n",
       "\n",
       "    .dataframe tbody tr th {\n",
       "        vertical-align: top;\n",
       "    }\n",
       "\n",
       "    .dataframe thead th {\n",
       "        text-align: right;\n",
       "    }\n",
       "</style>\n",
       "<table border=\"1\" class=\"dataframe\">\n",
       "  <thead>\n",
       "    <tr style=\"text-align: right;\">\n",
       "      <th></th>\n",
       "      <th>訓練精度%</th>\n",
       "      <th>検証精度%</th>\n",
       "      <th>AUC(訓練)</th>\n",
       "      <th>AUC(検証)</th>\n",
       "      <th>AUC rate</th>\n",
       "      <th>訓練(TN 0-&gt;0)%</th>\n",
       "      <th>訓練(FP 0-&gt;1)%</th>\n",
       "      <th>訓練(FN 1-&gt;0)%</th>\n",
       "      <th>訓練(TP 1-&gt;1)%</th>\n",
       "      <th>検証(TN 0-&gt;0)%</th>\n",
       "      <th>検証(FP 0-&gt;1)%</th>\n",
       "      <th>検証(FN 1-&gt;0)%</th>\n",
       "      <th>検証(TP 1-&gt;1)%</th>\n",
       "    </tr>\n",
       "  </thead>\n",
       "  <tbody>\n",
       "    <tr>\n",
       "      <th>LGBM_Over</th>\n",
       "      <td>92.233952</td>\n",
       "      <td>95.110671</td>\n",
       "      <td>0.970383</td>\n",
       "      <td>0.889655</td>\n",
       "      <td>1.090741</td>\n",
       "      <td>97.044263</td>\n",
       "      <td>2.955737</td>\n",
       "      <td>31.828114</td>\n",
       "      <td>68.171886</td>\n",
       "      <td>96.404342</td>\n",
       "      <td>3.595658</td>\n",
       "      <td>53.164557</td>\n",
       "      <td>46.835443</td>\n",
       "    </tr>\n",
       "    <tr>\n",
       "      <th>LGBM_SMOTE</th>\n",
       "      <td>91.009027</td>\n",
       "      <td>86.488272</td>\n",
       "      <td>0.966119</td>\n",
       "      <td>0.852223</td>\n",
       "      <td>1.133645</td>\n",
       "      <td>87.842167</td>\n",
       "      <td>12.157833</td>\n",
       "      <td>5.824112</td>\n",
       "      <td>94.175888</td>\n",
       "      <td>86.906377</td>\n",
       "      <td>13.093623</td>\n",
       "      <td>29.113924</td>\n",
       "      <td>70.886076</td>\n",
       "    </tr>\n",
       "    <tr>\n",
       "      <th>LGBM_Under</th>\n",
       "      <td>93.437500</td>\n",
       "      <td>91.608854</td>\n",
       "      <td>0.981249</td>\n",
       "      <td>0.892199</td>\n",
       "      <td>1.099809</td>\n",
       "      <td>97.526042</td>\n",
       "      <td>2.473958</td>\n",
       "      <td>22.916667</td>\n",
       "      <td>77.083333</td>\n",
       "      <td>92.605156</td>\n",
       "      <td>7.394844</td>\n",
       "      <td>45.569620</td>\n",
       "      <td>54.430380</td>\n",
       "    </tr>\n",
       "    <tr>\n",
       "      <th>Logistic_Over</th>\n",
       "      <td>87.052542</td>\n",
       "      <td>94.086554</td>\n",
       "      <td>0.892752</td>\n",
       "      <td>0.870936</td>\n",
       "      <td>1.025049</td>\n",
       "      <td>96.389051</td>\n",
       "      <td>3.610949</td>\n",
       "      <td>59.650401</td>\n",
       "      <td>40.349599</td>\n",
       "      <td>95.861601</td>\n",
       "      <td>4.138399</td>\n",
       "      <td>72.151899</td>\n",
       "      <td>27.848101</td>\n",
       "    </tr>\n",
       "    <tr>\n",
       "      <th>Logistic_SMOTE</th>\n",
       "      <td>85.556203</td>\n",
       "      <td>84.142716</td>\n",
       "      <td>0.916386</td>\n",
       "      <td>0.870970</td>\n",
       "      <td>1.052144</td>\n",
       "      <td>83.969132</td>\n",
       "      <td>16.030868</td>\n",
       "      <td>12.856727</td>\n",
       "      <td>87.143273</td>\n",
       "      <td>84.294437</td>\n",
       "      <td>15.705563</td>\n",
       "      <td>21.518987</td>\n",
       "      <td>78.481013</td>\n",
       "    </tr>\n",
       "    <tr>\n",
       "      <th>Logistic_Under</th>\n",
       "      <td>86.250000</td>\n",
       "      <td>92.368682</td>\n",
       "      <td>0.903219</td>\n",
       "      <td>0.871267</td>\n",
       "      <td>1.036673</td>\n",
       "      <td>95.442708</td>\n",
       "      <td>4.557292</td>\n",
       "      <td>50.520833</td>\n",
       "      <td>49.479167</td>\n",
       "      <td>93.860244</td>\n",
       "      <td>6.139756</td>\n",
       "      <td>63.291139</td>\n",
       "      <td>36.708861</td>\n",
       "    </tr>\n",
       "    <tr>\n",
       "      <th>RandomForest_Over</th>\n",
       "      <td>85.317316</td>\n",
       "      <td>96.399075</td>\n",
       "      <td>0.895510</td>\n",
       "      <td>0.871108</td>\n",
       "      <td>1.028013</td>\n",
       "      <td>99.126383</td>\n",
       "      <td>0.873617</td>\n",
       "      <td>83.758194</td>\n",
       "      <td>16.241806</td>\n",
       "      <td>98.507463</td>\n",
       "      <td>1.492537</td>\n",
       "      <td>82.278481</td>\n",
       "      <td>17.721519</td>\n",
       "    </tr>\n",
       "    <tr>\n",
       "      <th>RandomForest_SMOTE</th>\n",
       "      <td>82.840711</td>\n",
       "      <td>80.310538</td>\n",
       "      <td>0.911305</td>\n",
       "      <td>0.850987</td>\n",
       "      <td>1.070881</td>\n",
       "      <td>81.683168</td>\n",
       "      <td>18.316832</td>\n",
       "      <td>16.001747</td>\n",
       "      <td>83.998253</td>\n",
       "      <td>80.529172</td>\n",
       "      <td>19.470828</td>\n",
       "      <td>27.848101</td>\n",
       "      <td>72.151899</td>\n",
       "    </tr>\n",
       "    <tr>\n",
       "      <th>RandomForest_Under</th>\n",
       "      <td>85.000000</td>\n",
       "      <td>94.549058</td>\n",
       "      <td>0.905358</td>\n",
       "      <td>0.879180</td>\n",
       "      <td>1.029776</td>\n",
       "      <td>97.786458</td>\n",
       "      <td>2.213542</td>\n",
       "      <td>66.145833</td>\n",
       "      <td>33.854167</td>\n",
       "      <td>96.099050</td>\n",
       "      <td>3.900950</td>\n",
       "      <td>63.291139</td>\n",
       "      <td>36.708861</td>\n",
       "    </tr>\n",
       "    <tr>\n",
       "      <th>SVM_Over</th>\n",
       "      <td>90.462323</td>\n",
       "      <td>94.482986</td>\n",
       "      <td>0.930124</td>\n",
       "      <td>0.868688</td>\n",
       "      <td>1.070722</td>\n",
       "      <td>97.641235</td>\n",
       "      <td>2.358765</td>\n",
       "      <td>45.447924</td>\n",
       "      <td>54.552076</td>\n",
       "      <td>96.166893</td>\n",
       "      <td>3.833107</td>\n",
       "      <td>68.354430</td>\n",
       "      <td>31.645570</td>\n",
       "    </tr>\n",
       "    <tr>\n",
       "      <th>SVM_SMOTE</th>\n",
       "      <td>89.917006</td>\n",
       "      <td>86.521308</td>\n",
       "      <td>0.954790</td>\n",
       "      <td>0.839548</td>\n",
       "      <td>1.137267</td>\n",
       "      <td>87.754805</td>\n",
       "      <td>12.245195</td>\n",
       "      <td>7.920792</td>\n",
       "      <td>92.079208</td>\n",
       "      <td>87.143826</td>\n",
       "      <td>12.856174</td>\n",
       "      <td>36.708861</td>\n",
       "      <td>63.291139</td>\n",
       "    </tr>\n",
       "    <tr>\n",
       "      <th>SVM_Under</th>\n",
       "      <td>88.333333</td>\n",
       "      <td>92.335646</td>\n",
       "      <td>0.923730</td>\n",
       "      <td>0.890220</td>\n",
       "      <td>1.037643</td>\n",
       "      <td>96.744792</td>\n",
       "      <td>3.255208</td>\n",
       "      <td>45.312500</td>\n",
       "      <td>54.687500</td>\n",
       "      <td>93.656716</td>\n",
       "      <td>6.343284</td>\n",
       "      <td>56.962025</td>\n",
       "      <td>43.037975</td>\n",
       "    </tr>\n",
       "    <tr>\n",
       "      <th>Tree_Over</th>\n",
       "      <td>88.363063</td>\n",
       "      <td>92.732078</td>\n",
       "      <td>0.876048</td>\n",
       "      <td>0.806290</td>\n",
       "      <td>1.086518</td>\n",
       "      <td>94.248690</td>\n",
       "      <td>5.751310</td>\n",
       "      <td>41.077932</td>\n",
       "      <td>58.922068</td>\n",
       "      <td>93.995929</td>\n",
       "      <td>6.004071</td>\n",
       "      <td>54.430380</td>\n",
       "      <td>45.569620</td>\n",
       "    </tr>\n",
       "    <tr>\n",
       "      <th>Tree_SMOTE</th>\n",
       "      <td>85.614444</td>\n",
       "      <td>82.523951</td>\n",
       "      <td>0.893867</td>\n",
       "      <td>0.826123</td>\n",
       "      <td>1.082002</td>\n",
       "      <td>83.255679</td>\n",
       "      <td>16.744321</td>\n",
       "      <td>12.026791</td>\n",
       "      <td>87.973209</td>\n",
       "      <td>82.767978</td>\n",
       "      <td>17.232022</td>\n",
       "      <td>26.582278</td>\n",
       "      <td>73.417722</td>\n",
       "    </tr>\n",
       "    <tr>\n",
       "      <th>Tree_Under</th>\n",
       "      <td>87.291667</td>\n",
       "      <td>89.824909</td>\n",
       "      <td>0.872776</td>\n",
       "      <td>0.787698</td>\n",
       "      <td>1.108008</td>\n",
       "      <td>94.140625</td>\n",
       "      <td>5.859375</td>\n",
       "      <td>40.104167</td>\n",
       "      <td>59.895833</td>\n",
       "      <td>90.807327</td>\n",
       "      <td>9.192673</td>\n",
       "      <td>46.835443</td>\n",
       "      <td>53.164557</td>\n",
       "    </tr>\n",
       "  </tbody>\n",
       "</table>\n",
       "</div>"
      ],
      "text/plain": [
       "                        訓練精度%      検証精度%   AUC(訓練)   AUC(検証)  AUC rate  \\\n",
       "LGBM_Over           92.233952  95.110671  0.970383  0.889655  1.090741   \n",
       "LGBM_SMOTE          91.009027  86.488272  0.966119  0.852223  1.133645   \n",
       "LGBM_Under          93.437500  91.608854  0.981249  0.892199  1.099809   \n",
       "Logistic_Over       87.052542  94.086554  0.892752  0.870936  1.025049   \n",
       "Logistic_SMOTE      85.556203  84.142716  0.916386  0.870970  1.052144   \n",
       "Logistic_Under      86.250000  92.368682  0.903219  0.871267  1.036673   \n",
       "RandomForest_Over   85.317316  96.399075  0.895510  0.871108  1.028013   \n",
       "RandomForest_SMOTE  82.840711  80.310538  0.911305  0.850987  1.070881   \n",
       "RandomForest_Under  85.000000  94.549058  0.905358  0.879180  1.029776   \n",
       "SVM_Over            90.462323  94.482986  0.930124  0.868688  1.070722   \n",
       "SVM_SMOTE           89.917006  86.521308  0.954790  0.839548  1.137267   \n",
       "SVM_Under           88.333333  92.335646  0.923730  0.890220  1.037643   \n",
       "Tree_Over           88.363063  92.732078  0.876048  0.806290  1.086518   \n",
       "Tree_SMOTE          85.614444  82.523951  0.893867  0.826123  1.082002   \n",
       "Tree_Under          87.291667  89.824909  0.872776  0.787698  1.108008   \n",
       "\n",
       "                    訓練(TN 0->0)%  訓練(FP 0->1)%  訓練(FN 1->0)%  訓練(TP 1->1)%  \\\n",
       "LGBM_Over              97.044263      2.955737     31.828114     68.171886   \n",
       "LGBM_SMOTE             87.842167     12.157833      5.824112     94.175888   \n",
       "LGBM_Under             97.526042      2.473958     22.916667     77.083333   \n",
       "Logistic_Over          96.389051      3.610949     59.650401     40.349599   \n",
       "Logistic_SMOTE         83.969132     16.030868     12.856727     87.143273   \n",
       "Logistic_Under         95.442708      4.557292     50.520833     49.479167   \n",
       "RandomForest_Over      99.126383      0.873617     83.758194     16.241806   \n",
       "RandomForest_SMOTE     81.683168     18.316832     16.001747     83.998253   \n",
       "RandomForest_Under     97.786458      2.213542     66.145833     33.854167   \n",
       "SVM_Over               97.641235      2.358765     45.447924     54.552076   \n",
       "SVM_SMOTE              87.754805     12.245195      7.920792     92.079208   \n",
       "SVM_Under              96.744792      3.255208     45.312500     54.687500   \n",
       "Tree_Over              94.248690      5.751310     41.077932     58.922068   \n",
       "Tree_SMOTE             83.255679     16.744321     12.026791     87.973209   \n",
       "Tree_Under             94.140625      5.859375     40.104167     59.895833   \n",
       "\n",
       "                    検証(TN 0->0)%  検証(FP 0->1)%  検証(FN 1->0)%  検証(TP 1->1)%  \n",
       "LGBM_Over              96.404342      3.595658     53.164557     46.835443  \n",
       "LGBM_SMOTE             86.906377     13.093623     29.113924     70.886076  \n",
       "LGBM_Under             92.605156      7.394844     45.569620     54.430380  \n",
       "Logistic_Over          95.861601      4.138399     72.151899     27.848101  \n",
       "Logistic_SMOTE         84.294437     15.705563     21.518987     78.481013  \n",
       "Logistic_Under         93.860244      6.139756     63.291139     36.708861  \n",
       "RandomForest_Over      98.507463      1.492537     82.278481     17.721519  \n",
       "RandomForest_SMOTE     80.529172     19.470828     27.848101     72.151899  \n",
       "RandomForest_Under     96.099050      3.900950     63.291139     36.708861  \n",
       "SVM_Over               96.166893      3.833107     68.354430     31.645570  \n",
       "SVM_SMOTE              87.143826     12.856174     36.708861     63.291139  \n",
       "SVM_Under              93.656716      6.343284     56.962025     43.037975  \n",
       "Tree_Over              93.995929      6.004071     54.430380     45.569620  \n",
       "Tree_SMOTE             82.767978     17.232022     26.582278     73.417722  \n",
       "Tree_Under             90.807327      9.192673     46.835443     53.164557  "
      ]
     },
     "execution_count": 948,
     "metadata": {},
     "output_type": "execute_result"
    }
   ],
   "source": [
    "result = result.sort_index(axis=0)\n",
    "result"
   ]
  },
  {
   "cell_type": "code",
   "execution_count": 949,
   "metadata": {},
   "outputs": [
    {
     "data": {
      "text/html": [
       "<div>\n",
       "<style scoped>\n",
       "    .dataframe tbody tr th:only-of-type {\n",
       "        vertical-align: middle;\n",
       "    }\n",
       "\n",
       "    .dataframe tbody tr th {\n",
       "        vertical-align: top;\n",
       "    }\n",
       "\n",
       "    .dataframe thead th {\n",
       "        text-align: right;\n",
       "    }\n",
       "</style>\n",
       "<table border=\"1\" class=\"dataframe\">\n",
       "  <thead>\n",
       "    <tr style=\"text-align: right;\">\n",
       "      <th></th>\n",
       "      <th>accuracy(%)</th>\n",
       "      <th>AUC</th>\n",
       "      <th>(TN 0-&gt;0)%</th>\n",
       "      <th>(FP 0-&gt;1)%</th>\n",
       "      <th>(FN 1-&gt;0)%</th>\n",
       "      <th>(TP 1-&gt;1)%</th>\n",
       "    </tr>\n",
       "  </thead>\n",
       "  <tbody>\n",
       "    <tr>\n",
       "      <th>LGBM_Over</th>\n",
       "      <td>95.133820</td>\n",
       "      <td>0.882938</td>\n",
       "      <td>96.397516</td>\n",
       "      <td>3.602484</td>\n",
       "      <td>64.705882</td>\n",
       "      <td>35.294118</td>\n",
       "    </tr>\n",
       "    <tr>\n",
       "      <th>LGBM_SMOTE</th>\n",
       "      <td>87.875101</td>\n",
       "      <td>0.864426</td>\n",
       "      <td>88.322981</td>\n",
       "      <td>11.677019</td>\n",
       "      <td>33.333333</td>\n",
       "      <td>66.666667</td>\n",
       "    </tr>\n",
       "    <tr>\n",
       "      <th>LGBM_Under</th>\n",
       "      <td>92.376318</td>\n",
       "      <td>0.884846</td>\n",
       "      <td>93.209110</td>\n",
       "      <td>6.790890</td>\n",
       "      <td>47.058824</td>\n",
       "      <td>52.941176</td>\n",
       "    </tr>\n",
       "    <tr>\n",
       "      <th>Logistic_Over</th>\n",
       "      <td>95.093268</td>\n",
       "      <td>0.866488</td>\n",
       "      <td>96.231884</td>\n",
       "      <td>3.768116</td>\n",
       "      <td>58.823529</td>\n",
       "      <td>41.176471</td>\n",
       "    </tr>\n",
       "    <tr>\n",
       "      <th>Logistic_SMOTE</th>\n",
       "      <td>84.752636</td>\n",
       "      <td>0.869419</td>\n",
       "      <td>84.968944</td>\n",
       "      <td>15.031056</td>\n",
       "      <td>25.490196</td>\n",
       "      <td>74.509804</td>\n",
       "    </tr>\n",
       "    <tr>\n",
       "      <th>Logistic_Under</th>\n",
       "      <td>93.998378</td>\n",
       "      <td>0.876889</td>\n",
       "      <td>94.948240</td>\n",
       "      <td>5.051760</td>\n",
       "      <td>50.980392</td>\n",
       "      <td>49.019608</td>\n",
       "    </tr>\n",
       "    <tr>\n",
       "      <th>RandomForest_Over</th>\n",
       "      <td>97.080292</td>\n",
       "      <td>0.886124</td>\n",
       "      <td>98.964803</td>\n",
       "      <td>1.035197</td>\n",
       "      <td>92.156863</td>\n",
       "      <td>7.843137</td>\n",
       "    </tr>\n",
       "    <tr>\n",
       "      <th>RandomForest_SMOTE</th>\n",
       "      <td>83.698297</td>\n",
       "      <td>0.861568</td>\n",
       "      <td>84.016563</td>\n",
       "      <td>15.983437</td>\n",
       "      <td>31.372549</td>\n",
       "      <td>68.627451</td>\n",
       "    </tr>\n",
       "    <tr>\n",
       "      <th>RandomForest_Under</th>\n",
       "      <td>95.336577</td>\n",
       "      <td>0.887342</td>\n",
       "      <td>96.770186</td>\n",
       "      <td>3.229814</td>\n",
       "      <td>72.549020</td>\n",
       "      <td>27.450980</td>\n",
       "    </tr>\n",
       "    <tr>\n",
       "      <th>SVM_Over</th>\n",
       "      <td>95.377129</td>\n",
       "      <td>0.817546</td>\n",
       "      <td>96.770186</td>\n",
       "      <td>3.229814</td>\n",
       "      <td>70.588235</td>\n",
       "      <td>29.411765</td>\n",
       "    </tr>\n",
       "    <tr>\n",
       "      <th>SVM_SMOTE</th>\n",
       "      <td>87.226277</td>\n",
       "      <td>0.809694</td>\n",
       "      <td>87.950311</td>\n",
       "      <td>12.049689</td>\n",
       "      <td>47.058824</td>\n",
       "      <td>52.941176</td>\n",
       "    </tr>\n",
       "    <tr>\n",
       "      <th>SVM_Under</th>\n",
       "      <td>93.714517</td>\n",
       "      <td>0.881748</td>\n",
       "      <td>94.906832</td>\n",
       "      <td>5.093168</td>\n",
       "      <td>62.745098</td>\n",
       "      <td>37.254902</td>\n",
       "    </tr>\n",
       "    <tr>\n",
       "      <th>Tree_Over</th>\n",
       "      <td>92.984590</td>\n",
       "      <td>0.834523</td>\n",
       "      <td>93.995859</td>\n",
       "      <td>6.004141</td>\n",
       "      <td>54.901961</td>\n",
       "      <td>45.098039</td>\n",
       "    </tr>\n",
       "    <tr>\n",
       "      <th>Tree_SMOTE</th>\n",
       "      <td>85.158151</td>\n",
       "      <td>0.860939</td>\n",
       "      <td>85.258799</td>\n",
       "      <td>14.741201</td>\n",
       "      <td>19.607843</td>\n",
       "      <td>80.392157</td>\n",
       "    </tr>\n",
       "    <tr>\n",
       "      <th>Tree_Under</th>\n",
       "      <td>91.930251</td>\n",
       "      <td>0.735355</td>\n",
       "      <td>92.960663</td>\n",
       "      <td>7.039337</td>\n",
       "      <td>56.862745</td>\n",
       "      <td>43.137255</td>\n",
       "    </tr>\n",
       "  </tbody>\n",
       "</table>\n",
       "</div>"
      ],
      "text/plain": [
       "                    accuracy(%)       AUC  (TN 0->0)%  (FP 0->1)%  (FN 1->0)%  \\\n",
       "LGBM_Over             95.133820  0.882938   96.397516    3.602484   64.705882   \n",
       "LGBM_SMOTE            87.875101  0.864426   88.322981   11.677019   33.333333   \n",
       "LGBM_Under            92.376318  0.884846   93.209110    6.790890   47.058824   \n",
       "Logistic_Over         95.093268  0.866488   96.231884    3.768116   58.823529   \n",
       "Logistic_SMOTE        84.752636  0.869419   84.968944   15.031056   25.490196   \n",
       "Logistic_Under        93.998378  0.876889   94.948240    5.051760   50.980392   \n",
       "RandomForest_Over     97.080292  0.886124   98.964803    1.035197   92.156863   \n",
       "RandomForest_SMOTE    83.698297  0.861568   84.016563   15.983437   31.372549   \n",
       "RandomForest_Under    95.336577  0.887342   96.770186    3.229814   72.549020   \n",
       "SVM_Over              95.377129  0.817546   96.770186    3.229814   70.588235   \n",
       "SVM_SMOTE             87.226277  0.809694   87.950311   12.049689   47.058824   \n",
       "SVM_Under             93.714517  0.881748   94.906832    5.093168   62.745098   \n",
       "Tree_Over             92.984590  0.834523   93.995859    6.004141   54.901961   \n",
       "Tree_SMOTE            85.158151  0.860939   85.258799   14.741201   19.607843   \n",
       "Tree_Under            91.930251  0.735355   92.960663    7.039337   56.862745   \n",
       "\n",
       "                    (TP 1->1)%  \n",
       "LGBM_Over            35.294118  \n",
       "LGBM_SMOTE           66.666667  \n",
       "LGBM_Under           52.941176  \n",
       "Logistic_Over        41.176471  \n",
       "Logistic_SMOTE       74.509804  \n",
       "Logistic_Under       49.019608  \n",
       "RandomForest_Over     7.843137  \n",
       "RandomForest_SMOTE   68.627451  \n",
       "RandomForest_Under   27.450980  \n",
       "SVM_Over             29.411765  \n",
       "SVM_SMOTE            52.941176  \n",
       "SVM_Under            37.254902  \n",
       "Tree_Over            45.098039  \n",
       "Tree_SMOTE           80.392157  \n",
       "Tree_Under           43.137255  "
      ]
     },
     "execution_count": 949,
     "metadata": {},
     "output_type": "execute_result"
    }
   ],
   "source": [
    "result_report = result_report.sort_index(axis=0)\n",
    "result_report"
   ]
  },
  {
   "cell_type": "markdown",
   "metadata": {},
   "source": [
    "### グラフ化"
   ]
  },
  {
   "cell_type": "code",
   "execution_count": 950,
   "metadata": {},
   "outputs": [
    {
     "data": {
      "image/png": "[encoded data removed]",
      "text/plain": [
       "<Figure size 432x288 with 1 Axes>"
      ]
     },
     "metadata": {
      "needs_background": "light"
     },
     "output_type": "display_data"
    }
   ],
   "source": [
    "result_report[\"accuracy(%)\"].plot(kind='bar');"
   ]
  },
  {
   "cell_type": "markdown",
   "metadata": {},
   "source": [
    "### 倒産する企業を「倒産する」と予測したもの"
   ]
  },
  {
   "cell_type": "code",
   "execution_count": 958,
   "metadata": {},
   "outputs": [
    {
     "data": {
      "image/png": "[encoded data removed]",
      "text/plain": [
       "<Figure size 432x288 with 1 Axes>"
      ]
     },
     "metadata": {
      "needs_background": "light"
     },
     "output_type": "display_data"
    }
   ],
   "source": [
    "result_report.rename(columns={'(TP 1->1)%':'TPR%', '(TN 0->0)%':'TNR%'}, inplace=True)\n",
    "result_report.plot(y=['accuracy(%)', 'TPR%', 'TNR%'], kind='bar').legend(loc='lower right');"
   ]
  },
  {
   "cell_type": "code",
   "execution_count": null,
   "metadata": {},
   "outputs": [],
   "source": []
  }
 ],
 "metadata": {
  "kernelspec": {
   "display_name": "Python 3",
   "language": "python",
   "name": "python3"
  },
  "language_info": {
   "codemirror_mode": {
    "name": "ipython",
    "version": 3
   },
   "file_extension": ".py",
   "mimetype": "text/x-python",
   "name": "python",
   "nbconvert_exporter": "python",
   "pygments_lexer": "ipython3",
   "version": "3.7.4"
  }
 },
 "nbformat": 4,
 "nbformat_minor": 4
}
