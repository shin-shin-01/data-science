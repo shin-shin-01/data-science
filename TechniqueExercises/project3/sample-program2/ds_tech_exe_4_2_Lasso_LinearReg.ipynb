{
 "cells": [
  {
   "cell_type": "markdown",
   "metadata": {
    "colab_type": "text",
    "id": "6RujyVsYNASn"
   },
   "source": [
    "# 必要なライブラリをインポート"
   ]
  },
  {
   "cell_type": "code",
   "execution_count": 1,
   "metadata": {
    "colab": {
     "base_uri": "https://localhost:8080/",
     "height": 72
    },
    "colab_type": "code",
    "executionInfo": {
     "elapsed": 2315,
     "status": "ok",
     "timestamp": 1594159816081,
     "user": {
      "displayName": "和田陽一郎",
      "photoUrl": "",
      "userId": "09423029448058105987"
     },
     "user_tz": -540
    },
    "id": "vVYcl18yNFbn",
    "outputId": "e1389c14-41cf-405f-9517-0ad198cb169c"
   },
   "outputs": [
    {
     "name": "stderr",
     "output_type": "stream",
     "text": [
      "/usr/local/lib/python3.6/dist-packages/statsmodels/tools/_testing.py:19: FutureWarning: pandas.util.testing is deprecated. Use the functions in the public API at pandas.testing instead.\n",
      "  import pandas.util.testing as tm\n"
     ]
    }
   ],
   "source": [
    "# サンプルデータセットが用意されているライブラリ sklearn.datasets から\n",
    "# ボストンの住宅価格データを取得するためのメソッド load_boston をインポート\n",
    "from sklearn.datasets import load_boston\n",
    "\n",
    "# pandas のインポート\n",
    "import pandas as pd\n",
    "\n",
    "# 機械学習用ライブラリ sklearn（scikit-learn）内にあるライブラリ  から\n",
    "# モデル構築（訓練用）/検証データ分割用メソッド train_test_split をインポート\n",
    "from sklearn.model_selection import train_test_split\n",
    "\n",
    "# 機械学習用ライブラリ sklearn（scikit-learn）から線形回帰用クラス linear_model 中の\n",
    "# Lasso回帰用クラス Lasso をインポート \n",
    "from sklearn.linear_model import Lasso\n",
    "\n",
    "# 機械学習用ライブラリ sklearn（scikit-learn）内にあるライブラリ preprocessing から\n",
    "# 標準化用クラス StandardScaler をインポート \n",
    "from sklearn.preprocessing import StandardScaler\n",
    "\n",
    "# 統計解析用ライブラリ statsmodels 内にあるライブラリ stats.outliers_influence から\n",
    "# 分散拡大係数（VIF）計算用メソッド variance_inflation_factor をインポート\n",
    "from statsmodels.stats.outliers_influence import variance_inflation_factor\n",
    "\n",
    "# 精度評価指標を計算するためのメソッドをインポート\n",
    "#   ・r2_score：決定係数\n",
    "#   ・mean_squared_error：平均二乗誤差\n",
    "#   ・mean_absolute_error：平均絶対誤差\n",
    "#   ・median_absolute_error：Median Absolute Error\n",
    "from sklearn.metrics import r2_score, mean_squared_error, mean_absolute_error, median_absolute_error\n",
    "\n",
    "# グラフ描画用ライブラリ matplotlib、seaborn をインポート\n",
    "import matplotlib.pyplot as plt\n",
    "import seaborn as sns"
   ]
  },
  {
   "cell_type": "markdown",
   "metadata": {
    "colab_type": "text",
    "id": "SNjzL0Q2K1wY"
   },
   "source": [
    "# 分散拡大係数（VIF）を確認するための関数を定義しておく"
   ]
  },
  {
   "cell_type": "code",
   "execution_count": 2,
   "metadata": {
    "colab": {},
    "colab_type": "code",
    "executionInfo": {
     "elapsed": 2250,
     "status": "ok",
     "timestamp": 1594159816088,
     "user": {
      "displayName": "和田陽一郎",
      "photoUrl": "",
      "userId": "09423029448058105987"
     },
     "user_tz": -540
    },
    "id": "_SSjBOYZK17n"
   },
   "outputs": [],
   "source": [
    "# 投入したデータセットの全ての変数についてVIFを計算する関数 checkVIF の定義\n",
    "def checkVIF( ExplanatoryVarDataSet ):\n",
    "  tmp_columnList = ExplanatoryVarDataSet.columns\n",
    "  vifList = []\n",
    "  for i in range(len(tmp_columnList)):\n",
    "    colname = tmp_columnList[i]\n",
    "    vif = variance_inflation_factor(ExplanatoryVarDataSet.values, i)\n",
    "    vifList.append( [ colname, vif ] )\n",
    "  return  pd.DataFrame( vifList, columns=[\"COLUMN\",\"VIF\"] )"
   ]
  },
  {
   "cell_type": "markdown",
   "metadata": {
    "colab_type": "text",
    "id": "zdfVbqNH5dH5"
   },
   "source": [
    "# データの読み込み"
   ]
  },
  {
   "cell_type": "code",
   "execution_count": 3,
   "metadata": {
    "colab": {
     "base_uri": "https://localhost:8080/",
     "height": 204
    },
    "colab_type": "code",
    "executionInfo": {
     "elapsed": 2224,
     "status": "ok",
     "timestamp": 1594159816114,
     "user": {
      "displayName": "和田陽一郎",
      "photoUrl": "",
      "userId": "09423029448058105987"
     },
     "user_tz": -540
    },
    "id": "J6c2ovdqsoxw",
    "outputId": "63e17717-c412-4d30-a373-07b95882b912"
   },
   "outputs": [
    {
     "data": {
      "text/html": [
       "<div>\n",
       "<style scoped>\n",
       "    .dataframe tbody tr th:only-of-type {\n",
       "        vertical-align: middle;\n",
       "    }\n",
       "\n",
       "    .dataframe tbody tr th {\n",
       "        vertical-align: top;\n",
       "    }\n",
       "\n",
       "    .dataframe thead th {\n",
       "        text-align: right;\n",
       "    }\n",
       "</style>\n",
       "<table border=\"1\" class=\"dataframe\">\n",
       "  <thead>\n",
       "    <tr style=\"text-align: right;\">\n",
       "      <th></th>\n",
       "      <th>CRIM</th>\n",
       "      <th>ZN</th>\n",
       "      <th>INDUS</th>\n",
       "      <th>CHAS</th>\n",
       "      <th>NOX</th>\n",
       "      <th>RM</th>\n",
       "      <th>AGE</th>\n",
       "      <th>DIS</th>\n",
       "      <th>RAD</th>\n",
       "      <th>TAX</th>\n",
       "      <th>PTRATIO</th>\n",
       "      <th>B</th>\n",
       "      <th>LSTAT</th>\n",
       "      <th>MEDV</th>\n",
       "    </tr>\n",
       "  </thead>\n",
       "  <tbody>\n",
       "    <tr>\n",
       "      <th>0</th>\n",
       "      <td>0.00632</td>\n",
       "      <td>18.0</td>\n",
       "      <td>2.31</td>\n",
       "      <td>0.0</td>\n",
       "      <td>0.538</td>\n",
       "      <td>6.575</td>\n",
       "      <td>65.2</td>\n",
       "      <td>4.0900</td>\n",
       "      <td>1.0</td>\n",
       "      <td>296.0</td>\n",
       "      <td>15.3</td>\n",
       "      <td>396.90</td>\n",
       "      <td>4.98</td>\n",
       "      <td>24.0</td>\n",
       "    </tr>\n",
       "    <tr>\n",
       "      <th>1</th>\n",
       "      <td>0.02731</td>\n",
       "      <td>0.0</td>\n",
       "      <td>7.07</td>\n",
       "      <td>0.0</td>\n",
       "      <td>0.469</td>\n",
       "      <td>6.421</td>\n",
       "      <td>78.9</td>\n",
       "      <td>4.9671</td>\n",
       "      <td>2.0</td>\n",
       "      <td>242.0</td>\n",
       "      <td>17.8</td>\n",
       "      <td>396.90</td>\n",
       "      <td>9.14</td>\n",
       "      <td>21.6</td>\n",
       "    </tr>\n",
       "    <tr>\n",
       "      <th>2</th>\n",
       "      <td>0.02729</td>\n",
       "      <td>0.0</td>\n",
       "      <td>7.07</td>\n",
       "      <td>0.0</td>\n",
       "      <td>0.469</td>\n",
       "      <td>7.185</td>\n",
       "      <td>61.1</td>\n",
       "      <td>4.9671</td>\n",
       "      <td>2.0</td>\n",
       "      <td>242.0</td>\n",
       "      <td>17.8</td>\n",
       "      <td>392.83</td>\n",
       "      <td>4.03</td>\n",
       "      <td>34.7</td>\n",
       "    </tr>\n",
       "    <tr>\n",
       "      <th>3</th>\n",
       "      <td>0.03237</td>\n",
       "      <td>0.0</td>\n",
       "      <td>2.18</td>\n",
       "      <td>0.0</td>\n",
       "      <td>0.458</td>\n",
       "      <td>6.998</td>\n",
       "      <td>45.8</td>\n",
       "      <td>6.0622</td>\n",
       "      <td>3.0</td>\n",
       "      <td>222.0</td>\n",
       "      <td>18.7</td>\n",
       "      <td>394.63</td>\n",
       "      <td>2.94</td>\n",
       "      <td>33.4</td>\n",
       "    </tr>\n",
       "    <tr>\n",
       "      <th>4</th>\n",
       "      <td>0.06905</td>\n",
       "      <td>0.0</td>\n",
       "      <td>2.18</td>\n",
       "      <td>0.0</td>\n",
       "      <td>0.458</td>\n",
       "      <td>7.147</td>\n",
       "      <td>54.2</td>\n",
       "      <td>6.0622</td>\n",
       "      <td>3.0</td>\n",
       "      <td>222.0</td>\n",
       "      <td>18.7</td>\n",
       "      <td>396.90</td>\n",
       "      <td>5.33</td>\n",
       "      <td>36.2</td>\n",
       "    </tr>\n",
       "  </tbody>\n",
       "</table>\n",
       "</div>"
      ],
      "text/plain": [
       "      CRIM    ZN  INDUS  CHAS    NOX  ...    TAX  PTRATIO       B  LSTAT  MEDV\n",
       "0  0.00632  18.0   2.31   0.0  0.538  ...  296.0     15.3  396.90   4.98  24.0\n",
       "1  0.02731   0.0   7.07   0.0  0.469  ...  242.0     17.8  396.90   9.14  21.6\n",
       "2  0.02729   0.0   7.07   0.0  0.469  ...  242.0     17.8  392.83   4.03  34.7\n",
       "3  0.03237   0.0   2.18   0.0  0.458  ...  222.0     18.7  394.63   2.94  33.4\n",
       "4  0.06905   0.0   2.18   0.0  0.458  ...  222.0     18.7  396.90   5.33  36.2\n",
       "\n",
       "[5 rows x 14 columns]"
      ]
     },
     "execution_count": 3,
     "metadata": {
      "tags": []
     },
     "output_type": "execute_result"
    }
   ],
   "source": [
    "# ボストン住宅価格データを読み込む\n",
    "loadBoston = load_boston()\n",
    "boston = pd.DataFrame(loadBoston.data, columns = loadBoston.feature_names)\n",
    "boston[\"MEDV\"] = loadBoston.target\n",
    "boston.head()"
   ]
  },
  {
   "cell_type": "markdown",
   "metadata": {
    "colab_type": "text",
    "id": "vwfEUgY4LuBw"
   },
   "source": [
    "# 全データをモデル構築用データ、モデル検証用データに分割する"
   ]
  },
  {
   "cell_type": "code",
   "execution_count": 4,
   "metadata": {
    "colab": {
     "base_uri": "https://localhost:8080/",
     "height": 87
    },
    "colab_type": "code",
    "executionInfo": {
     "elapsed": 2174,
     "status": "ok",
     "timestamp": 1594159816117,
     "user": {
      "displayName": "和田陽一郎",
      "photoUrl": "",
      "userId": "09423029448058105987"
     },
     "user_tz": -540
    },
    "id": "CddCEsUNLuMM",
    "outputId": "b41033bc-bd07-4996-e04f-032f338e9557"
   },
   "outputs": [
    {
     "name": "stdout",
     "output_type": "stream",
     "text": [
      "(354, 13)\n",
      "(152, 13)\n",
      "(354, 1)\n",
      "(152, 1)\n"
     ]
    }
   ],
   "source": [
    "# 目的変数と説明変数に分割\n",
    "columnList = boston.columns.values.tolist()\n",
    "columnList.remove(\"MEDV\")\n",
    "X = boston.loc[:,columnList]\n",
    "y = boston.loc[:,[\"MEDV\"]]\n",
    "\n",
    "# モデル構築用データ、モデル検証用データに分割（70:30に分割）\n",
    "X_train, X_test, y_train, y_test = train_test_split(X, y, test_size=0.3, random_state=42)\n",
    "print(X_train.shape)\n",
    "print(X_test.shape)\n",
    "print(y_train.shape)\n",
    "print(y_test.shape)"
   ]
  },
  {
   "cell_type": "markdown",
   "metadata": {
    "colab_type": "text",
    "id": "bH_JHaEF8eNM"
   },
   "source": [
    "# 標準化の実施"
   ]
  },
  {
   "cell_type": "code",
   "execution_count": 5,
   "metadata": {
    "colab": {},
    "colab_type": "code",
    "executionInfo": {
     "elapsed": 2166,
     "status": "ok",
     "timestamp": 1594159816123,
     "user": {
      "displayName": "和田陽一郎",
      "photoUrl": "",
      "userId": "09423029448058105987"
     },
     "user_tz": -540
    },
    "id": "M2foNyM8DiIJ"
   },
   "outputs": [],
   "source": [
    "# X_train のデータを使い標準化パラメータを獲得してから、X_train、X_test に対して標準化を実施\n",
    "scaler_X = StandardScaler()\n",
    "scaler_X.fit( X_train )\n",
    "X_train_std = pd.DataFrame(scaler_X.transform(X_train), columns=columnList)\n",
    "X_test_std = pd.DataFrame(scaler_X.transform(X_test), columns=columnList)"
   ]
  },
  {
   "cell_type": "code",
   "execution_count": 6,
   "metadata": {
    "colab": {},
    "colab_type": "code",
    "executionInfo": {
     "elapsed": 2149,
     "status": "ok",
     "timestamp": 1594159816129,
     "user": {
      "displayName": "和田陽一郎",
      "photoUrl": "",
      "userId": "09423029448058105987"
     },
     "user_tz": -540
    },
    "id": "laij0-V0M8cM"
   },
   "outputs": [],
   "source": [
    "# y_train のデータを使い標準化パラメータを獲得してから、y_train、y_test に対して標準化を実施\n",
    "scaler_y = StandardScaler()\n",
    "scaler_y.fit( y_train )\n",
    "y_train_std = pd.DataFrame(scaler_y.transform(y_train), columns=[\"MEDV\"])\n",
    "y_test_std = pd.DataFrame(scaler_y.transform(y_test), columns=[\"MEDV\"])"
   ]
  },
  {
   "cell_type": "markdown",
   "metadata": {
    "colab_type": "text",
    "id": "xpMbp04EJZlU"
   },
   "source": [
    "# Lasso回帰分析を実行する（正則化パラメータ：α=0.05）\n",
    "* α=0.1のときと偏回帰係数が0になっている変数の数が異なる事に注目（少し少なくなっている：α＝0.1と比べると正則化の効果が弱い）"
   ]
  },
  {
   "cell_type": "code",
   "execution_count": 7,
   "metadata": {
    "colab": {
     "base_uri": "https://localhost:8080/",
     "height": 69
    },
    "colab_type": "code",
    "executionInfo": {
     "elapsed": 2106,
     "status": "ok",
     "timestamp": 1594159816131,
     "user": {
      "displayName": "和田陽一郎",
      "photoUrl": "",
      "userId": "09423029448058105987"
     },
     "user_tz": -540
    },
    "id": "msJSYeKMG7PH",
    "outputId": "47b30fa9-1744-40d7-fd48-ce6abd49a1bf"
   },
   "outputs": [
    {
     "data": {
      "text/plain": [
       "Lasso(alpha=0.05, copy_X=True, fit_intercept=True, max_iter=1000,\n",
       "      normalize=False, positive=False, precompute=False, random_state=1234,\n",
       "      selection='cyclic', tol=0.0001, warm_start=False)"
      ]
     },
     "execution_count": 7,
     "metadata": {
      "tags": []
     },
     "output_type": "execute_result"
    }
   ],
   "source": [
    "# モデルのインスタンスを生成\n",
    "reg = Lasso(alpha=0.05,random_state=1234)\n",
    "\n",
    "# 回帰を実行する\n",
    "reg.fit(X_train_std, y_train_std)"
   ]
  },
  {
   "cell_type": "code",
   "execution_count": 8,
   "metadata": {
    "colab": {
     "base_uri": "https://localhost:8080/",
     "height": 87
    },
    "colab_type": "code",
    "executionInfo": {
     "elapsed": 2069,
     "status": "ok",
     "timestamp": 1594159816133,
     "user": {
      "displayName": "和田陽一郎",
      "photoUrl": "",
      "userId": "09423029448058105987"
     },
     "user_tz": -540
    },
    "id": "iHwXYyBzX-jT",
    "outputId": "d6f45746-1043-44b4-8317-603d7974a0f5"
   },
   "outputs": [
    {
     "name": "stdout",
     "output_type": "stream",
     "text": [
      "[-0.03469463  0.         -0.          0.06481652 -0.          0.31882527\n",
      " -0.         -0.0339659  -0.         -0.         -0.16195643  0.06796577\n",
      " -0.41446756]\n",
      "4.2534265430998945e-17\n"
     ]
    }
   ],
   "source": [
    "# 分析結果として、回帰係数（reg.coef_）、切片（reg.intercept_）を表示する\n",
    "print(reg.coef_)\n",
    "print(reg.intercept_[0])"
   ]
  },
  {
   "cell_type": "code",
   "execution_count": 9,
   "metadata": {
    "colab": {
     "base_uri": "https://localhost:8080/",
     "height": 452
    },
    "colab_type": "code",
    "executionInfo": {
     "elapsed": 2046,
     "status": "ok",
     "timestamp": 1594159816135,
     "user": {
      "displayName": "和田陽一郎",
      "photoUrl": "",
      "userId": "09423029448058105987"
     },
     "user_tz": -540
    },
    "id": "F_LX_eM8KnSF",
    "outputId": "0e69acb7-3556-492e-e746-5b7b813590ff"
   },
   "outputs": [
    {
     "data": {
      "text/html": [
       "<div>\n",
       "<style scoped>\n",
       "    .dataframe tbody tr th:only-of-type {\n",
       "        vertical-align: middle;\n",
       "    }\n",
       "\n",
       "    .dataframe tbody tr th {\n",
       "        vertical-align: top;\n",
       "    }\n",
       "\n",
       "    .dataframe thead th {\n",
       "        text-align: right;\n",
       "    }\n",
       "</style>\n",
       "<table border=\"1\" class=\"dataframe\">\n",
       "  <thead>\n",
       "    <tr style=\"text-align: right;\">\n",
       "      <th></th>\n",
       "      <th>COLUMN</th>\n",
       "      <th>VIF</th>\n",
       "      <th>COEF</th>\n",
       "    </tr>\n",
       "  </thead>\n",
       "  <tbody>\n",
       "    <tr>\n",
       "      <th>0</th>\n",
       "      <td>CRIM</td>\n",
       "      <td>1.731586</td>\n",
       "      <td>-0.034695</td>\n",
       "    </tr>\n",
       "    <tr>\n",
       "      <th>1</th>\n",
       "      <td>ZN</td>\n",
       "      <td>2.394452</td>\n",
       "      <td>0.000000</td>\n",
       "    </tr>\n",
       "    <tr>\n",
       "      <th>2</th>\n",
       "      <td>INDUS</td>\n",
       "      <td>3.836487</td>\n",
       "      <td>-0.000000</td>\n",
       "    </tr>\n",
       "    <tr>\n",
       "      <th>3</th>\n",
       "      <td>CHAS</td>\n",
       "      <td>1.102642</td>\n",
       "      <td>0.064817</td>\n",
       "    </tr>\n",
       "    <tr>\n",
       "      <th>4</th>\n",
       "      <td>NOX</td>\n",
       "      <td>4.627219</td>\n",
       "      <td>-0.000000</td>\n",
       "    </tr>\n",
       "    <tr>\n",
       "      <th>5</th>\n",
       "      <td>RM</td>\n",
       "      <td>1.913056</td>\n",
       "      <td>0.318825</td>\n",
       "    </tr>\n",
       "    <tr>\n",
       "      <th>6</th>\n",
       "      <td>AGE</td>\n",
       "      <td>2.996110</td>\n",
       "      <td>-0.000000</td>\n",
       "    </tr>\n",
       "    <tr>\n",
       "      <th>7</th>\n",
       "      <td>DIS</td>\n",
       "      <td>3.971023</td>\n",
       "      <td>-0.033966</td>\n",
       "    </tr>\n",
       "    <tr>\n",
       "      <th>8</th>\n",
       "      <td>RAD</td>\n",
       "      <td>7.534681</td>\n",
       "      <td>-0.000000</td>\n",
       "    </tr>\n",
       "    <tr>\n",
       "      <th>9</th>\n",
       "      <td>TAX</td>\n",
       "      <td>8.879471</td>\n",
       "      <td>-0.000000</td>\n",
       "    </tr>\n",
       "    <tr>\n",
       "      <th>10</th>\n",
       "      <td>PTRATIO</td>\n",
       "      <td>1.821880</td>\n",
       "      <td>-0.161956</td>\n",
       "    </tr>\n",
       "    <tr>\n",
       "      <th>11</th>\n",
       "      <td>B</td>\n",
       "      <td>1.265533</td>\n",
       "      <td>0.067966</td>\n",
       "    </tr>\n",
       "    <tr>\n",
       "      <th>12</th>\n",
       "      <td>LSTAT</td>\n",
       "      <td>2.679332</td>\n",
       "      <td>-0.414468</td>\n",
       "    </tr>\n",
       "  </tbody>\n",
       "</table>\n",
       "</div>"
      ],
      "text/plain": [
       "     COLUMN       VIF      COEF\n",
       "0      CRIM  1.731586 -0.034695\n",
       "1        ZN  2.394452  0.000000\n",
       "2     INDUS  3.836487 -0.000000\n",
       "3      CHAS  1.102642  0.064817\n",
       "4       NOX  4.627219 -0.000000\n",
       "5        RM  1.913056  0.318825\n",
       "6       AGE  2.996110 -0.000000\n",
       "7       DIS  3.971023 -0.033966\n",
       "8       RAD  7.534681 -0.000000\n",
       "9       TAX  8.879471 -0.000000\n",
       "10  PTRATIO  1.821880 -0.161956\n",
       "11        B  1.265533  0.067966\n",
       "12    LSTAT  2.679332 -0.414468"
      ]
     },
     "execution_count": 9,
     "metadata": {
      "tags": []
     },
     "output_type": "execute_result"
    }
   ],
   "source": [
    "# 多重共線性を確認する\n",
    "vif = checkVIF(X_train_std[columnList])\n",
    "vif[\"COEF\"] = reg.coef_\n",
    "vif"
   ]
  },
  {
   "cell_type": "code",
   "execution_count": 10,
   "metadata": {
    "colab": {
     "base_uri": "https://localhost:8080/",
     "height": 87
    },
    "colab_type": "code",
    "executionInfo": {
     "elapsed": 2027,
     "status": "ok",
     "timestamp": 1594159816143,
     "user": {
      "displayName": "和田陽一郎",
      "photoUrl": "",
      "userId": "09423029448058105987"
     },
     "user_tz": -540
    },
    "id": "GECqji8YX-dO",
    "outputId": "4b13a1e4-028b-4704-95b3-9d0a6cd17aac"
   },
   "outputs": [
    {
     "name": "stdout",
     "output_type": "stream",
     "text": [
      "R2 SCORE:0.7086592177726814\n",
      "MSE:0.29134078222731863\n",
      "MAE:0.37512349681840507\n",
      "MedianAE:0.26432526829941655\n"
     ]
    }
   ],
   "source": [
    "# モデル構築用データについて各精度評価指標を計算する\n",
    "print(\"R2 SCORE:\" + str(r2_score(y_train_std, reg.predict(X_train_std)) ) )\n",
    "print(\"MSE:\" + str(mean_squared_error(y_train_std, reg.predict(X_train_std))) )\n",
    "print(\"MAE:\" + str(mean_absolute_error(y_train_std, reg.predict(X_train_std))) )\n",
    "print(\"MedianAE:\" + str(median_absolute_error(y_train_std, reg.predict(X_train_std))) )"
   ]
  },
  {
   "cell_type": "code",
   "execution_count": 11,
   "metadata": {
    "colab": {
     "base_uri": "https://localhost:8080/",
     "height": 87
    },
    "colab_type": "code",
    "executionInfo": {
     "elapsed": 2003,
     "status": "ok",
     "timestamp": 1594159816146,
     "user": {
      "displayName": "和田陽一郎",
      "photoUrl": "",
      "userId": "09423029448058105987"
     },
     "user_tz": -540
    },
    "id": "OfcX2qunNMOt",
    "outputId": "7a1eddeb-8cf1-4442-db59-452ef1313063"
   },
   "outputs": [
    {
     "name": "stdout",
     "output_type": "stream",
     "text": [
      "R2 SCORE:0.6608470784686244\n",
      "MSE:0.28751230819662327\n",
      "MAE:0.36862910254474723\n",
      "MedianAE:0.23845906008304035\n"
     ]
    }
   ],
   "source": [
    "# モデル検証用データについて各精度評価指標を計算する\n",
    "print(\"R2 SCORE:\" + str(r2_score(y_test_std, reg.predict(X_test_std))) )\n",
    "print(\"MSE:\" + str(mean_squared_error(y_test_std, reg.predict(X_test_std))) )\n",
    "print(\"MAE:\" + str(mean_absolute_error(y_test_std, reg.predict(X_test_std))) )\n",
    "print(\"MedianAE:\" + str(median_absolute_error(y_test_std, reg.predict(X_test_std))) )"
   ]
  },
  {
   "cell_type": "markdown",
   "metadata": {
    "colab_type": "text",
    "id": "ah6GCDFduq1z"
   },
   "source": [
    "# Lasso回帰分析を実行する（正則化パラメータ：α=0.1）\n",
    "* α=0.05のときと偏回帰係数が0になっている変数の数が異なる事に注目（少し多くなっている：α＝0.05と比べると正則化の効果が強い）"
   ]
  },
  {
   "cell_type": "code",
   "execution_count": 12,
   "metadata": {
    "colab": {
     "base_uri": "https://localhost:8080/",
     "height": 69
    },
    "colab_type": "code",
    "executionInfo": {
     "elapsed": 1975,
     "status": "ok",
     "timestamp": 1594159816149,
     "user": {
      "displayName": "和田陽一郎",
      "photoUrl": "",
      "userId": "09423029448058105987"
     },
     "user_tz": -540
    },
    "id": "XntJxGCguq18",
    "outputId": "c2f25494-2318-4e88-9812-e7d284f27ac6"
   },
   "outputs": [
    {
     "data": {
      "text/plain": [
       "Lasso(alpha=0.1, copy_X=True, fit_intercept=True, max_iter=1000,\n",
       "      normalize=False, positive=False, precompute=False, random_state=1234,\n",
       "      selection='cyclic', tol=0.0001, warm_start=False)"
      ]
     },
     "execution_count": 12,
     "metadata": {
      "tags": []
     },
     "output_type": "execute_result"
    }
   ],
   "source": [
    "# モデルのインスタンスを生成\n",
    "reg = Lasso(alpha=0.1,random_state=1234)\n",
    "\n",
    "# 回帰を実行する\n",
    "reg.fit(X_train_std, y_train_std)"
   ]
  },
  {
   "cell_type": "code",
   "execution_count": 13,
   "metadata": {
    "colab": {
     "base_uri": "https://localhost:8080/",
     "height": 87
    },
    "colab_type": "code",
    "executionInfo": {
     "elapsed": 1944,
     "status": "ok",
     "timestamp": 1594159816151,
     "user": {
      "displayName": "和田陽一郎",
      "photoUrl": "",
      "userId": "09423029448058105987"
     },
     "user_tz": -540
    },
    "id": "YlKYw0CTuq2T",
    "outputId": "d905ec63-683c-4127-be87-f4bb49ac71ac"
   },
   "outputs": [
    {
     "name": "stdout",
     "output_type": "stream",
     "text": [
      "[-0.00252033  0.         -0.          0.02942778 -0.          0.29480748\n",
      " -0.         -0.         -0.         -0.         -0.13644444  0.03291121\n",
      " -0.40066189]\n",
      "2.2316649010668545e-17\n"
     ]
    }
   ],
   "source": [
    "# 分析結果として、回帰係数（reg.coef_）、切片（reg.intercept_）を表示する\n",
    "print(reg.coef_)\n",
    "print(reg.intercept_[0])"
   ]
  },
  {
   "cell_type": "code",
   "execution_count": 14,
   "metadata": {
    "colab": {
     "base_uri": "https://localhost:8080/",
     "height": 452
    },
    "colab_type": "code",
    "executionInfo": {
     "elapsed": 1927,
     "status": "ok",
     "timestamp": 1594159816159,
     "user": {
      "displayName": "和田陽一郎",
      "photoUrl": "",
      "userId": "09423029448058105987"
     },
     "user_tz": -540
    },
    "id": "_T1SFvQCuq2f",
    "outputId": "b59dbd82-0274-4ee0-8906-368032e62605"
   },
   "outputs": [
    {
     "data": {
      "text/html": [
       "<div>\n",
       "<style scoped>\n",
       "    .dataframe tbody tr th:only-of-type {\n",
       "        vertical-align: middle;\n",
       "    }\n",
       "\n",
       "    .dataframe tbody tr th {\n",
       "        vertical-align: top;\n",
       "    }\n",
       "\n",
       "    .dataframe thead th {\n",
       "        text-align: right;\n",
       "    }\n",
       "</style>\n",
       "<table border=\"1\" class=\"dataframe\">\n",
       "  <thead>\n",
       "    <tr style=\"text-align: right;\">\n",
       "      <th></th>\n",
       "      <th>COLUMN</th>\n",
       "      <th>VIF</th>\n",
       "      <th>COEF</th>\n",
       "    </tr>\n",
       "  </thead>\n",
       "  <tbody>\n",
       "    <tr>\n",
       "      <th>0</th>\n",
       "      <td>CRIM</td>\n",
       "      <td>1.731586</td>\n",
       "      <td>-0.002520</td>\n",
       "    </tr>\n",
       "    <tr>\n",
       "      <th>1</th>\n",
       "      <td>ZN</td>\n",
       "      <td>2.394452</td>\n",
       "      <td>0.000000</td>\n",
       "    </tr>\n",
       "    <tr>\n",
       "      <th>2</th>\n",
       "      <td>INDUS</td>\n",
       "      <td>3.836487</td>\n",
       "      <td>-0.000000</td>\n",
       "    </tr>\n",
       "    <tr>\n",
       "      <th>3</th>\n",
       "      <td>CHAS</td>\n",
       "      <td>1.102642</td>\n",
       "      <td>0.029428</td>\n",
       "    </tr>\n",
       "    <tr>\n",
       "      <th>4</th>\n",
       "      <td>NOX</td>\n",
       "      <td>4.627219</td>\n",
       "      <td>-0.000000</td>\n",
       "    </tr>\n",
       "    <tr>\n",
       "      <th>5</th>\n",
       "      <td>RM</td>\n",
       "      <td>1.913056</td>\n",
       "      <td>0.294807</td>\n",
       "    </tr>\n",
       "    <tr>\n",
       "      <th>6</th>\n",
       "      <td>AGE</td>\n",
       "      <td>2.996110</td>\n",
       "      <td>-0.000000</td>\n",
       "    </tr>\n",
       "    <tr>\n",
       "      <th>7</th>\n",
       "      <td>DIS</td>\n",
       "      <td>3.971023</td>\n",
       "      <td>-0.000000</td>\n",
       "    </tr>\n",
       "    <tr>\n",
       "      <th>8</th>\n",
       "      <td>RAD</td>\n",
       "      <td>7.534681</td>\n",
       "      <td>-0.000000</td>\n",
       "    </tr>\n",
       "    <tr>\n",
       "      <th>9</th>\n",
       "      <td>TAX</td>\n",
       "      <td>8.879471</td>\n",
       "      <td>-0.000000</td>\n",
       "    </tr>\n",
       "    <tr>\n",
       "      <th>10</th>\n",
       "      <td>PTRATIO</td>\n",
       "      <td>1.821880</td>\n",
       "      <td>-0.136444</td>\n",
       "    </tr>\n",
       "    <tr>\n",
       "      <th>11</th>\n",
       "      <td>B</td>\n",
       "      <td>1.265533</td>\n",
       "      <td>0.032911</td>\n",
       "    </tr>\n",
       "    <tr>\n",
       "      <th>12</th>\n",
       "      <td>LSTAT</td>\n",
       "      <td>2.679332</td>\n",
       "      <td>-0.400662</td>\n",
       "    </tr>\n",
       "  </tbody>\n",
       "</table>\n",
       "</div>"
      ],
      "text/plain": [
       "     COLUMN       VIF      COEF\n",
       "0      CRIM  1.731586 -0.002520\n",
       "1        ZN  2.394452  0.000000\n",
       "2     INDUS  3.836487 -0.000000\n",
       "3      CHAS  1.102642  0.029428\n",
       "4       NOX  4.627219 -0.000000\n",
       "5        RM  1.913056  0.294807\n",
       "6       AGE  2.996110 -0.000000\n",
       "7       DIS  3.971023 -0.000000\n",
       "8       RAD  7.534681 -0.000000\n",
       "9       TAX  8.879471 -0.000000\n",
       "10  PTRATIO  1.821880 -0.136444\n",
       "11        B  1.265533  0.032911\n",
       "12    LSTAT  2.679332 -0.400662"
      ]
     },
     "execution_count": 14,
     "metadata": {
      "tags": []
     },
     "output_type": "execute_result"
    }
   ],
   "source": [
    "# 多重共線性を確認する\n",
    "vif = checkVIF(X_train_std[columnList])\n",
    "vif[\"COEF\"] = reg.coef_\n",
    "vif"
   ]
  },
  {
   "cell_type": "code",
   "execution_count": 15,
   "metadata": {
    "colab": {
     "base_uri": "https://localhost:8080/",
     "height": 87
    },
    "colab_type": "code",
    "executionInfo": {
     "elapsed": 1915,
     "status": "ok",
     "timestamp": 1594159816162,
     "user": {
      "displayName": "和田陽一郎",
      "photoUrl": "",
      "userId": "09423029448058105987"
     },
     "user_tz": -540
    },
    "id": "HxFUbDHtuq2q",
    "outputId": "34f5e469-1b0e-4fda-d7a5-2b5a1841c41b"
   },
   "outputs": [
    {
     "name": "stdout",
     "output_type": "stream",
     "text": [
      "R2 SCORE:0.6803984465466295\n",
      "MSE:0.3196015534533705\n",
      "MAE:0.3925140526004799\n",
      "MedianAE:0.2880990380670113\n"
     ]
    }
   ],
   "source": [
    "# モデル構築用データについて各精度評価指標を計算する\n",
    "print(\"R2 SCORE:\" + str(r2_score(y_train_std, reg.predict(X_train_std)) ) )\n",
    "print(\"MSE:\" + str(mean_squared_error(y_train_std, reg.predict(X_train_std))) )\n",
    "print(\"MAE:\" + str(mean_absolute_error(y_train_std, reg.predict(X_train_std))) )\n",
    "print(\"MedianAE:\" + str(median_absolute_error(y_train_std, reg.predict(X_train_std))) )"
   ]
  },
  {
   "cell_type": "code",
   "execution_count": 16,
   "metadata": {
    "colab": {
     "base_uri": "https://localhost:8080/",
     "height": 87
    },
    "colab_type": "code",
    "executionInfo": {
     "elapsed": 1901,
     "status": "ok",
     "timestamp": 1594159816164,
     "user": {
      "displayName": "和田陽一郎",
      "photoUrl": "",
      "userId": "09423029448058105987"
     },
     "user_tz": -540
    },
    "id": "nIurTBl6uq23",
    "outputId": "fd9f2eb4-5af9-4d83-ce2f-e46f024db07d"
   },
   "outputs": [
    {
     "name": "stdout",
     "output_type": "stream",
     "text": [
      "R2 SCORE:0.646507506651804\n",
      "MSE:0.2996684865158005\n",
      "MAE:0.3902835260203346\n",
      "MedianAE:0.2712177103017605\n"
     ]
    }
   ],
   "source": [
    "# モデル検証用データについて各精度評価指標を計算する\n",
    "print(\"R2 SCORE:\" + str(r2_score(y_test_std, reg.predict(X_test_std))) )\n",
    "print(\"MSE:\" + str(mean_squared_error(y_test_std, reg.predict(X_test_std))) )\n",
    "print(\"MAE:\" + str(mean_absolute_error(y_test_std, reg.predict(X_test_std))) )\n",
    "print(\"MedianAE:\" + str(median_absolute_error(y_test_std, reg.predict(X_test_std))) )"
   ]
  }
 ],
 "metadata": {
  "colab": {
   "authorship_tag": "ABX9TyNZwumuwH5rBcC6MSMRmwE3",
   "collapsed_sections": [],
   "name": "ds_tech_exe_4_2_Lasso_LinearReg.ipynb",
   "provenance": []
  },
  "kernelspec": {
   "display_name": "Python 3",
   "language": "python",
   "name": "python3"
  },
  "language_info": {
   "codemirror_mode": {
    "name": "ipython",
    "version": 3
   },
   "file_extension": ".py",
   "mimetype": "text/x-python",
   "name": "python",
   "nbconvert_exporter": "python",
   "pygments_lexer": "ipython3",
   "version": "3.7.4"
  }
 },
 "nbformat": 4,
 "nbformat_minor": 1
}
