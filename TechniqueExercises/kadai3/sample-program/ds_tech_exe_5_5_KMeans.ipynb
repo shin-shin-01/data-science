{
 "cells": [
  {
   "cell_type": "markdown",
   "metadata": {
    "colab_type": "text",
    "id": "UHGVDV4tM6KG"
   },
   "source": [
    "# Google Drive をマウントする"
   ]
  },
  {
   "cell_type": "code",
   "execution_count": 1,
   "metadata": {
    "colab": {
     "base_uri": "https://localhost:8080/",
     "height": 124
    },
    "colab_type": "code",
    "executionInfo": {
     "elapsed": 35726,
     "status": "ok",
     "timestamp": 1594678342242,
     "user": {
      "displayName": "和田陽一郎",
      "photoUrl": "",
      "userId": "09423029448058105987"
     },
     "user_tz": -540
    },
    "id": "6wc3TNDqv4YL",
    "outputId": "7f75837b-8547-4b4e-95a5-39d47b173714"
   },
   "outputs": [
    {
     "name": "stdout",
     "output_type": "stream",
     "text": [
      "Go to this URL in a browser: https://accounts.google.com/o/oauth2/auth?client_id=947318989803-6bn6qk8qdgf4n4g3pfee6491hc0brc4i.apps.googleusercontent.com&redirect_uri=urn%3aietf%3awg%3aoauth%3a2.0%3aoob&response_type=code&scope=email%20https%3a%2f%2fwww.googleapis.com%2fauth%2fdocs.test%20https%3a%2f%2fwww.googleapis.com%2fauth%2fdrive%20https%3a%2f%2fwww.googleapis.com%2fauth%2fdrive.photos.readonly%20https%3a%2f%2fwww.googleapis.com%2fauth%2fpeopleapi.readonly\n",
      "\n",
      "Enter your authorization code:\n",
      "··········\n",
      "Mounted at /content/drive\n"
     ]
    }
   ],
   "source": [
    "# 必要なライブラリを読み込む\n",
    "from google.colab import drive \n",
    "\n",
    "# Google ドライブをマウントする\n",
    "drive.mount('/content/drive')"
   ]
  },
  {
   "cell_type": "markdown",
   "metadata": {
    "colab_type": "text",
    "id": "6RujyVsYNASn"
   },
   "source": [
    "必要なモジュールをインポートします。\n",
    "\n",
    "*   pandas：表データの前処理・集計に便利な型「データフレーム」を提供してくれるライブラリ\n",
    "*   sklearn：Scikit-learn。pythonで機械学習を実行するために便利なモジュールを集めてあるパッケージ。今回は以下のモジュールを使用する。\n",
    "> *   cluster：クラスター分析を利用する際に便利なモジュールがいくつか用意されています。今回はKMeans（KMeans法によるクラスタリングを実行してくれるメソッド）をインポートします。\n",
    "*   matplotlib：pythonでグラフ描画に使われるライブラリ\n",
    "*   seaborn：pythonでグラフ描画に使われるライブラリ（matplotlibより美しい）\n",
    "\n",
    "※ 比較のため決定木用モジュールもインポートしておく"
   ]
  },
  {
   "cell_type": "code",
   "execution_count": 2,
   "metadata": {
    "colab": {
     "base_uri": "https://localhost:8080/",
     "height": 72
    },
    "colab_type": "code",
    "executionInfo": {
     "elapsed": 36346,
     "status": "ok",
     "timestamp": 1594678342884,
     "user": {
      "displayName": "和田陽一郎",
      "photoUrl": "",
      "userId": "09423029448058105987"
     },
     "user_tz": -540
    },
    "id": "vVYcl18yNFbn",
    "outputId": "6704aa54-458c-4862-a546-3e2ebf1cc141"
   },
   "outputs": [
    {
     "name": "stderr",
     "output_type": "stream",
     "text": [
      "/usr/local/lib/python3.6/dist-packages/statsmodels/tools/_testing.py:19: FutureWarning: pandas.util.testing is deprecated. Use the functions in the public API at pandas.testing instead.\n",
      "  import pandas.util.testing as tm\n"
     ]
    }
   ],
   "source": [
    "# pandas のインポート\n",
    "import pandas as pd\n",
    "\n",
    "# KMeans用ライブラリをインポート\n",
    "from sklearn.cluster import KMeans\n",
    "\n",
    "# グラフ描画用ライブラリ matplotlib、seaborn をインポート\n",
    "import matplotlib.pyplot as plt\n",
    "import seaborn as sns"
   ]
  },
  {
   "cell_type": "markdown",
   "metadata": {
    "colab_type": "text",
    "id": "zdfVbqNH5dH5"
   },
   "source": [
    "# データの読み込み"
   ]
  },
  {
   "cell_type": "code",
   "execution_count": 3,
   "metadata": {
    "colab": {
     "base_uri": "https://localhost:8080/",
     "height": 224
    },
    "colab_type": "code",
    "executionInfo": {
     "elapsed": 37315,
     "status": "ok",
     "timestamp": 1594678343877,
     "user": {
      "displayName": "和田陽一郎",
      "photoUrl": "",
      "userId": "09423029448058105987"
     },
     "user_tz": -540
    },
    "id": "J6c2ovdqsoxw",
    "outputId": "6aff422b-d841-4913-c55f-9a1c7eab1fd4"
   },
   "outputs": [
    {
     "data": {
      "text/html": [
       "<div>\n",
       "<style scoped>\n",
       "    .dataframe tbody tr th:only-of-type {\n",
       "        vertical-align: middle;\n",
       "    }\n",
       "\n",
       "    .dataframe tbody tr th {\n",
       "        vertical-align: top;\n",
       "    }\n",
       "\n",
       "    .dataframe thead th {\n",
       "        text-align: right;\n",
       "    }\n",
       "</style>\n",
       "<table border=\"1\" class=\"dataframe\">\n",
       "  <thead>\n",
       "    <tr style=\"text-align: right;\">\n",
       "      <th></th>\n",
       "      <th>UserID</th>\n",
       "      <th>Appliances_1</th>\n",
       "      <th>Comic_1</th>\n",
       "      <th>Computer_1</th>\n",
       "      <th>Foods_1</th>\n",
       "      <th>Game_1</th>\n",
       "      <th>Hobby_1</th>\n",
       "      <th>Kitchen_1</th>\n",
       "      <th>Magazine_1</th>\n",
       "      <th>Movie_1</th>\n",
       "      <th>Music_1</th>\n",
       "      <th>Pharmaceuticals_1</th>\n",
       "      <th>Sports_1</th>\n",
       "      <th>Subscription_1</th>\n",
       "      <th>Total_1</th>\n",
       "      <th>Appliances_2</th>\n",
       "      <th>Comic_2</th>\n",
       "      <th>Computer_2</th>\n",
       "      <th>Foods_2</th>\n",
       "      <th>Game_2</th>\n",
       "      <th>Hobby_2</th>\n",
       "      <th>Kitchen_2</th>\n",
       "      <th>Magazine_2</th>\n",
       "      <th>Movie_2</th>\n",
       "      <th>Music_2</th>\n",
       "      <th>Pharmaceuticals_2</th>\n",
       "      <th>Sports_2</th>\n",
       "      <th>Subscription_2</th>\n",
       "      <th>Total_2</th>\n",
       "    </tr>\n",
       "  </thead>\n",
       "  <tbody>\n",
       "    <tr>\n",
       "      <th>0</th>\n",
       "      <td>U00001</td>\n",
       "      <td>0.0</td>\n",
       "      <td>0.0</td>\n",
       "      <td>0.0</td>\n",
       "      <td>0.379526</td>\n",
       "      <td>0.0</td>\n",
       "      <td>0.0</td>\n",
       "      <td>0.273581</td>\n",
       "      <td>0.0</td>\n",
       "      <td>0.0</td>\n",
       "      <td>0.0</td>\n",
       "      <td>0.212785</td>\n",
       "      <td>0.0</td>\n",
       "      <td>0.134108</td>\n",
       "      <td>22370</td>\n",
       "      <td>0.0</td>\n",
       "      <td>0.0</td>\n",
       "      <td>0.0</td>\n",
       "      <td>0.245083</td>\n",
       "      <td>0.0</td>\n",
       "      <td>0.0</td>\n",
       "      <td>0.567593</td>\n",
       "      <td>0.0</td>\n",
       "      <td>0.0</td>\n",
       "      <td>0.0</td>\n",
       "      <td>0.093662</td>\n",
       "      <td>0.0</td>\n",
       "      <td>0.093662</td>\n",
       "      <td>32030</td>\n",
       "    </tr>\n",
       "    <tr>\n",
       "      <th>1</th>\n",
       "      <td>U00002</td>\n",
       "      <td>0.0</td>\n",
       "      <td>0.0</td>\n",
       "      <td>0.0</td>\n",
       "      <td>0.000000</td>\n",
       "      <td>0.0</td>\n",
       "      <td>0.0</td>\n",
       "      <td>0.000000</td>\n",
       "      <td>0.0</td>\n",
       "      <td>0.0</td>\n",
       "      <td>0.0</td>\n",
       "      <td>0.000000</td>\n",
       "      <td>0.0</td>\n",
       "      <td>1.000000</td>\n",
       "      <td>3000</td>\n",
       "      <td>0.0</td>\n",
       "      <td>0.0</td>\n",
       "      <td>0.0</td>\n",
       "      <td>0.000000</td>\n",
       "      <td>0.0</td>\n",
       "      <td>0.0</td>\n",
       "      <td>0.000000</td>\n",
       "      <td>0.0</td>\n",
       "      <td>0.0</td>\n",
       "      <td>0.0</td>\n",
       "      <td>0.000000</td>\n",
       "      <td>0.0</td>\n",
       "      <td>1.000000</td>\n",
       "      <td>3000</td>\n",
       "    </tr>\n",
       "    <tr>\n",
       "      <th>2</th>\n",
       "      <td>U00003</td>\n",
       "      <td>0.0</td>\n",
       "      <td>0.0</td>\n",
       "      <td>0.0</td>\n",
       "      <td>0.000000</td>\n",
       "      <td>0.0</td>\n",
       "      <td>0.0</td>\n",
       "      <td>0.000000</td>\n",
       "      <td>0.0</td>\n",
       "      <td>0.0</td>\n",
       "      <td>0.0</td>\n",
       "      <td>0.000000</td>\n",
       "      <td>0.0</td>\n",
       "      <td>1.000000</td>\n",
       "      <td>3000</td>\n",
       "      <td>0.0</td>\n",
       "      <td>0.0</td>\n",
       "      <td>0.0</td>\n",
       "      <td>0.000000</td>\n",
       "      <td>0.0</td>\n",
       "      <td>0.0</td>\n",
       "      <td>0.000000</td>\n",
       "      <td>0.0</td>\n",
       "      <td>0.0</td>\n",
       "      <td>0.0</td>\n",
       "      <td>0.000000</td>\n",
       "      <td>0.0</td>\n",
       "      <td>1.000000</td>\n",
       "      <td>3000</td>\n",
       "    </tr>\n",
       "    <tr>\n",
       "      <th>3</th>\n",
       "      <td>U00006</td>\n",
       "      <td>0.0</td>\n",
       "      <td>0.0</td>\n",
       "      <td>0.0</td>\n",
       "      <td>0.000000</td>\n",
       "      <td>0.0</td>\n",
       "      <td>0.0</td>\n",
       "      <td>0.000000</td>\n",
       "      <td>0.0</td>\n",
       "      <td>0.0</td>\n",
       "      <td>0.0</td>\n",
       "      <td>0.000000</td>\n",
       "      <td>0.0</td>\n",
       "      <td>1.000000</td>\n",
       "      <td>3000</td>\n",
       "      <td>0.0</td>\n",
       "      <td>0.0</td>\n",
       "      <td>0.0</td>\n",
       "      <td>0.000000</td>\n",
       "      <td>0.0</td>\n",
       "      <td>0.0</td>\n",
       "      <td>0.000000</td>\n",
       "      <td>0.0</td>\n",
       "      <td>0.0</td>\n",
       "      <td>0.0</td>\n",
       "      <td>0.000000</td>\n",
       "      <td>0.0</td>\n",
       "      <td>1.000000</td>\n",
       "      <td>3000</td>\n",
       "    </tr>\n",
       "    <tr>\n",
       "      <th>4</th>\n",
       "      <td>U00007</td>\n",
       "      <td>0.0</td>\n",
       "      <td>0.0</td>\n",
       "      <td>0.0</td>\n",
       "      <td>0.000000</td>\n",
       "      <td>0.0</td>\n",
       "      <td>0.0</td>\n",
       "      <td>0.000000</td>\n",
       "      <td>0.0</td>\n",
       "      <td>0.0</td>\n",
       "      <td>0.0</td>\n",
       "      <td>0.000000</td>\n",
       "      <td>0.0</td>\n",
       "      <td>1.000000</td>\n",
       "      <td>3000</td>\n",
       "      <td>0.0</td>\n",
       "      <td>0.0</td>\n",
       "      <td>0.0</td>\n",
       "      <td>0.000000</td>\n",
       "      <td>0.0</td>\n",
       "      <td>0.0</td>\n",
       "      <td>0.000000</td>\n",
       "      <td>0.0</td>\n",
       "      <td>0.0</td>\n",
       "      <td>0.0</td>\n",
       "      <td>0.000000</td>\n",
       "      <td>0.0</td>\n",
       "      <td>1.000000</td>\n",
       "      <td>3000</td>\n",
       "    </tr>\n",
       "  </tbody>\n",
       "</table>\n",
       "</div>"
      ],
      "text/plain": [
       "   UserID  Appliances_1  Comic_1  ...  Sports_2  Subscription_2  Total_2\n",
       "0  U00001           0.0      0.0  ...       0.0        0.093662    32030\n",
       "1  U00002           0.0      0.0  ...       0.0        1.000000     3000\n",
       "2  U00003           0.0      0.0  ...       0.0        1.000000     3000\n",
       "3  U00006           0.0      0.0  ...       0.0        1.000000     3000\n",
       "4  U00007           0.0      0.0  ...       0.0        1.000000     3000\n",
       "\n",
       "[5 rows x 29 columns]"
      ]
     },
     "execution_count": 3,
     "metadata": {
      "tags": []
     },
     "output_type": "execute_result"
    }
   ],
   "source": [
    "# 買物データを読み込む\n",
    "ECSiteShopping = pd.read_csv(\"drive/My Drive/DATA-SCI-TECH-EXERCISE/DATA/ECsiteShopping.csv\")\n",
    "ECSiteShopping.head()"
   ]
  },
  {
   "cell_type": "code",
   "execution_count": 4,
   "metadata": {
    "colab": {
     "base_uri": "https://localhost:8080/",
     "height": 317
    },
    "colab_type": "code",
    "executionInfo": {
     "elapsed": 37306,
     "status": "ok",
     "timestamp": 1594678343883,
     "user": {
      "displayName": "和田陽一郎",
      "photoUrl": "",
      "userId": "09423029448058105987"
     },
     "user_tz": -540
    },
    "id": "G4Q3wjE6NmQ9",
    "outputId": "5ad79b65-ef0c-46bd-efd7-fb21b361fda9"
   },
   "outputs": [
    {
     "data": {
      "text/html": [
       "<div>\n",
       "<style scoped>\n",
       "    .dataframe tbody tr th:only-of-type {\n",
       "        vertical-align: middle;\n",
       "    }\n",
       "\n",
       "    .dataframe tbody tr th {\n",
       "        vertical-align: top;\n",
       "    }\n",
       "\n",
       "    .dataframe thead th {\n",
       "        text-align: right;\n",
       "    }\n",
       "</style>\n",
       "<table border=\"1\" class=\"dataframe\">\n",
       "  <thead>\n",
       "    <tr style=\"text-align: right;\">\n",
       "      <th></th>\n",
       "      <th>Appliances_1</th>\n",
       "      <th>Comic_1</th>\n",
       "      <th>Computer_1</th>\n",
       "      <th>Foods_1</th>\n",
       "      <th>Game_1</th>\n",
       "      <th>Hobby_1</th>\n",
       "      <th>Kitchen_1</th>\n",
       "      <th>Magazine_1</th>\n",
       "      <th>Movie_1</th>\n",
       "      <th>Music_1</th>\n",
       "      <th>Pharmaceuticals_1</th>\n",
       "      <th>Sports_1</th>\n",
       "      <th>Subscription_1</th>\n",
       "      <th>Total_1</th>\n",
       "      <th>Appliances_2</th>\n",
       "      <th>Comic_2</th>\n",
       "      <th>Computer_2</th>\n",
       "      <th>Foods_2</th>\n",
       "      <th>Game_2</th>\n",
       "      <th>Hobby_2</th>\n",
       "      <th>Kitchen_2</th>\n",
       "      <th>Magazine_2</th>\n",
       "      <th>Movie_2</th>\n",
       "      <th>Music_2</th>\n",
       "      <th>Pharmaceuticals_2</th>\n",
       "      <th>Sports_2</th>\n",
       "      <th>Subscription_2</th>\n",
       "      <th>Total_2</th>\n",
       "    </tr>\n",
       "  </thead>\n",
       "  <tbody>\n",
       "    <tr>\n",
       "      <th>count</th>\n",
       "      <td>13308.000000</td>\n",
       "      <td>13308.000000</td>\n",
       "      <td>13308.000000</td>\n",
       "      <td>13308.000000</td>\n",
       "      <td>13308.000000</td>\n",
       "      <td>13308.000000</td>\n",
       "      <td>13308.000000</td>\n",
       "      <td>13308.000000</td>\n",
       "      <td>13308.000000</td>\n",
       "      <td>13308.000000</td>\n",
       "      <td>13308.000000</td>\n",
       "      <td>13308.000000</td>\n",
       "      <td>13308.000000</td>\n",
       "      <td>1.330800e+04</td>\n",
       "      <td>13308.000000</td>\n",
       "      <td>13308.000000</td>\n",
       "      <td>13308.000000</td>\n",
       "      <td>13308.000000</td>\n",
       "      <td>13308.000000</td>\n",
       "      <td>13308.000000</td>\n",
       "      <td>13308.000000</td>\n",
       "      <td>13308.000000</td>\n",
       "      <td>13308.000000</td>\n",
       "      <td>13308.000000</td>\n",
       "      <td>13308.000000</td>\n",
       "      <td>13308.000000</td>\n",
       "      <td>13308.000000</td>\n",
       "      <td>1.330800e+04</td>\n",
       "    </tr>\n",
       "    <tr>\n",
       "      <th>mean</th>\n",
       "      <td>0.009034</td>\n",
       "      <td>0.009989</td>\n",
       "      <td>0.229424</td>\n",
       "      <td>0.078974</td>\n",
       "      <td>0.006882</td>\n",
       "      <td>0.022466</td>\n",
       "      <td>0.209823</td>\n",
       "      <td>0.001211</td>\n",
       "      <td>0.112011</td>\n",
       "      <td>0.139127</td>\n",
       "      <td>0.049900</td>\n",
       "      <td>0.051471</td>\n",
       "      <td>0.079689</td>\n",
       "      <td>2.376253e+05</td>\n",
       "      <td>0.009573</td>\n",
       "      <td>0.010254</td>\n",
       "      <td>0.225526</td>\n",
       "      <td>0.077037</td>\n",
       "      <td>0.007065</td>\n",
       "      <td>0.022777</td>\n",
       "      <td>0.207638</td>\n",
       "      <td>0.001257</td>\n",
       "      <td>0.109474</td>\n",
       "      <td>0.138217</td>\n",
       "      <td>0.049606</td>\n",
       "      <td>0.049354</td>\n",
       "      <td>0.092222</td>\n",
       "      <td>2.188467e+05</td>\n",
       "    </tr>\n",
       "    <tr>\n",
       "      <th>std</th>\n",
       "      <td>0.053601</td>\n",
       "      <td>0.019704</td>\n",
       "      <td>0.295527</td>\n",
       "      <td>0.115633</td>\n",
       "      <td>0.023251</td>\n",
       "      <td>0.046067</td>\n",
       "      <td>0.233182</td>\n",
       "      <td>0.003853</td>\n",
       "      <td>0.181636</td>\n",
       "      <td>0.181811</td>\n",
       "      <td>0.064384</td>\n",
       "      <td>0.121083</td>\n",
       "      <td>0.219297</td>\n",
       "      <td>2.828794e+05</td>\n",
       "      <td>0.053441</td>\n",
       "      <td>0.020479</td>\n",
       "      <td>0.298160</td>\n",
       "      <td>0.116809</td>\n",
       "      <td>0.022770</td>\n",
       "      <td>0.052536</td>\n",
       "      <td>0.233984</td>\n",
       "      <td>0.004048</td>\n",
       "      <td>0.177038</td>\n",
       "      <td>0.179996</td>\n",
       "      <td>0.069280</td>\n",
       "      <td>0.124499</td>\n",
       "      <td>0.247936</td>\n",
       "      <td>2.617804e+05</td>\n",
       "    </tr>\n",
       "    <tr>\n",
       "      <th>min</th>\n",
       "      <td>0.000000</td>\n",
       "      <td>0.000000</td>\n",
       "      <td>0.000000</td>\n",
       "      <td>0.000000</td>\n",
       "      <td>0.000000</td>\n",
       "      <td>0.000000</td>\n",
       "      <td>0.000000</td>\n",
       "      <td>0.000000</td>\n",
       "      <td>0.000000</td>\n",
       "      <td>0.000000</td>\n",
       "      <td>0.000000</td>\n",
       "      <td>0.000000</td>\n",
       "      <td>0.000000</td>\n",
       "      <td>5.000000e+02</td>\n",
       "      <td>0.000000</td>\n",
       "      <td>0.000000</td>\n",
       "      <td>0.000000</td>\n",
       "      <td>0.000000</td>\n",
       "      <td>0.000000</td>\n",
       "      <td>0.000000</td>\n",
       "      <td>0.000000</td>\n",
       "      <td>0.000000</td>\n",
       "      <td>0.000000</td>\n",
       "      <td>0.000000</td>\n",
       "      <td>0.000000</td>\n",
       "      <td>0.000000</td>\n",
       "      <td>0.000000</td>\n",
       "      <td>5.000000e+02</td>\n",
       "    </tr>\n",
       "    <tr>\n",
       "      <th>25%</th>\n",
       "      <td>0.000000</td>\n",
       "      <td>0.000000</td>\n",
       "      <td>0.000000</td>\n",
       "      <td>0.000000</td>\n",
       "      <td>0.000000</td>\n",
       "      <td>0.000000</td>\n",
       "      <td>0.000000</td>\n",
       "      <td>0.000000</td>\n",
       "      <td>0.000000</td>\n",
       "      <td>0.000000</td>\n",
       "      <td>0.000000</td>\n",
       "      <td>0.000000</td>\n",
       "      <td>0.000000</td>\n",
       "      <td>2.683000e+04</td>\n",
       "      <td>0.000000</td>\n",
       "      <td>0.000000</td>\n",
       "      <td>0.000000</td>\n",
       "      <td>0.000000</td>\n",
       "      <td>0.000000</td>\n",
       "      <td>0.000000</td>\n",
       "      <td>0.000000</td>\n",
       "      <td>0.000000</td>\n",
       "      <td>0.000000</td>\n",
       "      <td>0.000000</td>\n",
       "      <td>0.000000</td>\n",
       "      <td>0.000000</td>\n",
       "      <td>0.000000</td>\n",
       "      <td>2.829500e+04</td>\n",
       "    </tr>\n",
       "    <tr>\n",
       "      <th>50%</th>\n",
       "      <td>0.000000</td>\n",
       "      <td>0.000000</td>\n",
       "      <td>0.000000</td>\n",
       "      <td>0.020724</td>\n",
       "      <td>0.000000</td>\n",
       "      <td>0.000000</td>\n",
       "      <td>0.129102</td>\n",
       "      <td>0.000000</td>\n",
       "      <td>0.005054</td>\n",
       "      <td>0.080611</td>\n",
       "      <td>0.029574</td>\n",
       "      <td>0.000000</td>\n",
       "      <td>0.005435</td>\n",
       "      <td>1.067350e+05</td>\n",
       "      <td>0.000000</td>\n",
       "      <td>0.000000</td>\n",
       "      <td>0.000000</td>\n",
       "      <td>0.006283</td>\n",
       "      <td>0.000000</td>\n",
       "      <td>0.000000</td>\n",
       "      <td>0.122584</td>\n",
       "      <td>0.000000</td>\n",
       "      <td>0.003085</td>\n",
       "      <td>0.079783</td>\n",
       "      <td>0.027464</td>\n",
       "      <td>0.000000</td>\n",
       "      <td>0.006245</td>\n",
       "      <td>9.867500e+04</td>\n",
       "    </tr>\n",
       "    <tr>\n",
       "      <th>75%</th>\n",
       "      <td>0.000000</td>\n",
       "      <td>0.015794</td>\n",
       "      <td>0.480567</td>\n",
       "      <td>0.137031</td>\n",
       "      <td>0.000000</td>\n",
       "      <td>0.024151</td>\n",
       "      <td>0.360385</td>\n",
       "      <td>0.000000</td>\n",
       "      <td>0.143519</td>\n",
       "      <td>0.189475</td>\n",
       "      <td>0.074679</td>\n",
       "      <td>0.000000</td>\n",
       "      <td>0.040052</td>\n",
       "      <td>3.609950e+05</td>\n",
       "      <td>0.000000</td>\n",
       "      <td>0.015368</td>\n",
       "      <td>0.479538</td>\n",
       "      <td>0.132632</td>\n",
       "      <td>0.000000</td>\n",
       "      <td>0.017818</td>\n",
       "      <td>0.366170</td>\n",
       "      <td>0.000000</td>\n",
       "      <td>0.143157</td>\n",
       "      <td>0.187352</td>\n",
       "      <td>0.074531</td>\n",
       "      <td>0.000000</td>\n",
       "      <td>0.036470</td>\n",
       "      <td>3.305050e+05</td>\n",
       "    </tr>\n",
       "    <tr>\n",
       "      <th>max</th>\n",
       "      <td>0.994378</td>\n",
       "      <td>0.358044</td>\n",
       "      <td>1.000000</td>\n",
       "      <td>1.000000</td>\n",
       "      <td>0.935223</td>\n",
       "      <td>0.910516</td>\n",
       "      <td>1.000000</td>\n",
       "      <td>0.071713</td>\n",
       "      <td>1.000000</td>\n",
       "      <td>1.000000</td>\n",
       "      <td>1.000000</td>\n",
       "      <td>0.845701</td>\n",
       "      <td>1.000000</td>\n",
       "      <td>1.331570e+06</td>\n",
       "      <td>0.986804</td>\n",
       "      <td>0.312635</td>\n",
       "      <td>0.992696</td>\n",
       "      <td>1.000000</td>\n",
       "      <td>0.422199</td>\n",
       "      <td>1.000000</td>\n",
       "      <td>1.000000</td>\n",
       "      <td>0.087156</td>\n",
       "      <td>1.000000</td>\n",
       "      <td>1.000000</td>\n",
       "      <td>1.000000</td>\n",
       "      <td>1.000000</td>\n",
       "      <td>1.000000</td>\n",
       "      <td>1.312090e+06</td>\n",
       "    </tr>\n",
       "  </tbody>\n",
       "</table>\n",
       "</div>"
      ],
      "text/plain": [
       "       Appliances_1       Comic_1  ...  Subscription_2       Total_2\n",
       "count  13308.000000  13308.000000  ...    13308.000000  1.330800e+04\n",
       "mean       0.009034      0.009989  ...        0.092222  2.188467e+05\n",
       "std        0.053601      0.019704  ...        0.247936  2.617804e+05\n",
       "min        0.000000      0.000000  ...        0.000000  5.000000e+02\n",
       "25%        0.000000      0.000000  ...        0.000000  2.829500e+04\n",
       "50%        0.000000      0.000000  ...        0.006245  9.867500e+04\n",
       "75%        0.000000      0.015794  ...        0.036470  3.305050e+05\n",
       "max        0.994378      0.358044  ...        1.000000  1.312090e+06\n",
       "\n",
       "[8 rows x 28 columns]"
      ]
     },
     "execution_count": 4,
     "metadata": {
      "tags": []
     },
     "output_type": "execute_result"
    }
   ],
   "source": [
    "# 概要を確認する\n",
    "ECSiteShopping.describe()"
   ]
  },
  {
   "cell_type": "markdown",
   "metadata": {
    "colab_type": "text",
    "id": "vwfEUgY4LuBw"
   },
   "source": [
    "# データの準備\n",
    "* このケースでは標準化は行わない（全て同じ尺度であるため）が、尺度が異なる変数を使ってクラスタリングを行う際は、何かしらのスケーリング（例：標準化）を行う事が好ましい。"
   ]
  },
  {
   "cell_type": "code",
   "execution_count": 5,
   "metadata": {
    "colab": {},
    "colab_type": "code",
    "executionInfo": {
     "elapsed": 37305,
     "status": "ok",
     "timestamp": 1594678343889,
     "user": {
      "displayName": "和田陽一郎",
      "photoUrl": "",
      "userId": "09423029448058105987"
     },
     "user_tz": -540
    },
    "id": "CddCEsUNLuMM"
   },
   "outputs": [],
   "source": [
    "# 利用する変数を取得（今回は上半期データを利用）\n",
    "columnList = [\"Appliances_1\",\"Comic_1\",\"Computer_1\",\"Foods_1\",\"Game_1\",\"Hobby_1\",\"Kitchen_1\",\"Magazine_1\",\"Movie_1\",\"Music_1\",\"Pharmaceuticals_1\",\"Sports_1\",\"Subscription_1\"]\n",
    "X = ECSiteShopping.loc[:,columnList]"
   ]
  },
  {
   "cell_type": "markdown",
   "metadata": {
    "colab_type": "text",
    "id": "9uJFPVbmunoF"
   },
   "source": [
    "# KMeans法によるクラスタリング\n",
    "*   n_clusters：クラスターの数を指定します。\n",
    "*   max_iter：（何度か計算をして再現性のチェックをしてアウトプットするのですが）計算の回数を指定します。\n",
    "*   random_state：分割の閾値を決めるときに乱数をしようする場合があり、その際のシードの値を入力します。（値を定めておくと処理の再現性が得られます）"
   ]
  },
  {
   "cell_type": "code",
   "execution_count": 6,
   "metadata": {
    "colab": {
     "base_uri": "https://localhost:8080/",
     "height": 69
    },
    "colab_type": "code",
    "executionInfo": {
     "elapsed": 37583,
     "status": "ok",
     "timestamp": 1594678344197,
     "user": {
      "displayName": "和田陽一郎",
      "photoUrl": "",
      "userId": "09423029448058105987"
     },
     "user_tz": -540
    },
    "id": "lSpsNMikuXrO",
    "outputId": "d5c0f225-218e-4879-846e-fddb804834a4"
   },
   "outputs": [
    {
     "data": {
      "text/plain": [
       "KMeans(algorithm='auto', copy_x=True, init='k-means++', max_iter=10,\n",
       "       n_clusters=4, n_init=10, n_jobs=None, precompute_distances='auto',\n",
       "       random_state=1234, tol=0.0001, verbose=0)"
      ]
     },
     "execution_count": 6,
     "metadata": {
      "tags": []
     },
     "output_type": "execute_result"
    }
   ],
   "source": [
    "# KMeans法を実施し、クラスターを構築する\n",
    "clf = KMeans(n_clusters=4, max_iter=10, random_state=1234)\n",
    "clf.fit(X)"
   ]
  },
  {
   "cell_type": "code",
   "execution_count": 7,
   "metadata": {
    "colab": {},
    "colab_type": "code",
    "executionInfo": {
     "elapsed": 37552,
     "status": "ok",
     "timestamp": 1594678344200,
     "user": {
      "displayName": "和田陽一郎",
      "photoUrl": "",
      "userId": "09423029448058105987"
     },
     "user_tz": -540
    },
    "id": "OkfwgGTGuX4A"
   },
   "outputs": [],
   "source": [
    "# クラスター番号を付与\n",
    "X[\"Cluster\"] = clf.predict(X)"
   ]
  },
  {
   "cell_type": "code",
   "execution_count": 8,
   "metadata": {
    "colab": {
     "base_uri": "https://localhost:8080/",
     "height": 104
    },
    "colab_type": "code",
    "executionInfo": {
     "elapsed": 37522,
     "status": "ok",
     "timestamp": 1594678344204,
     "user": {
      "displayName": "和田陽一郎",
      "photoUrl": "",
      "userId": "09423029448058105987"
     },
     "user_tz": -540
    },
    "id": "RjGjq0g33WId",
    "outputId": "d6286ba7-955d-4a22-ac54-f2d68772107f"
   },
   "outputs": [
    {
     "data": {
      "text/plain": [
       "1    5171\n",
       "0    4661\n",
       "2    2788\n",
       "3     688\n",
       "Name: Cluster, dtype: int64"
      ]
     },
     "execution_count": 8,
     "metadata": {
      "tags": []
     },
     "output_type": "execute_result"
    }
   ],
   "source": [
    "# クラスター毎の件数を数える\n",
    "X[\"Cluster\"].value_counts()"
   ]
  },
  {
   "cell_type": "code",
   "execution_count": 1,
   "metadata": {
    "colab": {
     "base_uri": "https://localhost:8080/",
     "height": 475
    },
    "colab_type": "code",
    "executionInfo": {
     "elapsed": 38274,
     "status": "ok",
     "timestamp": 1594678344975,
     "user": {
      "displayName": "和田陽一郎",
      "photoUrl": "",
      "userId": "09423029448058105987"
     },
     "user_tz": -540
    },
    "id": "IfR97a7FuYKq",
    "outputId": "cb788f61-32db-4253-96e7-f634fae0b72f"
   },
   "outputs": [
    {
     "ename": "NameError",
     "evalue": "name 'plt' is not defined",
     "output_type": "error",
     "traceback": [
      "\u001b[0;31m---------------------------------------------------------------------------\u001b[0m",
      "\u001b[0;31mNameError\u001b[0m                                 Traceback (most recent call last)",
      "\u001b[0;32m<ipython-input-1-f709cafdf199>\u001b[0m in \u001b[0;36m<module>\u001b[0;34m\u001b[0m\n\u001b[1;32m      1\u001b[0m \u001b[0;31m# クラスター毎の特徴を読み取る\u001b[0m\u001b[0;34m\u001b[0m\u001b[0;34m\u001b[0m\u001b[0;34m\u001b[0m\u001b[0m\n\u001b[0;32m----> 2\u001b[0;31m \u001b[0mplt\u001b[0m\u001b[0;34m.\u001b[0m\u001b[0mfigure\u001b[0m\u001b[0;34m(\u001b[0m\u001b[0mfigsize\u001b[0m\u001b[0;34m=\u001b[0m\u001b[0;34m(\u001b[0m\u001b[0;36m15\u001b[0m\u001b[0;34m,\u001b[0m\u001b[0;36m6\u001b[0m\u001b[0;34m)\u001b[0m\u001b[0;34m)\u001b[0m\u001b[0;34m\u001b[0m\u001b[0;34m\u001b[0m\u001b[0m\n\u001b[0m\u001b[1;32m      3\u001b[0m \u001b[0msns\u001b[0m\u001b[0;34m.\u001b[0m\u001b[0mheatmap\u001b[0m\u001b[0;34m(\u001b[0m\u001b[0mX\u001b[0m\u001b[0;34m.\u001b[0m\u001b[0mgroupby\u001b[0m\u001b[0;34m(\u001b[0m\u001b[0;34m\"Cluster\"\u001b[0m\u001b[0;34m)\u001b[0m\u001b[0;34m.\u001b[0m\u001b[0mmean\u001b[0m\u001b[0;34m(\u001b[0m\u001b[0;34m)\u001b[0m\u001b[0;34m,\u001b[0m \u001b[0mannot\u001b[0m\u001b[0;34m=\u001b[0m\u001b[0;32mTrue\u001b[0m\u001b[0;34m,\u001b[0m \u001b[0mcmap\u001b[0m\u001b[0;34m=\u001b[0m\u001b[0;34m\"summer\"\u001b[0m\u001b[0;34m)\u001b[0m\u001b[0;34m;\u001b[0m\u001b[0;34m\u001b[0m\u001b[0;34m\u001b[0m\u001b[0m\n",
      "\u001b[0;31mNameError\u001b[0m: name 'plt' is not defined"
     ]
    }
   ],
   "source": [
    "# クラスター毎の特徴を読み取る\n",
    "plt.figure(figsize=(15,6))\n",
    "sns.heatmap(X.groupby(\"Cluster\").mean(), annot=True, cmap=\"summer\");"
   ]
  },
  {
   "cell_type": "markdown",
   "metadata": {
    "colab_type": "text",
    "id": "6J5ogZqD7pKo"
   },
   "source": [
    "# 指標に基づくクラスター数の検討（エルボー法）"
   ]
  },
  {
   "cell_type": "code",
   "execution_count": 10,
   "metadata": {
    "colab": {
     "base_uri": "https://localhost:8080/",
     "height": 297
    },
    "colab_type": "code",
    "executionInfo": {
     "elapsed": 41079,
     "status": "ok",
     "timestamp": 1594678347794,
     "user": {
      "displayName": "和田陽一郎",
      "photoUrl": "",
      "userId": "09423029448058105987"
     },
     "user_tz": -540
    },
    "id": "EEOsmACE6jJE",
    "outputId": "a8a23f2b-0dae-41af-cef6-8c73a67d309b"
   },
   "outputs": [
    {
     "data": {
      "text/plain": [
       "Text(0, 0.5, 'Distortion')"
      ]
     },
     "execution_count": 10,
     "metadata": {
      "tags": []
     },
     "output_type": "execute_result"
    },
    {
     "data": {
      "image/png": "[encoded data removed]",
      "text/plain": [
       "<Figure size 432x288 with 1 Axes>"
      ]
     },
     "metadata": {
      "needs_background": "light",
      "tags": []
     },
     "output_type": "display_data"
    }
   ],
   "source": [
    "# エルボー法によりクラスター数の検討を行う\n",
    "dist_list = []\n",
    "for i in range(1,10):\n",
    "  clf = KMeans(n_clusters=i, max_iter=10, random_state=1234)\n",
    "  clf.fit(X)\n",
    "  dist_list.append(clf.inertia_)\n",
    "\n",
    "# グラフ化\n",
    "plt.plot(range(1,10), dist_list, marker='+')\n",
    "plt.xlabel('N_CLUSTERS')\n",
    "plt.ylabel('Distortion')"
   ]
  }
 ],
 "metadata": {
  "colab": {
   "authorship_tag": "ABX9TyOoeL46Q/EAPJVq7iPhmnN0",
   "collapsed_sections": [],
   "name": "ds_tech_exe_5_5_KMeans.ipynb",
   "provenance": []
  },
  "kernelspec": {
   "display_name": "Python 3",
   "language": "python",
   "name": "python3"
  },
  "language_info": {
   "codemirror_mode": {
    "name": "ipython",
    "version": 3
   },
   "file_extension": ".py",
   "mimetype": "text/x-python",
   "name": "python",
   "nbconvert_exporter": "python",
   "pygments_lexer": "ipython3",
   "version": "3.7.4"
  }
 },
 "nbformat": 4,
 "nbformat_minor": 1
}
