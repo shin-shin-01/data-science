{
 "cells": [
  {
   "cell_type": "markdown",
   "metadata": {
    "colab_type": "text",
    "id": "6RujyVsYNASn"
   },
   "source": [
    "# 必要なライブラリをインポート"
   ]
  },
  {
   "cell_type": "code",
   "execution_count": 1,
   "metadata": {
    "colab": {
     "base_uri": "https://localhost:8080/",
     "height": 72
    },
    "colab_type": "code",
    "executionInfo": {
     "elapsed": 2115,
     "status": "ok",
     "timestamp": 1594071672959,
     "user": {
      "displayName": "和田陽一郎",
      "photoUrl": "",
      "userId": "09423029448058105987"
     },
     "user_tz": -540
    },
    "id": "vVYcl18yNFbn",
    "outputId": "7a309a5f-56bc-4a75-9490-a10c8bbbfb25"
   },
   "outputs": [
    {
     "name": "stderr",
     "output_type": "stream",
     "text": [
      "/usr/local/lib/python3.6/dist-packages/statsmodels/tools/_testing.py:19: FutureWarning: pandas.util.testing is deprecated. Use the functions in the public API at pandas.testing instead.\n",
      "  import pandas.util.testing as tm\n"
     ]
    }
   ],
   "source": [
    "# サンプルデータセットが用意されているライブラリ sklearn.datasets から\n",
    "# ボストンの住宅価格データを取得するためのメソッド load_boston をインポート\n",
    "from sklearn.datasets import load_boston\n",
    "\n",
    "# pandas のインポート\n",
    "import pandas as pd\n",
    "\n",
    "# 機械学習用ライブラリ sklearn（scikit-learn）内にあるライブラリ  から\n",
    "# モデル構築（訓練用）/検証データ分割用メソッド train_test_split をインポート\n",
    "from sklearn.model_selection import train_test_split\n",
    "\n",
    "# 機械学習用ライブラリ sklearn（scikit-learn）から線形回帰用クラス linear_model をインポート \n",
    "from sklearn import linear_model\n",
    "\n",
    "# 機械学習用ライブラリ sklearn（scikit-learn）内にあるライブラリ preprocessing から\n",
    "# 標準化用クラス StandardScaler をインポート \n",
    "from sklearn.preprocessing import StandardScaler\n",
    "\n",
    "# 統計解析用ライブラリ statsmodels 内にあるライブラリ stats.outliers_influence から\n",
    "# 分散拡大係数（VIF）計算用メソッド variance_inflation_factor をインポート\n",
    "from statsmodels.stats.outliers_influence import variance_inflation_factor\n",
    "\n",
    "# 精度評価指標を計算するためのメソッドをインポート\n",
    "#   ・r2_score：決定係数\n",
    "#   ・mean_squared_error：平均二乗誤差\n",
    "#   ・mean_absolute_error：平均絶対誤差\n",
    "#   ・median_absolute_error：Median Absolute Error\n",
    "from sklearn.metrics import r2_score, mean_squared_error, mean_absolute_error, median_absolute_error\n",
    "\n",
    "# オブジェクトのコピーを行うためのモジュール copy をインポート\n",
    "import copy\n",
    "\n",
    "# 数学的な関数を使うためのライブラリ math をインポート\n",
    "import math\n",
    "\n",
    "# グラフ描画用ライブラリ matplotlib、seaborn をインポート\n",
    "import matplotlib.pyplot as plt\n",
    "import seaborn as sns"
   ]
  },
  {
   "cell_type": "markdown",
   "metadata": {
    "colab_type": "text",
    "id": "SNjzL0Q2K1wY"
   },
   "source": [
    "# 分散拡大係数（VIF）を確認するための関数を定義しておく"
   ]
  },
  {
   "cell_type": "code",
   "execution_count": 2,
   "metadata": {
    "colab": {},
    "colab_type": "code",
    "executionInfo": {
     "elapsed": 2113,
     "status": "ok",
     "timestamp": 1594071672965,
     "user": {
      "displayName": "和田陽一郎",
      "photoUrl": "",
      "userId": "09423029448058105987"
     },
     "user_tz": -540
    },
    "id": "_SSjBOYZK17n"
   },
   "outputs": [],
   "source": [
    "# 投入したデータセットの全ての変数についてVIFを計算する関数 checkVIF の定義\n",
    "def checkVIF( ExplanatoryVarDataSet ):\n",
    "  tmp_columnList = ExplanatoryVarDataSet.columns\n",
    "  vifList = []\n",
    "  for i in range(len(tmp_columnList)):\n",
    "    colname = tmp_columnList[i]\n",
    "    vif = variance_inflation_factor(ExplanatoryVarDataSet.values, i)\n",
    "    vifList.append( [ colname, vif ] )\n",
    "  return  pd.DataFrame( vifList, columns=[\"COLUMN\",\"VIF\"] )"
   ]
  },
  {
   "cell_type": "markdown",
   "metadata": {
    "colab_type": "text",
    "id": "zdfVbqNH5dH5"
   },
   "source": [
    "# データの読み込み"
   ]
  },
  {
   "cell_type": "code",
   "execution_count": 3,
   "metadata": {
    "colab": {
     "base_uri": "https://localhost:8080/",
     "height": 204
    },
    "colab_type": "code",
    "executionInfo": {
     "elapsed": 2530,
     "status": "ok",
     "timestamp": 1594071673400,
     "user": {
      "displayName": "和田陽一郎",
      "photoUrl": "",
      "userId": "09423029448058105987"
     },
     "user_tz": -540
    },
    "id": "J6c2ovdqsoxw",
    "outputId": "78da63d4-8a1f-4478-8aea-c4760ae5d673"
   },
   "outputs": [
    {
     "data": {
      "text/html": [
       "<div>\n",
       "<style scoped>\n",
       "    .dataframe tbody tr th:only-of-type {\n",
       "        vertical-align: middle;\n",
       "    }\n",
       "\n",
       "    .dataframe tbody tr th {\n",
       "        vertical-align: top;\n",
       "    }\n",
       "\n",
       "    .dataframe thead th {\n",
       "        text-align: right;\n",
       "    }\n",
       "</style>\n",
       "<table border=\"1\" class=\"dataframe\">\n",
       "  <thead>\n",
       "    <tr style=\"text-align: right;\">\n",
       "      <th></th>\n",
       "      <th>CRIM</th>\n",
       "      <th>ZN</th>\n",
       "      <th>INDUS</th>\n",
       "      <th>CHAS</th>\n",
       "      <th>NOX</th>\n",
       "      <th>RM</th>\n",
       "      <th>AGE</th>\n",
       "      <th>DIS</th>\n",
       "      <th>RAD</th>\n",
       "      <th>TAX</th>\n",
       "      <th>PTRATIO</th>\n",
       "      <th>B</th>\n",
       "      <th>LSTAT</th>\n",
       "      <th>MEDV</th>\n",
       "    </tr>\n",
       "  </thead>\n",
       "  <tbody>\n",
       "    <tr>\n",
       "      <th>0</th>\n",
       "      <td>0.00632</td>\n",
       "      <td>18.0</td>\n",
       "      <td>2.31</td>\n",
       "      <td>0.0</td>\n",
       "      <td>0.538</td>\n",
       "      <td>6.575</td>\n",
       "      <td>65.2</td>\n",
       "      <td>4.0900</td>\n",
       "      <td>1.0</td>\n",
       "      <td>296.0</td>\n",
       "      <td>15.3</td>\n",
       "      <td>396.90</td>\n",
       "      <td>4.98</td>\n",
       "      <td>24.0</td>\n",
       "    </tr>\n",
       "    <tr>\n",
       "      <th>1</th>\n",
       "      <td>0.02731</td>\n",
       "      <td>0.0</td>\n",
       "      <td>7.07</td>\n",
       "      <td>0.0</td>\n",
       "      <td>0.469</td>\n",
       "      <td>6.421</td>\n",
       "      <td>78.9</td>\n",
       "      <td>4.9671</td>\n",
       "      <td>2.0</td>\n",
       "      <td>242.0</td>\n",
       "      <td>17.8</td>\n",
       "      <td>396.90</td>\n",
       "      <td>9.14</td>\n",
       "      <td>21.6</td>\n",
       "    </tr>\n",
       "    <tr>\n",
       "      <th>2</th>\n",
       "      <td>0.02729</td>\n",
       "      <td>0.0</td>\n",
       "      <td>7.07</td>\n",
       "      <td>0.0</td>\n",
       "      <td>0.469</td>\n",
       "      <td>7.185</td>\n",
       "      <td>61.1</td>\n",
       "      <td>4.9671</td>\n",
       "      <td>2.0</td>\n",
       "      <td>242.0</td>\n",
       "      <td>17.8</td>\n",
       "      <td>392.83</td>\n",
       "      <td>4.03</td>\n",
       "      <td>34.7</td>\n",
       "    </tr>\n",
       "    <tr>\n",
       "      <th>3</th>\n",
       "      <td>0.03237</td>\n",
       "      <td>0.0</td>\n",
       "      <td>2.18</td>\n",
       "      <td>0.0</td>\n",
       "      <td>0.458</td>\n",
       "      <td>6.998</td>\n",
       "      <td>45.8</td>\n",
       "      <td>6.0622</td>\n",
       "      <td>3.0</td>\n",
       "      <td>222.0</td>\n",
       "      <td>18.7</td>\n",
       "      <td>394.63</td>\n",
       "      <td>2.94</td>\n",
       "      <td>33.4</td>\n",
       "    </tr>\n",
       "    <tr>\n",
       "      <th>4</th>\n",
       "      <td>0.06905</td>\n",
       "      <td>0.0</td>\n",
       "      <td>2.18</td>\n",
       "      <td>0.0</td>\n",
       "      <td>0.458</td>\n",
       "      <td>7.147</td>\n",
       "      <td>54.2</td>\n",
       "      <td>6.0622</td>\n",
       "      <td>3.0</td>\n",
       "      <td>222.0</td>\n",
       "      <td>18.7</td>\n",
       "      <td>396.90</td>\n",
       "      <td>5.33</td>\n",
       "      <td>36.2</td>\n",
       "    </tr>\n",
       "  </tbody>\n",
       "</table>\n",
       "</div>"
      ],
      "text/plain": [
       "      CRIM    ZN  INDUS  CHAS    NOX  ...    TAX  PTRATIO       B  LSTAT  MEDV\n",
       "0  0.00632  18.0   2.31   0.0  0.538  ...  296.0     15.3  396.90   4.98  24.0\n",
       "1  0.02731   0.0   7.07   0.0  0.469  ...  242.0     17.8  396.90   9.14  21.6\n",
       "2  0.02729   0.0   7.07   0.0  0.469  ...  242.0     17.8  392.83   4.03  34.7\n",
       "3  0.03237   0.0   2.18   0.0  0.458  ...  222.0     18.7  394.63   2.94  33.4\n",
       "4  0.06905   0.0   2.18   0.0  0.458  ...  222.0     18.7  396.90   5.33  36.2\n",
       "\n",
       "[5 rows x 14 columns]"
      ]
     },
     "execution_count": 3,
     "metadata": {
      "tags": []
     },
     "output_type": "execute_result"
    }
   ],
   "source": [
    "# ボストン住宅価格データを読み込む\n",
    "loadBoston = load_boston()\n",
    "boston = pd.DataFrame(loadBoston.data, columns = loadBoston.feature_names)\n",
    "boston[\"MEDV\"] = loadBoston.target\n",
    "boston.head()"
   ]
  },
  {
   "cell_type": "markdown",
   "metadata": {
    "colab_type": "text",
    "id": "vwfEUgY4LuBw"
   },
   "source": [
    "# 全データをモデル構築用データ、モデル検証用データに分割する"
   ]
  },
  {
   "cell_type": "code",
   "execution_count": 4,
   "metadata": {
    "colab": {
     "base_uri": "https://localhost:8080/",
     "height": 87
    },
    "colab_type": "code",
    "executionInfo": {
     "elapsed": 2519,
     "status": "ok",
     "timestamp": 1594071673405,
     "user": {
      "displayName": "和田陽一郎",
      "photoUrl": "",
      "userId": "09423029448058105987"
     },
     "user_tz": -540
    },
    "id": "CddCEsUNLuMM",
    "outputId": "162dc5e1-f1a8-40a1-9c95-52f34e48c711"
   },
   "outputs": [
    {
     "name": "stdout",
     "output_type": "stream",
     "text": [
      "(354, 13)\n",
      "(152, 13)\n",
      "(354, 1)\n",
      "(152, 1)\n"
     ]
    }
   ],
   "source": [
    "# 目的変数と説明変数に分割\n",
    "columnList = boston.columns.values.tolist()\n",
    "columnList.remove(\"MEDV\")\n",
    "X = boston.loc[:,columnList]\n",
    "y = boston.loc[:,[\"MEDV\"]]\n",
    "\n",
    "# モデル構築用データ、モデル検証用データに分割（70:30に分割）\n",
    "X_train, X_test, y_train, y_test = train_test_split(X, y, test_size=0.3, random_state=42)\n",
    "print(X_train.shape)\n",
    "print(X_test.shape)\n",
    "print(y_train.shape)\n",
    "print(y_test.shape)"
   ]
  },
  {
   "cell_type": "markdown",
   "metadata": {
    "colab_type": "text",
    "id": "bH_JHaEF8eNM"
   },
   "source": [
    "# 標準化の実施"
   ]
  },
  {
   "cell_type": "code",
   "execution_count": 5,
   "metadata": {
    "colab": {},
    "colab_type": "code",
    "executionInfo": {
     "elapsed": 2519,
     "status": "ok",
     "timestamp": 1594071673410,
     "user": {
      "displayName": "和田陽一郎",
      "photoUrl": "",
      "userId": "09423029448058105987"
     },
     "user_tz": -540
    },
    "id": "M2foNyM8DiIJ"
   },
   "outputs": [],
   "source": [
    "# X_train のデータを使い標準化パラメータを獲得してから、X_train、X_test に対して標準化を実施\n",
    "scaler_X = StandardScaler()\n",
    "scaler_X.fit( X_train )\n",
    "X_train_std = pd.DataFrame(scaler_X.transform(X_train), columns=columnList)\n",
    "X_test_std = pd.DataFrame(scaler_X.transform(X_test), columns=columnList)"
   ]
  },
  {
   "cell_type": "code",
   "execution_count": 6,
   "metadata": {
    "colab": {},
    "colab_type": "code",
    "executionInfo": {
     "elapsed": 2518,
     "status": "ok",
     "timestamp": 1594071673414,
     "user": {
      "displayName": "和田陽一郎",
      "photoUrl": "",
      "userId": "09423029448058105987"
     },
     "user_tz": -540
    },
    "id": "laij0-V0M8cM"
   },
   "outputs": [],
   "source": [
    "# y_train のデータを使い標準化パラメータを獲得してから、y_train、y_test に対して標準化を実施\n",
    "scaler_y = StandardScaler()\n",
    "scaler_y.fit( y_train )\n",
    "y_train_std = pd.DataFrame(scaler_y.transform(y_train), columns=[\"MEDV\"])\n",
    "y_test_std = pd.DataFrame(scaler_y.transform(y_test), columns=[\"MEDV\"])"
   ]
  },
  {
   "cell_type": "markdown",
   "metadata": {
    "colab_type": "text",
    "id": "xpMbp04EJZlU"
   },
   "source": [
    "# 重回帰分析を実行する"
   ]
  },
  {
   "cell_type": "code",
   "execution_count": 19,
   "metadata": {
    "colab": {
     "base_uri": "https://localhost:8080/",
     "height": 34
    },
    "colab_type": "code",
    "executionInfo": {
     "elapsed": 1026,
     "status": "ok",
     "timestamp": 1594071978614,
     "user": {
      "displayName": "和田陽一郎",
      "photoUrl": "",
      "userId": "09423029448058105987"
     },
     "user_tz": -540
    },
    "id": "msJSYeKMG7PH",
    "outputId": "8164061f-d386-4a25-de98-3bbddae8c538"
   },
   "outputs": [
    {
     "data": {
      "text/plain": [
       "LinearRegression(copy_X=True, fit_intercept=True, n_jobs=None, normalize=False)"
      ]
     },
     "execution_count": 19,
     "metadata": {
      "tags": []
     },
     "output_type": "execute_result"
    }
   ],
   "source": [
    "# 重回帰分析を実行するためのインスタンスを生成\n",
    "reg = linear_model.LinearRegression()\n",
    "\n",
    "# 重回帰分析を実行（後で多重共線性が確認された場合（VIFが10以上）、columnList から変数を取り除く\n",
    "# ※ columnList.remove(\"変数名\") で削除可能）\n",
    "reg.fit(X_train_std[columnList], y_train_std)"
   ]
  },
  {
   "cell_type": "code",
   "execution_count": 20,
   "metadata": {
    "colab": {
     "base_uri": "https://localhost:8080/",
     "height": 104
    },
    "colab_type": "code",
    "executionInfo": {
     "elapsed": 949,
     "status": "ok",
     "timestamp": 1594071978616,
     "user": {
      "displayName": "和田陽一郎",
      "photoUrl": "",
      "userId": "09423029448058105987"
     },
     "user_tz": -540
    },
    "id": "iHwXYyBzX-jT",
    "outputId": "84826a2e-9675-44ae-e761-58b8f4b98212"
   },
   "outputs": [
    {
     "name": "stdout",
     "output_type": "stream",
     "text": [
      "['CRIM', 'ZN', 'INDUS', 'CHAS', 'NOX', 'RM', 'AGE', 'DIS', 'RAD', 'TAX', 'PTRATIO', 'B', 'LSTAT']\n",
      "[-0.1182196   0.0862307   0.0365998   0.08680927 -0.19178481  0.31080108\n",
      " -0.03188577 -0.31385735  0.22337309 -0.15434866 -0.21890703  0.10919653\n",
      " -0.41447035]\n",
      "-1.3926342469197362e-16\n"
     ]
    }
   ],
   "source": [
    "# 分析結果として、回帰係数（reg.coef_）、切片（reg.intercept_）を表示する\n",
    "print(columnList)\n",
    "print(reg.coef_[0])\n",
    "print(reg.intercept_[0])"
   ]
  },
  {
   "cell_type": "code",
   "execution_count": 21,
   "metadata": {
    "colab": {
     "base_uri": "https://localhost:8080/",
     "height": 452
    },
    "colab_type": "code",
    "executionInfo": {
     "elapsed": 917,
     "status": "ok",
     "timestamp": 1594071978617,
     "user": {
      "displayName": "和田陽一郎",
      "photoUrl": "",
      "userId": "09423029448058105987"
     },
     "user_tz": -540
    },
    "id": "F_LX_eM8KnSF",
    "outputId": "b69a4890-2387-42b2-a4e2-f50c95af7e44"
   },
   "outputs": [
    {
     "data": {
      "text/html": [
       "<div>\n",
       "<style scoped>\n",
       "    .dataframe tbody tr th:only-of-type {\n",
       "        vertical-align: middle;\n",
       "    }\n",
       "\n",
       "    .dataframe tbody tr th {\n",
       "        vertical-align: top;\n",
       "    }\n",
       "\n",
       "    .dataframe thead th {\n",
       "        text-align: right;\n",
       "    }\n",
       "</style>\n",
       "<table border=\"1\" class=\"dataframe\">\n",
       "  <thead>\n",
       "    <tr style=\"text-align: right;\">\n",
       "      <th></th>\n",
       "      <th>COLUMN</th>\n",
       "      <th>VIF</th>\n",
       "      <th>COEF</th>\n",
       "    </tr>\n",
       "  </thead>\n",
       "  <tbody>\n",
       "    <tr>\n",
       "      <th>0</th>\n",
       "      <td>CRIM</td>\n",
       "      <td>1.731586</td>\n",
       "      <td>-0.118220</td>\n",
       "    </tr>\n",
       "    <tr>\n",
       "      <th>1</th>\n",
       "      <td>ZN</td>\n",
       "      <td>2.394452</td>\n",
       "      <td>0.086231</td>\n",
       "    </tr>\n",
       "    <tr>\n",
       "      <th>2</th>\n",
       "      <td>INDUS</td>\n",
       "      <td>3.836487</td>\n",
       "      <td>0.036600</td>\n",
       "    </tr>\n",
       "    <tr>\n",
       "      <th>3</th>\n",
       "      <td>CHAS</td>\n",
       "      <td>1.102642</td>\n",
       "      <td>0.086809</td>\n",
       "    </tr>\n",
       "    <tr>\n",
       "      <th>4</th>\n",
       "      <td>NOX</td>\n",
       "      <td>4.627219</td>\n",
       "      <td>-0.191785</td>\n",
       "    </tr>\n",
       "    <tr>\n",
       "      <th>5</th>\n",
       "      <td>RM</td>\n",
       "      <td>1.913056</td>\n",
       "      <td>0.310801</td>\n",
       "    </tr>\n",
       "    <tr>\n",
       "      <th>6</th>\n",
       "      <td>AGE</td>\n",
       "      <td>2.996110</td>\n",
       "      <td>-0.031886</td>\n",
       "    </tr>\n",
       "    <tr>\n",
       "      <th>7</th>\n",
       "      <td>DIS</td>\n",
       "      <td>3.971023</td>\n",
       "      <td>-0.313857</td>\n",
       "    </tr>\n",
       "    <tr>\n",
       "      <th>8</th>\n",
       "      <td>RAD</td>\n",
       "      <td>7.534681</td>\n",
       "      <td>0.223373</td>\n",
       "    </tr>\n",
       "    <tr>\n",
       "      <th>9</th>\n",
       "      <td>TAX</td>\n",
       "      <td>8.879471</td>\n",
       "      <td>-0.154349</td>\n",
       "    </tr>\n",
       "    <tr>\n",
       "      <th>10</th>\n",
       "      <td>PTRATIO</td>\n",
       "      <td>1.821880</td>\n",
       "      <td>-0.218907</td>\n",
       "    </tr>\n",
       "    <tr>\n",
       "      <th>11</th>\n",
       "      <td>B</td>\n",
       "      <td>1.265533</td>\n",
       "      <td>0.109197</td>\n",
       "    </tr>\n",
       "    <tr>\n",
       "      <th>12</th>\n",
       "      <td>LSTAT</td>\n",
       "      <td>2.679332</td>\n",
       "      <td>-0.414470</td>\n",
       "    </tr>\n",
       "  </tbody>\n",
       "</table>\n",
       "</div>"
      ],
      "text/plain": [
       "     COLUMN       VIF      COEF\n",
       "0      CRIM  1.731586 -0.118220\n",
       "1        ZN  2.394452  0.086231\n",
       "2     INDUS  3.836487  0.036600\n",
       "3      CHAS  1.102642  0.086809\n",
       "4       NOX  4.627219 -0.191785\n",
       "5        RM  1.913056  0.310801\n",
       "6       AGE  2.996110 -0.031886\n",
       "7       DIS  3.971023 -0.313857\n",
       "8       RAD  7.534681  0.223373\n",
       "9       TAX  8.879471 -0.154349\n",
       "10  PTRATIO  1.821880 -0.218907\n",
       "11        B  1.265533  0.109197\n",
       "12    LSTAT  2.679332 -0.414470"
      ]
     },
     "execution_count": 21,
     "metadata": {
      "tags": []
     },
     "output_type": "execute_result"
    }
   ],
   "source": [
    "# 多重共線性を確認する（）\n",
    "vif = checkVIF(X_train_std[columnList])\n",
    "vif[\"COEF\"] = reg.coef_[0]\n",
    "vif"
   ]
  },
  {
   "cell_type": "code",
   "execution_count": 22,
   "metadata": {
    "colab": {
     "base_uri": "https://localhost:8080/",
     "height": 87
    },
    "colab_type": "code",
    "executionInfo": {
     "elapsed": 906,
     "status": "ok",
     "timestamp": 1594071978619,
     "user": {
      "displayName": "和田陽一郎",
      "photoUrl": "",
      "userId": "09423029448058105987"
     },
     "user_tz": -540
    },
    "id": "GECqji8YX-dO",
    "outputId": "7548af73-987f-46a7-89e8-c656e7c2e897"
   },
   "outputs": [
    {
     "name": "stdout",
     "output_type": "stream",
     "text": [
      "R2 SCORE:0.7434997532004697\n",
      "MSE:0.25650024679953026\n",
      "MAE:0.35804949691064236\n",
      "MedianAE:0.2703717627040221\n"
     ]
    }
   ],
   "source": [
    "# モデル構築用データについて各精度評価指標を計算する\n",
    "print(\"R2 SCORE:\" + str(r2_score(y_train_std, reg.predict(X_train_std[columnList]))) )\n",
    "print(\"MSE:\" + str(mean_squared_error(y_train_std, reg.predict(X_train_std[columnList]))) )\n",
    "print(\"MAE:\" + str(mean_absolute_error(y_train_std, reg.predict(X_train_std[columnList]))) )\n",
    "print(\"MedianAE:\" + str(median_absolute_error(y_train_std, reg.predict(X_train_std[columnList]))) )"
   ]
  },
  {
   "cell_type": "code",
   "execution_count": 23,
   "metadata": {
    "colab": {
     "base_uri": "https://localhost:8080/",
     "height": 87
    },
    "colab_type": "code",
    "executionInfo": {
     "elapsed": 1444,
     "status": "ok",
     "timestamp": 1594071979171,
     "user": {
      "displayName": "和田陽一郎",
      "photoUrl": "",
      "userId": "09423029448058105987"
     },
     "user_tz": -540
    },
    "id": "OfcX2qunNMOt",
    "outputId": "aa2a932a-24fd-4c1f-86e0-3792b924551e"
   },
   "outputs": [
    {
     "name": "stdout",
     "output_type": "stream",
     "text": [
      "R2 SCORE:0.7112260057484933\n",
      "MSE:0.2448042530771131\n",
      "MAE:0.3373443885651479\n",
      "MedianAE:0.2530256207982074\n"
     ]
    }
   ],
   "source": [
    "# モデル検証用データについて各精度評価指標を計算する\n",
    "print(\"R2 SCORE:\" + str(r2_score(y_test_std, reg.predict(X_test_std[columnList]))) )\n",
    "print(\"MSE:\" + str(mean_squared_error(y_test_std, reg.predict(X_test_std[columnList]))) )\n",
    "print(\"MAE:\" + str(mean_absolute_error(y_test_std, reg.predict(X_test_std[columnList]))) )\n",
    "print(\"MedianAE:\" + str(median_absolute_error(y_test_std, reg.predict(X_test_std[columnList]))) )"
   ]
  }
 ],
 "metadata": {
  "colab": {
   "authorship_tag": "ABX9TyMxRK9E78zGNJGdjZZukRE8",
   "collapsed_sections": [],
   "name": "ds_tech_exe_3_1_LinearReg.ipynb",
   "provenance": []
  },
  "kernelspec": {
   "display_name": "Python 3",
   "language": "python",
   "name": "python3"
  },
  "language_info": {
   "codemirror_mode": {
    "name": "ipython",
    "version": 3
   },
   "file_extension": ".py",
   "mimetype": "text/x-python",
   "name": "python",
   "nbconvert_exporter": "python",
   "pygments_lexer": "ipython3",
   "version": "3.7.4"
  }
 },
 "nbformat": 4,
 "nbformat_minor": 1
}
